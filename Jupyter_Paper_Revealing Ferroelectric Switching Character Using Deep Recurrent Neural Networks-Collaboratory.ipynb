{
  "nbformat": 4,
  "nbformat_minor": 0,
  "metadata": {
    "kernelspec": {
      "name": "python3",
      "display_name": "Python 3"
    },
    "language_info": {
      "codemirror_mode": {
        "name": "ipython",
        "version": 3
      },
      "file_extension": ".py",
      "mimetype": "text/x-python",
      "name": "python",
      "nbconvert_exporter": "python",
      "pygments_lexer": "ipython3",
      "version": "3.6.6"
    },
    "colab": {
      "name": "Jupyter_Paper_Revealing Ferroelectric Switching Character Using Deep Recurrent Neural Networks-Collaboratory.ipynb",
      "version": "0.3.2",
      "provenance": [],
      "toc_visible": true,
      "include_colab_link": true
    },
    "accelerator": "GPU"
  },
  "cells": [
    {
      "cell_type": "markdown",
      "metadata": {
        "id": "view-in-github",
        "colab_type": "text"
      },
      "source": [
        "<a href=\"https://colab.research.google.com/github/jagar2/Revealing-Ferroelectric-Switching-Character-Using-Deep-Recurrent-Neural-Networks/blob/master/Jupyter_Paper_Revealing%20Ferroelectric%20Switching%20Character%20Using%20Deep%20Recurrent%20Neural%20Networks-Collaboratory.ipynb\" target=\"_parent\"><img src=\"https://colab.research.google.com/assets/colab-badge.svg\" alt=\"Open In Colab\"/></a>"
      ]
    },
    {
      "cell_type": "markdown",
      "metadata": {
        "id": "u6Iw4cLY8P8M",
        "colab_type": "text"
      },
      "source": [
        "# Revealing Ferroelectric Switching Character Using Deep Recurrent Neural Networks"
      ]
    },
    {
      "cell_type": "markdown",
      "metadata": {
        "id": "Ys4A_gps8P8O",
        "colab_type": "text"
      },
      "source": [
        "Joshua C. Agar<sup>1,2,3*</sup>, Brett Naul<sup>4</sup>, Shishir Pandya<sup>1</sup>, Stefan van der Walt<sup>5</sup>, Joshua Maher<sup>1</sup>, Ren Yao<sup>6</sup>, Long-Qing Chen<sup>7</sup>, Sergei V. Kalinin<sup>8</sup>, Rama K. Vasudevan<sup>8</sup>, Ye Cao<sup>6</sup>, Joshua S. Bloom<sup>4</sup>, and Lane W. Martin<sup>1,2*</sup>\n",
        "\n",
        "<sup>1</sup> \tDepartment of Materials Science and Engineering, University of California, Berkeley, Berkeley, CA 94720, USA  \n",
        "<sup>2</sup> \tMaterials Sciences Division, Lawrence Berkeley National Laboratory, Berkeley, CA 94720, USA  \n",
        "<sup>3</sup> \tDepartment of Materials Science and Engineering, Lehigh University, Bethlehem, PA 18015, USA  \n",
        "<sup>4</sup> \tDepartment of Astronomy, University of California, Berkeley, Berkeley, CA 94720, USA  \n",
        "<sup>5</sup>\tBerkeley Institute of Data Science, University of California, Berkeley, Berkeley, CA 94720, USA  \n",
        "<sup>6</sup> \tDepartment of Materials Science and Engineering, University Texas at Arlington, Arlington, TX 76019, USA  \n",
        "<sup>7</sup> \tDepartment of Materials Science and Engineering and Materials Research Institute, The Pennsylvania State University, University Park, PA 16802-5006, USA  \n",
        "<sup>8</sup> \tCenter for Nanophase Materials Sciences, Oak Ridge National Laboratory, Oak Ridge, TN 37830, USA  \n",
        "*joshua.agar@lehigh.edu, lwmartin@berkeley.edu\n",
        "\n",
        "Keywords: ferroelectric, switching, domains, scanning-probe microscopy, neural network"
      ]
    },
    {
      "cell_type": "markdown",
      "metadata": {
        "id": "6YEXyODLM_E5",
        "colab_type": "text"
      },
      "source": [
        "# Abstract\n",
        "\n",
        "The ability to manipulate domains underpins function in applications of ferroelectrics. While there have been demonstrations of controlled nanoscale manipulation of domain structures to drive emergent properties, such approaches lack an internal feedback loop required for automatic manipulation. Here, using a deep sequence-to-sequence autoencoder we automate the extraction of latent features of nanoscale ferroelectric switching from piezoresponse force spectroscopy of tensile-strained PbZr<sub>0.2</sub>Ti<sub>0.8</sub>O<sub>3</sub> with a hierarchical domain structure. We identify characteristic behavior in the piezoresponse and cantilever resonance hysteresis loops, which allows for the classification and quantification of nanoscale-switching mechanisms. Specifically, we identify elastic hardening events which are associated with the nucleation and growth of charged domain walls. This work demonstrates the efficacy of unsupervised neural networks in learning features of a materials physical response from nanoscale multichannel hyperspectral imagery and provides new capabilities in leveraging in operando spectroscopies that could enable the automated manipulation of nanoscale structures in materials."
      ]
    },
    {
      "cell_type": "markdown",
      "metadata": {
        "id": "TOHoVhuqNsbB",
        "colab_type": "text"
      },
      "source": [
        "# Introduction:\n",
        "The ability to create and manipulate domain structures in ferroelectrics allows for the control of the phase and polarization orientation and the local and macroscale susceptibilities (e.g., electrical, thermal, mechanical, optical, etc.) thus providing a foundation for next-generation devices[1–3]. Early efforts in this regard have focused on deterministically creating desired domain structures. In, for example, tetragonal PbZr<sub>1-x</sub>Ti<sub>x</sub>O<sub>3</sub>, controlling the elastic boundary conditions has provided access to domains spanning simple monodomain to complex hierarchical domain structures[4–6]. As the field has advanced, ingenious routes, including, compositional gradients[7,8], superlattice structures[9–11], orientation control[12,13], and engineered octahedral rotations[14] have been leveraged to control domain structures.\n",
        "The majority of this work, however, has focused on the static creation of desired domain structures[6,15–18] or functional domain walls[19,20], and thus lacks an internal self-regulating feedback loop required for automatic operation in functional devices. To deterministically manipulate ferroelectric domain structures requires the ability to measure while in operation (i.e., in operando) and automatically identify a number of features (e.g., polarization orientation, switching pathways, domain-wall geometry, etc.). Developments in multimodal spectroscopy now allow the acquisition of data at both the appropriate time- and length-scales required to glean such information from ferroelectric materials using techniques such as: transmission electron microscopy[21,22], scanning-probe microscopy[23,24], diffraction studies[25,26], etc[27]. The challenge, however, is that downstream analytical approaches which project data into a human-interpretable form remain underdeveloped and ill equipped for the complexity and magnitude of the data that can now be readily produced. In turn, despite the extensive amount of expensive experiments conducted, only an infinitesimally small fraction of the data collected is translated into knowledge. \n",
        "Solving this challenge, requires looking beyond the borders of nanoscience to fields such as social analytics[28,29], natural language processin[30,31], and sentiment analysis[32,33], where computational roadblocks are pervasive. For decades, standard practice was to develop machine-learning algorithms to create mathematical abstractions of the data based on characteristics of preconceived importance. Recently, the availability of massive datasets and specifically designed hardware has enabled features once designed by human experts to be extracted using brute-force computation. These representation learning tools generally rely on building architectures of simple non-linear mathematical functions which are optimized to relate the raw data to some information or label[34–36]. These so-called deep-learning-neural-network-based approaches have set new benchmarks for many common machine-learning tasks including: image[37] and speech recognition[38], language translation[39], and identification of human intention[32,33]. While these deep-learning approaches have begun to make meaningful inroads in, for example, genomics[40], high-energy physics[41], and astronomy[42], they have yet to be sufficiently embraced in experimental nanoscience[43–53]. \n",
        "Here, we develop a sequence-to-sequence neural network to extract inference from band-excitation piezoresponse spectroscopy (BEPS). To test our approach, we conducted BEPS on tensile-strained PbZr<sub>0.2</sub>Ti<sub>0.8</sub>O<sub>3</sub> thin films wherein strain drives the formation of a hierarchical *c*/*a* and *a<sub>1</sub>*/*a<sub>2</sub>* domain structure. We develop and train a deep-learning-neural-network-based sparse autoencoder on piezoresponse hysteresis loops to demonstrate parity with conventional empirical-analysis approaches. We then apply this approach to extract insight from the resonance response which has a form too complex to be properly analyzed using techniques common in experimental materials science. Using the information “learned”, we identify geometrically-driven differences in the switching mechanism which are related to charged-domain-wall nucleation and growth during ferroelastic switching. This insight could not have been extracted using machine-learning approaches that have been previously applied to materials spectroscopy and provides unprecedented information about the nature of the specific domain-structure geometries that should be explored to enhance local and macroscale susceptibilities. Furthermore, the ability to automate the extraction of inference regarding ferroelectric-switching mechanisms from multichannel nanoscale spectroscopy provides the first step (i.e., machine-learned discrimination) that could be used to design real-time control systems capable of creation and verification of interconversion of functional domain structures and interfaces. The developed approach is extensible to other forms of multi-dimensional, hyperspectral (wherein there is a spectra at each pixel) images which are commonly acquired in experiments such as time-of-flight secondary-ion mass spectrometry[54,55], scanning Raman[56], electron energy loss spectroscopy[57,58], etc. To promote the utilization of this approach, we provide open access to all data and codes in the form of a Jupyter notebook[59] (Supplementary Information). Ultimately, this work represents an example of how unsupervised deep learning can highlight features relating to ferroelectric physics overlooked by human-designed-machine-learning algorithms, and how such approaches can be adapted to analyze hyperspectral data more broadly.\n"
      ]
    },
    {
      "cell_type": "markdown",
      "metadata": {
        "format": "row",
        "id": "1Ct-dkMU8P8Q",
        "colab_type": "text"
      },
      "source": [
        "## Importing Packages\n",
        "This code imports and installs packages that you need to run the code"
      ]
    },
    {
      "cell_type": "code",
      "metadata": {
        "id": "DiXDkAm48P8S",
        "colab_type": "code",
        "colab": {
          "base_uri": "https://localhost:8080/",
          "height": 1000
        },
        "outputId": "5df302b1-0f2c-4a20-b3e4-1801f8d5234d"
      },
      "source": [
        "!pip install -U moviepy keras tensorflow natsort tqdm scikit_image scikit_learn scipy\n",
        "!pip install pillow==4.2.1\n",
        "!pip install -U imageio==2.4.1"
      ],
      "execution_count": 2,
      "outputs": [
        {
          "output_type": "stream",
          "text": [
            "Requirement already up-to-date: moviepy in /usr/local/lib/python3.6/dist-packages (1.0.0)\n",
            "Requirement already up-to-date: keras in /usr/local/lib/python3.6/dist-packages (2.2.5)\n",
            "Requirement already up-to-date: tensorflow in /usr/local/lib/python3.6/dist-packages (1.14.0)\n",
            "Requirement already up-to-date: natsort in /usr/local/lib/python3.6/dist-packages (6.0.0)\n",
            "Requirement already up-to-date: tqdm in /usr/local/lib/python3.6/dist-packages (4.35.0)\n",
            "Requirement already up-to-date: scikit_image in /usr/local/lib/python3.6/dist-packages (0.15.0)\n",
            "Requirement already up-to-date: scikit_learn in /usr/local/lib/python3.6/dist-packages (0.21.3)\n",
            "Requirement already up-to-date: scipy in /usr/local/lib/python3.6/dist-packages (1.3.1)\n",
            "Requirement already satisfied, skipping upgrade: decorator<5.0,>=4.0.2 in /usr/local/lib/python3.6/dist-packages (from moviepy) (4.4.0)\n",
            "Requirement already satisfied, skipping upgrade: proglog<=1.0.0 in /usr/local/lib/python3.6/dist-packages (from moviepy) (0.1.9)\n",
            "Requirement already satisfied, skipping upgrade: imageio-ffmpeg>=0.2.0; python_version >= \"3.4\" in /usr/local/lib/python3.6/dist-packages (from moviepy) (0.3.0)\n",
            "Requirement already satisfied, skipping upgrade: numpy in /usr/local/lib/python3.6/dist-packages (from moviepy) (1.16.4)\n",
            "Collecting imageio<3.0,>=2.5; python_version >= \"3.4\" (from moviepy)\n",
            "  Using cached https://files.pythonhosted.org/packages/af/0a/943c965d372dae0b1f1482677d29030ab834351a61a9a632fd62f27f1523/imageio-2.5.0-py3-none-any.whl\n",
            "Requirement already satisfied, skipping upgrade: requests<3.0,>=2.8.1 in /usr/local/lib/python3.6/dist-packages (from moviepy) (2.21.0)\n",
            "Requirement already satisfied, skipping upgrade: six>=1.9.0 in /usr/local/lib/python3.6/dist-packages (from keras) (1.12.0)\n",
            "Requirement already satisfied, skipping upgrade: keras-preprocessing>=1.1.0 in /usr/local/lib/python3.6/dist-packages (from keras) (1.1.0)\n",
            "Requirement already satisfied, skipping upgrade: keras-applications>=1.0.8 in /usr/local/lib/python3.6/dist-packages (from keras) (1.0.8)\n",
            "Requirement already satisfied, skipping upgrade: pyyaml in /usr/local/lib/python3.6/dist-packages (from keras) (3.13)\n",
            "Requirement already satisfied, skipping upgrade: h5py in /usr/local/lib/python3.6/dist-packages (from keras) (2.8.0)\n",
            "Requirement already satisfied, skipping upgrade: absl-py>=0.7.0 in /usr/local/lib/python3.6/dist-packages (from tensorflow) (0.7.1)\n",
            "Requirement already satisfied, skipping upgrade: google-pasta>=0.1.6 in /usr/local/lib/python3.6/dist-packages (from tensorflow) (0.1.7)\n",
            "Requirement already satisfied, skipping upgrade: wheel>=0.26 in /usr/local/lib/python3.6/dist-packages (from tensorflow) (0.33.6)\n",
            "Requirement already satisfied, skipping upgrade: termcolor>=1.1.0 in /usr/local/lib/python3.6/dist-packages (from tensorflow) (1.1.0)\n",
            "Requirement already satisfied, skipping upgrade: grpcio>=1.8.6 in /usr/local/lib/python3.6/dist-packages (from tensorflow) (1.15.0)\n",
            "Requirement already satisfied, skipping upgrade: astor>=0.6.0 in /usr/local/lib/python3.6/dist-packages (from tensorflow) (0.8.0)\n",
            "Requirement already satisfied, skipping upgrade: protobuf>=3.6.1 in /usr/local/lib/python3.6/dist-packages (from tensorflow) (3.7.1)\n",
            "Requirement already satisfied, skipping upgrade: wrapt>=1.11.1 in /usr/local/lib/python3.6/dist-packages (from tensorflow) (1.11.2)\n",
            "Requirement already satisfied, skipping upgrade: tensorboard<1.15.0,>=1.14.0 in /usr/local/lib/python3.6/dist-packages (from tensorflow) (1.14.0)\n",
            "Requirement already satisfied, skipping upgrade: tensorflow-estimator<1.15.0rc0,>=1.14.0rc0 in /usr/local/lib/python3.6/dist-packages (from tensorflow) (1.14.0)\n",
            "Requirement already satisfied, skipping upgrade: gast>=0.2.0 in /usr/local/lib/python3.6/dist-packages (from tensorflow) (0.2.2)\n",
            "Requirement already satisfied, skipping upgrade: matplotlib!=3.0.0,>=2.0.0 in /usr/local/lib/python3.6/dist-packages (from scikit_image) (3.0.3)\n",
            "Requirement already satisfied, skipping upgrade: PyWavelets>=0.4.0 in /usr/local/lib/python3.6/dist-packages (from scikit_image) (1.0.3)\n",
            "Collecting pillow>=4.3.0 (from scikit_image)\n",
            "  Using cached https://files.pythonhosted.org/packages/14/41/db6dec65ddbc176a59b89485e8cc136a433ed9c6397b6bfe2cd38412051e/Pillow-6.1.0-cp36-cp36m-manylinux1_x86_64.whl\n",
            "Requirement already satisfied, skipping upgrade: networkx>=2.0 in /usr/local/lib/python3.6/dist-packages (from scikit_image) (2.3)\n",
            "Requirement already satisfied, skipping upgrade: joblib>=0.11 in /usr/local/lib/python3.6/dist-packages (from scikit_learn) (0.13.2)\n",
            "Requirement already satisfied, skipping upgrade: urllib3<1.25,>=1.21.1 in /usr/local/lib/python3.6/dist-packages (from requests<3.0,>=2.8.1->moviepy) (1.24.3)\n",
            "Requirement already satisfied, skipping upgrade: idna<2.9,>=2.5 in /usr/local/lib/python3.6/dist-packages (from requests<3.0,>=2.8.1->moviepy) (2.8)\n",
            "Requirement already satisfied, skipping upgrade: chardet<3.1.0,>=3.0.2 in /usr/local/lib/python3.6/dist-packages (from requests<3.0,>=2.8.1->moviepy) (3.0.4)\n",
            "Requirement already satisfied, skipping upgrade: certifi>=2017.4.17 in /usr/local/lib/python3.6/dist-packages (from requests<3.0,>=2.8.1->moviepy) (2019.6.16)\n",
            "Requirement already satisfied, skipping upgrade: setuptools in /usr/local/lib/python3.6/dist-packages (from protobuf>=3.6.1->tensorflow) (41.2.0)\n",
            "Requirement already satisfied, skipping upgrade: werkzeug>=0.11.15 in /usr/local/lib/python3.6/dist-packages (from tensorboard<1.15.0,>=1.14.0->tensorflow) (0.15.5)\n",
            "Requirement already satisfied, skipping upgrade: markdown>=2.6.8 in /usr/local/lib/python3.6/dist-packages (from tensorboard<1.15.0,>=1.14.0->tensorflow) (3.1.1)\n",
            "Requirement already satisfied, skipping upgrade: pyparsing!=2.0.4,!=2.1.2,!=2.1.6,>=2.0.1 in /usr/local/lib/python3.6/dist-packages (from matplotlib!=3.0.0,>=2.0.0->scikit_image) (2.4.2)\n",
            "Requirement already satisfied, skipping upgrade: python-dateutil>=2.1 in /usr/local/lib/python3.6/dist-packages (from matplotlib!=3.0.0,>=2.0.0->scikit_image) (2.5.3)\n",
            "Requirement already satisfied, skipping upgrade: cycler>=0.10 in /usr/local/lib/python3.6/dist-packages (from matplotlib!=3.0.0,>=2.0.0->scikit_image) (0.10.0)\n",
            "Requirement already satisfied, skipping upgrade: kiwisolver>=1.0.1 in /usr/local/lib/python3.6/dist-packages (from matplotlib!=3.0.0,>=2.0.0->scikit_image) (1.1.0)\n",
            "\u001b[31mERROR: albumentations 0.1.12 has requirement imgaug<0.2.7,>=0.2.5, but you'll have imgaug 0.2.9 which is incompatible.\u001b[0m\n",
            "Installing collected packages: pillow, imageio\n",
            "  Found existing installation: Pillow 4.2.1\n",
            "    Uninstalling Pillow-4.2.1:\n",
            "      Successfully uninstalled Pillow-4.2.1\n",
            "  Found existing installation: imageio 2.4.1\n",
            "    Uninstalling imageio-2.4.1:\n",
            "      Successfully uninstalled imageio-2.4.1\n",
            "Successfully installed imageio-2.5.0 pillow-6.1.0\n"
          ],
          "name": "stdout"
        },
        {
          "output_type": "display_data",
          "data": {
            "application/vnd.colab-display-data+json": {
              "pip_warning": {
                "packages": [
                  "PIL",
                  "imageio"
                ]
              }
            }
          },
          "metadata": {
            "tags": []
          }
        },
        {
          "output_type": "stream",
          "text": [
            "Collecting pillow==4.2.1\n",
            "  Using cached https://files.pythonhosted.org/packages/51/c8/e7d35106199d81c9464b704762b42b3a1b9299a453c4265bfbcf28348513/Pillow-4.2.1-cp36-cp36m-manylinux1_x86_64.whl\n",
            "Requirement already satisfied: olefile in /usr/local/lib/python3.6/dist-packages (from pillow==4.2.1) (0.46)\n",
            "\u001b[31mERROR: scikit-image 0.15.0 has requirement pillow>=4.3.0, but you'll have pillow 4.2.1 which is incompatible.\u001b[0m\n",
            "\u001b[31mERROR: albumentations 0.1.12 has requirement imgaug<0.2.7,>=0.2.5, but you'll have imgaug 0.2.9 which is incompatible.\u001b[0m\n",
            "Installing collected packages: pillow\n",
            "  Found existing installation: Pillow 6.1.0\n",
            "    Uninstalling Pillow-6.1.0:\n",
            "      Successfully uninstalled Pillow-6.1.0\n",
            "Successfully installed pillow-4.2.1\n"
          ],
          "name": "stdout"
        },
        {
          "output_type": "display_data",
          "data": {
            "application/vnd.colab-display-data+json": {
              "pip_warning": {
                "packages": [
                  "PIL"
                ]
              }
            }
          },
          "metadata": {
            "tags": []
          }
        },
        {
          "output_type": "stream",
          "text": [
            "Collecting imageio==2.4.1\n",
            "Requirement already satisfied, skipping upgrade: pillow in /usr/local/lib/python3.6/dist-packages (from imageio==2.4.1) (4.2.1)\n",
            "Requirement already satisfied, skipping upgrade: numpy in /usr/local/lib/python3.6/dist-packages (from imageio==2.4.1) (1.16.4)\n",
            "Requirement already satisfied, skipping upgrade: olefile in /usr/local/lib/python3.6/dist-packages (from pillow->imageio==2.4.1) (0.46)\n",
            "\u001b[31mERROR: scikit-image 0.15.0 has requirement pillow>=4.3.0, but you'll have pillow 4.2.1 which is incompatible.\u001b[0m\n",
            "\u001b[31mERROR: moviepy 1.0.0 has requirement imageio<3.0,>=2.5; python_version >= \"3.4\", but you'll have imageio 2.4.1 which is incompatible.\u001b[0m\n",
            "\u001b[31mERROR: albumentations 0.1.12 has requirement imgaug<0.2.7,>=0.2.5, but you'll have imgaug 0.2.9 which is incompatible.\u001b[0m\n",
            "Installing collected packages: imageio\n",
            "  Found existing installation: imageio 2.5.0\n",
            "    Uninstalling imageio-2.5.0:\n",
            "      Successfully uninstalled imageio-2.5.0\n",
            "Successfully installed imageio-2.4.1\n"
          ],
          "name": "stdout"
        },
        {
          "output_type": "display_data",
          "data": {
            "application/vnd.colab-display-data+json": {
              "pip_warning": {
                "packages": [
                  "imageio"
                ]
              }
            }
          },
          "metadata": {
            "tags": []
          }
        }
      ]
    },
    {
      "cell_type": "code",
      "metadata": {
        "id": "6djGtcY98P8U",
        "colab_type": "code",
        "colab": {
          "base_uri": "https://localhost:8080/",
          "height": 102
        },
        "outputId": "f782a955-dcae-4852-e4e3-a5068efa5dcb"
      },
      "source": [
        "import imageio\n",
        "imageio.plugins.ffmpeg.download()"
      ],
      "execution_count": 1,
      "outputs": [
        {
          "output_type": "stream",
          "text": [
            "Imageio: 'ffmpeg-linux64-v3.3.1' was not found on your computer; downloading it now.\n",
            "Try 1. Download from https://github.com/imageio/imageio-binaries/raw/master/ffmpeg/ffmpeg-linux64-v3.3.1 (43.8 MB)\n",
            "Downloading: 8192/45929032 bytes (0.0%)\b\b\b\b\b\b\b\b\b\b\b\b\b\b\b\b\b\b\b\b\b\b\b\b\b\b2252800/45929032 bytes (4.9%)\b\b\b\b\b\b\b\b\b\b\b\b\b\b\b\b\b\b\b\b\b\b\b\b\b\b\b\b\b5890048/45929032 bytes (12.8%)\b\b\b\b\b\b\b\b\b\b\b\b\b\b\b\b\b\b\b\b\b\b\b\b\b\b\b\b\b\b9437184/45929032 bytes (20.5%)\b\b\b\b\b\b\b\b\b\b\b\b\b\b\b\b\b\b\b\b\b\b\b\b\b\b\b\b\b\b12918784/45929032 bytes (28.1%)\b\b\b\b\b\b\b\b\b\b\b\b\b\b\b\b\b\b\b\b\b\b\b\b\b\b\b\b\b\b\b16515072/45929032 bytes (36.0%)\b\b\b\b\b\b\b\b\b\b\b\b\b\b\b\b\b\b\b\b\b\b\b\b\b\b\b\b\b\b\b19980288/45929032 bytes (43.5%)\b\b\b\b\b\b\b\b\b\b\b\b\b\b\b\b\b\b\b\b\b\b\b\b\b\b\b\b\b\b\b23199744/45929032 bytes (50.5%)\b\b\b\b\b\b\b\b\b\b\b\b\b\b\b\b\b\b\b\b\b\b\b\b\b\b\b\b\b\b\b26656768/45929032 bytes (58.0%)\b\b\b\b\b\b\b\b\b\b\b\b\b\b\b\b\b\b\b\b\b\b\b\b\b\b\b\b\b\b\b30343168/45929032 bytes (66.1%)\b\b\b\b\b\b\b\b\b\b\b\b\b\b\b\b\b\b\b\b\b\b\b\b\b\b\b\b\b\b\b33587200/45929032 bytes (73.1%)\b\b\b\b\b\b\b\b\b\b\b\b\b\b\b\b\b\b\b\b\b\b\b\b\b\b\b\b\b\b\b37158912/45929032 bytes (80.9%)\b\b\b\b\b\b\b\b\b\b\b\b\b\b\b\b\b\b\b\b\b\b\b\b\b\b\b\b\b\b\b40665088/45929032 bytes (88.5%)\b\b\b\b\b\b\b\b\b\b\b\b\b\b\b\b\b\b\b\b\b\b\b\b\b\b\b\b\b\b\b44236800/45929032 bytes (96.3%)\b\b\b\b\b\b\b\b\b\b\b\b\b\b\b\b\b\b\b\b\b\b\b\b\b\b\b\b\b\b\b45929032/45929032 bytes (100.0%)\n",
            "  Done\n",
            "File saved as /root/.imageio/ffmpeg/ffmpeg-linux64-v3.3.1.\n"
          ],
          "name": "stdout"
        }
      ]
    },
    {
      "cell_type": "markdown",
      "metadata": {
        "id": "15rx9wto8P8X",
        "colab_type": "text"
      },
      "source": [
        "## Special Codes for Collaboratory\n",
        "### Provides access to google drive\n",
        "This code provides access to your google drive folder so files  can be saved"
      ]
    },
    {
      "cell_type": "code",
      "metadata": {
        "id": "Ds-TkMOy8P8X",
        "colab_type": "code",
        "colab": {
          "base_uri": "https://localhost:8080/",
          "height": 169
        },
        "outputId": "0d58873d-b81e-4663-de33-19d759ccba43"
      },
      "source": [
        "# if running on collaboratory set = True\n",
        "collaboratory = True\n",
        "\n",
        "if collaboratory:\n",
        "    from google.colab import drive\n",
        "    drive.mount('/content/drive')\n",
        "else: \n",
        "    print('Running on local systems, if running on collaboratory please change above')"
      ],
      "execution_count": 3,
      "outputs": [
        {
          "output_type": "stream",
          "text": [
            "Go to this URL in a browser: https://accounts.google.com/o/oauth2/auth?client_id=947318989803-6bn6qk8qdgf4n4g3pfee6491hc0brc4i.apps.googleusercontent.com&redirect_uri=urn%3Aietf%3Awg%3Aoauth%3A2.0%3Aoob&scope=email%20https%3A%2F%2Fwww.googleapis.com%2Fauth%2Fdocs.test%20https%3A%2F%2Fwww.googleapis.com%2Fauth%2Fdrive%20https%3A%2F%2Fwww.googleapis.com%2Fauth%2Fdrive.photos.readonly%20https%3A%2F%2Fwww.googleapis.com%2Fauth%2Fpeopleapi.readonly&response_type=code\n",
            "\n",
            "Enter your authorization code:\n",
            "··········\n",
            "Mounted at /content/drive\n"
          ],
          "name": "stdout"
        }
      ]
    },
    {
      "cell_type": "code",
      "metadata": {
        "id": "Fiym4t4F8P8Z",
        "colab_type": "code",
        "colab": {
          "base_uri": "https://localhost:8080/",
          "height": 34
        },
        "outputId": "48474d24-a271-45aa-d2aa-42cce93f338d"
      },
      "source": [
        "cd drive/My\\ Drive"
      ],
      "execution_count": 4,
      "outputs": [
        {
          "output_type": "stream",
          "text": [
            "/content/drive/My Drive\n"
          ],
          "name": "stdout"
        }
      ]
    },
    {
      "cell_type": "code",
      "metadata": {
        "id": "jJnoun1I8P8c",
        "colab_type": "code",
        "colab": {
          "base_uri": "https://localhost:8080/",
          "height": 165
        },
        "outputId": "122d7254-3d37-4d4a-f3bf-3ccd821f7b35"
      },
      "source": [
        "import os\n",
        "if os.path.exists(\"./Revealing-Ferroelectric-Switching-Character-Using-Deep-Recurrent-Neural-Networks\"):\n",
        "    pass\n",
        "else:\n",
        "    !git clone https://github.com/jagar2/Revealing-Ferroelectric-Switching-Character-Using-Deep-Recurrent-Neural-Networks.git"
      ],
      "execution_count": 5,
      "outputs": [
        {
          "output_type": "stream",
          "text": [
            "Cloning into 'Revealing-Ferroelectric-Switching-Character-Using-Deep-Recurrent-Neural-Networks'...\n",
            "remote: Enumerating objects: 21, done.\u001b[K\n",
            "remote: Counting objects: 100% (21/21), done.\u001b[K\n",
            "remote: Compressing objects: 100% (20/20), done.\u001b[K\n",
            "remote: Total 251 (delta 1), reused 21 (delta 1), pack-reused 230\u001b[K\n",
            "Receiving objects: 100% (251/251), 123.36 MiB | 22.34 MiB/s, done.\n",
            "Resolving deltas: 100% (124/124), done.\n",
            "Checking out files: 100% (85/85), done.\n"
          ],
          "name": "stdout"
        }
      ]
    },
    {
      "cell_type": "code",
      "metadata": {
        "id": "6k1AzomQ8P8e",
        "colab_type": "code",
        "colab": {
          "base_uri": "https://localhost:8080/",
          "height": 34
        },
        "outputId": "e997f8ca-1e1f-452b-aefa-f84a0af4ff57"
      },
      "source": [
        "cd Revealing-Ferroelectric-Switching-Character-Using-Deep-Recurrent-Neural-Networks"
      ],
      "execution_count": 6,
      "outputs": [
        {
          "output_type": "stream",
          "text": [
            "/content/drive/My Drive/Revealing-Ferroelectric-Switching-Character-Using-Deep-Recurrent-Neural-Networks\n"
          ],
          "name": "stdout"
        }
      ]
    },
    {
      "cell_type": "code",
      "metadata": {
        "id": "tl8BDrWi8P8h",
        "colab_type": "code",
        "colab": {
          "base_uri": "https://localhost:8080/",
          "height": 63
        },
        "outputId": "6ea58164-3390-46d6-f69d-4a185d09c023"
      },
      "source": [
        "!git pull"
      ],
      "execution_count": 7,
      "outputs": [
        {
          "output_type": "stream",
          "text": [
            "Already up to date.\n"
          ],
          "name": "stdout"
        }
      ]
    },
    {
      "cell_type": "markdown",
      "metadata": {
        "id": "_5V9p-6f94s2",
        "colab_type": "text"
      },
      "source": [
        "## Imports Packages\n",
        "Imports packages which are used by jupyter paper"
      ]
    },
    {
      "cell_type": "code",
      "metadata": {
        "id": "EeCBgy6i8P8i",
        "colab_type": "code",
        "colab": {
          "base_uri": "https://localhost:8080/",
          "height": 34
        },
        "outputId": "bdaaacab-431c-428d-945b-1d8b85ad46fa"
      },
      "source": [
        "# imports useful packages\n",
        "import warnings\n",
        "warnings.filterwarnings('ignore')\n",
        "import imp\n",
        "from matplotlib.ticker import FormatStrFormatter\n",
        "import matplotlib.pyplot as plt\n",
        "import codes.analysis.rnn as rnn\n",
        "import codes.util as util\n",
        "import codes.analysis.machine_learning as ml\n",
        "import codes.analysis as an\n",
        "import codes.processing as p\n",
        "import codes.viz as viz\n",
        "import codes.util.input_output as io_transfer\n",
        "from sklearn.decomposition import NMF\n",
        "from scipy import io\n",
        "import numpy as np\n",
        "import os\n",
        "import os.path\n",
        "\n",
        "# loads the custom graphing format\n",
        "viz.format.custom_plt_format()\n",
        "\n",
        "plt.style.use('seaborn-white')"
      ],
      "execution_count": 8,
      "outputs": [
        {
          "output_type": "stream",
          "text": [
            "Using TensorFlow backend.\n"
          ],
          "name": "stderr"
        }
      ]
    },
    {
      "cell_type": "markdown",
      "metadata": {
        "id": "aI4fk2pA8P8j",
        "colab_type": "text"
      },
      "source": [
        "## Folders\n",
        "Defines a folder structure to save files"
      ]
    },
    {
      "cell_type": "code",
      "metadata": {
        "id": "r612oYrt8P8k",
        "colab_type": "code",
        "colab": {}
      },
      "source": [
        "# builds folders where the data will be saved\n",
        "folder_structure = util.file.make_folder(\n",
        "    './structure')\n",
        "folder_BE = util.file.make_folder(\n",
        "    './Band_Excitation')\n",
        "folder_BE_Movie_files = util.file.make_folder(\n",
        "    folder_BE + '/BE_Movie_Files')\n",
        "folder_BE_all_images = util.file.make_folder(\n",
        "    folder_BE + '/BE_all_images')\n",
        "folder_BE_spectra = util.file.make_folder(\n",
        "    folder_BE + '/BE_spectra')\n",
        "folder_BE_cleaned_spectra = util.file.make_folder(\n",
        "    folder_BE + '/cleaned_spectra')\n",
        "folder_pca = util.file.make_folder(\n",
        "    './pca')\n",
        "folder_nmf = util.file.make_folder(\n",
        "    './nmf')\n",
        "folder_clustering = util.file.make_folder('./clustering')\n",
        "folder_pca_clustering = util.file.make_folder(\n",
        "    './pca_clustering')\n",
        "folder_piezoresponse_autoencoder = util.file.make_folder(\n",
        "    './piezoresponse_autoencoder')\n",
        "folder_resonance_autoencoder = util.file.make_folder(\n",
        "    './resonance_autoencoder')\n",
        "folder_piezoresponse_autoencoder_movie = util.file.make_folder(\n",
        "    folder_piezoresponse_autoencoder + '/movie')\n",
        "folder_piezoresponse_autoencoder_training_movie = util.file.make_folder(\n",
        "    folder_piezoresponse_autoencoder + '/training_movie')\n",
        "folder_resonance_autoencoder_movie = util.file.make_folder(\n",
        "    folder_resonance_autoencoder + '/movie')\n",
        "folder_resonance_autoencoder_training_movie = util.file.make_folder(\n",
        "    folder_resonance_autoencoder + '/training_movie')\n",
        "folder_phase_field = util.file.make_folder(\n",
        "    './Phase_Field')"
      ],
      "execution_count": 0,
      "outputs": []
    },
    {
      "cell_type": "markdown",
      "metadata": {
        "id": "6VXzcOIR8P8m",
        "colab_type": "text"
      },
      "source": [
        "## Download Data\n",
        "This downloads the full trained models and the phase-field simulations data. These files are >50 GB and you do not need them for most of the analysis in the Jupyter Paper"
      ]
    },
    {
      "cell_type": "code",
      "metadata": {
        "id": "aPikewtE8P8n",
        "colab_type": "code",
        "colab": {}
      },
      "source": [
        "# Downloading data for Phase Field simulations and full training data\n",
        "# note these are big files >50 gb\n",
        "download_data = False\n",
        "\n",
        "url = 'https://zenodo.org/record/1482091/files/Phase_field.zip?download=1'\n",
        "filename = 'phase_field.zip'\n",
        "save_path = './Raw_Data/Phase_Field/'\n",
        "\n",
        "io_transfer.download_and_unzip(filename, url, save_path, download_data)\n",
        "\n",
        "url = 'https://zenodo.org/record/1482091/files/Trained_models.zip?download=1'\n",
        "filename = 'train_model_zip.zip'\n",
        "save_path = './Trained Models/'\n",
        "\n",
        "io_transfer.download_and_unzip(filename, url, save_path, download_data)"
      ],
      "execution_count": 0,
      "outputs": []
    },
    {
      "cell_type": "markdown",
      "metadata": {
        "id": "dhLcvjE_8P8o",
        "colab_type": "text"
      },
      "source": [
        "## Settings"
      ]
    },
    {
      "cell_type": "markdown",
      "metadata": {
        "id": "C7j8gdfg8P8p",
        "colab_type": "text"
      },
      "source": [
        "### Export Figure Settings"
      ]
    },
    {
      "cell_type": "code",
      "metadata": {
        "id": "HltmQVj_8P8p",
        "colab_type": "code",
        "colab": {}
      },
      "source": [
        "# Sets what object to export\n",
        "printing = {  # exports eps vector graphics (note these files can be large)\n",
        "    'EPS': True,\n",
        "    # exports png files\n",
        "    'PNG': True,\n",
        "    # prints image series (note this can take some time)\n",
        "    'all_figures': True,\n",
        "    # generates movies (note this can take some time)\n",
        "    'movies': True,\n",
        "    # resolution of the images\n",
        "    'dpi': 300}"
      ],
      "execution_count": 0,
      "outputs": []
    },
    {
      "cell_type": "markdown",
      "metadata": {
        "id": "sLQiZ1Rr8P8q",
        "colab_type": "text"
      },
      "source": [
        "### Plotting Format"
      ]
    },
    {
      "cell_type": "code",
      "metadata": {
        "id": "fDt7VlHi8P8q",
        "colab_type": "code",
        "colab": {}
      },
      "source": [
        "# sets the plotting format\n",
        "plot_format = {\n",
        "    # adds scalebar to image\n",
        "    'add_scalebar': True,\n",
        "    # sets the dimensions for the scalebar [(size of image),(size of scalebar)]\n",
        "    'scalebar': [2000, 500],\n",
        "    # selects if the image will be rotated\n",
        "    'rotation': True,\n",
        "    # selects the rotation angle of the image\n",
        "    'angle': 60.46,\n",
        "    # sets the fraction of the image to crop\n",
        "    'frac_rm': 0.17765042979942694,\n",
        "    # sets the resolution of the image\n",
        "    'dpi': 300,\n",
        "    # sets the default colormap\n",
        "    'color_map': 'viridis',\n",
        "    # sets if color bars should be added\n",
        "    'color_bars': True}"
      ],
      "execution_count": 0,
      "outputs": []
    },
    {
      "cell_type": "markdown",
      "metadata": {
        "id": "IYveLLhl8P8r",
        "colab_type": "text"
      },
      "source": [
        "## Loads the Data"
      ]
    },
    {
      "cell_type": "code",
      "metadata": {
        "id": "IRgYNWoT8P8r",
        "colab_type": "code",
        "colab": {}
      },
      "source": [
        "# imports the raw band excitation data\n",
        "imported = {'data': io.matlab.loadmat('./Raw_Data/Data.mat'),\n",
        "            'validation_data': io.matlab.loadmat('Raw_Data/loop_1.mat')}\n",
        "\n",
        "# extracts the important information from the raw data\n",
        "raw = {'voltage': imported['data']['Voltagedata_mixed'],\n",
        "       'piezoresponse': imported['data']['Loopdata_mixed'],\n",
        "       'amplitude': imported['data']['OutA2_mixed'],\n",
        "       'phase': imported['data']['OutPhi1_mixed'],\n",
        "       'resonance': imported['data']['Outw2_mixed'],\n",
        "       'quality_factor': imported['data']['OutQ2_mixed'],\n",
        "       'val_piezoresponse': imported['validation_data']['piezo_1'],\n",
        "       'val_resonance': imported['validation_data']['resonance_loop_1']}"
      ],
      "execution_count": 0,
      "outputs": []
    },
    {
      "cell_type": "markdown",
      "metadata": {
        "id": "dEAeSimz8P8s",
        "colab_type": "text"
      },
      "source": [
        "### Cleans the Raw Data"
      ]
    },
    {
      "cell_type": "code",
      "metadata": {
        "id": "2l_d6Txx8P8t",
        "colab_type": "code",
        "colab": {}
      },
      "source": [
        "# adds a max min filter on the data to remove bad points\n",
        "p.filters.range_filter(raw['resonance'], [1300, 1340])\n",
        "p.filters.range_filter(raw['val_resonance'], [1300, 1340])\n",
        "\n",
        "# interpolates data that is non-real. This happens when the SHO fit fails\n",
        "interpolated = {'voltage': raw['voltage'],\n",
        "                'piezoresponse': p.filters.clean_interpolate(raw['piezoresponse'],\n",
        "                                                             'linear').reshape(-1, raw['piezoresponse'].shape[2]),\n",
        "                'amplitude': p.filters.clean_interpolate(raw['amplitude'],\n",
        "                                                         'linear').reshape(-1, raw['amplitude'].shape[2]),\n",
        "                'phase': p.filters.clean_interpolate(raw['phase'],\n",
        "                                                     'linear').reshape(-1, raw['phase'].shape[2]),\n",
        "                'resonance': p.filters.clean_interpolate(raw['resonance'],\n",
        "                                                         'linear').reshape(-1, raw['resonance'].shape[2]),\n",
        "                'quality_factor': p.filters.clean_interpolate(raw['quality_factor'],\n",
        "                                                              'linear').reshape(-1, raw['quality_factor'].shape[2]),\n",
        "                'val_piezoresponse': p.filters.clean_interpolate(raw['val_piezoresponse'],\n",
        "                                                                  'linear').reshape(-1, raw['val_piezoresponse'].shape[2]),\n",
        "                'val_resonance': p.filters.clean_interpolate(raw['val_resonance'],\n",
        "                                                             'linear').reshape(-1, raw['val_resonance'].shape[2])}\n",
        "# Uses Savitzky-Golay filter to remove outlier points\n",
        "sg_filtered = {'voltage': raw['voltage'],\n",
        "               'piezoresponse': p.filters.savgol(interpolated['piezoresponse'], fit_type='linear'),\n",
        "               'amplitude': p.filters.savgol(interpolated['amplitude'], fit_type='linear'),\n",
        "               'phase': p.filters.savgol(interpolated['phase'], fit_type='linear'),\n",
        "               'resonance': p.filters.savgol(interpolated['resonance'], fit_type='linear'),\n",
        "               'quality_factor': p.filters.savgol(interpolated['quality_factor'], fit_type='linear'),\n",
        "               'val_piezoresponse': p.filters.savgol(interpolated['val_piezoresponse'], fit_type='linear'),\n",
        "               'val_resonance': p.filters.savgol(interpolated['val_resonance'], fit_type='linear')}\n",
        "\n",
        "# normalized the data. This is important for training Neural Networks\n",
        "normalized = {'voltage': raw['voltage'],\n",
        "              'piezoresponse': p.filters.normalize(sg_filtered['piezoresponse']),\n",
        "              'amplitude': p.filters.normalize(sg_filtered['amplitude']),\n",
        "              'phase': p.filters.normalize(sg_filtered['phase']),\n",
        "              'resonance': p.filters.normalize(sg_filtered['resonance']),\n",
        "              'quality_factor': p.filters.normalize(sg_filtered['quality_factor']),\n",
        "              'val_piezoresponse': p.filters.normalize(sg_filtered['val_piezoresponse'],\n",
        "                                                       sg_filtered['piezoresponse']),\n",
        "              'val_resonance': p.filters.normalize(sg_filtered['val_resonance'],\n",
        "                                                   sg_filtered['resonance'])}\n",
        "\n",
        "# stores information which helps in making pretty axes.\n",
        "signal_info = {'voltage': dict(\n",
        "    symbol='voltage',\n",
        "    format_str='%3.d',\n",
        "    units='Voltage (V)',\n",
        "    y_lim=None,\n",
        "    x_tick=np.linspace(-15, 15, 7),\n",
        "    pca_range=None),\n",
        "    'amplitude': dict(\n",
        "    symbol='A',\n",
        "    format_str='%.0e',\n",
        "    units='Amplitude (Arb. U.)',\n",
        "    y_lim=None,\n",
        "    y_tick=[],\n",
        "    pca_range=None),\n",
        "    'phase': dict(\n",
        "    symbol='Phi',\n",
        "    format_str='%3.d',\n",
        "    units='Phase (${^\\circ}$)',\n",
        "    y_lim=[-110, 110],\n",
        "    y_tick=np.linspace(-90, 90, 5),\n",
        "    pca_range=None),\n",
        "    'resonance': dict(\n",
        "    symbol='w',\n",
        "    format_str='%3.d',\n",
        "    units='Resonance (kHz)',\n",
        "    y_lim=[1326, 1329],\n",
        "    y_tick=np.linspace(1320, 1329, 4),\n",
        "    pca_range=None),\n",
        "    'quality_factor': dict(\n",
        "    symbol='Q',\n",
        "    format_str='%3.f',\n",
        "    units='Quality Factor (Arb. U.)',\n",
        "    y_lim=[210, 310],\n",
        "    y_tick=np.linspace(215, 310, 5),\n",
        "    pca_range=None),\n",
        "    'piezoresponse': dict(\n",
        "    symbol='Piezoresponse',\n",
        "    format_str='%.0e',\n",
        "    units='Piezoresponse (Arb. U.)',\n",
        "    y_lim=None,\n",
        "    y_tick=[],\n",
        "    pca_range=[-0.29, .29])\n",
        "}\n",
        "\n",
        "# builds a single dictonary to hold all the data\n",
        "data = {'raw': raw,\n",
        "        'interpolated': interpolated,\n",
        "        'sg_filtered': sg_filtered,\n",
        "        'normalized': normalized,\n",
        "        'signal_info': signal_info}"
      ],
      "execution_count": 0,
      "outputs": []
    },
    {
      "cell_type": "markdown",
      "metadata": {
        "id": "B-67WhL4NfYG",
        "colab_type": "text"
      },
      "source": [
        ""
      ]
    },
    {
      "cell_type": "markdown",
      "metadata": {
        "id": "bsD0SsqX8P8u",
        "colab_type": "text"
      },
      "source": [
        "## Visualize Cleaned Data"
      ]
    },
    {
      "cell_type": "code",
      "metadata": {
        "scrolled": true,
        "id": "3I-2ATZ-8P8u",
        "colab_type": "code",
        "colab": {}
      },
      "source": [
        "# Selects a random index to plot\n",
        "#i = np.random.randint(3600)\n",
        "# if user wants to show a specific point\n",
        "i = 100\n",
        "\n",
        "# Plots the raws data (black) and cleaned data (red)\n",
        "viz.plot.cleaned_data(data, i, printing, folder_BE_cleaned_spectra)"
      ],
      "execution_count": 0,
      "outputs": []
    },
    {
      "cell_type": "markdown",
      "metadata": {
        "id": "Fz3a5jMx8P8v",
        "colab_type": "text"
      },
      "source": [
        "**Figure J1 | Images showing preprocessing of data. a,** Piezoresponse **b,** amplitude **c,** phase **d,** resonance frequency **e,** quality factor. Raw data is shown in black, processed data shown in red."
      ]
    },
    {
      "cell_type": "markdown",
      "metadata": {
        "id": "J6BMTm8HM8Et",
        "colab_type": "text"
      },
      "source": [
        ""
      ]
    },
    {
      "cell_type": "markdown",
      "metadata": {
        "id": "EoxdZUC68P8w",
        "colab_type": "text"
      },
      "source": [
        "# Structural Characterization"
      ]
    },
    {
      "cell_type": "markdown",
      "metadata": {
        "id": "YAKdwrPx8P8w",
        "colab_type": "text"
      },
      "source": [
        "##  Topography and Piezoresponse"
      ]
    },
    {
      "cell_type": "code",
      "metadata": {
        "id": "6xwBxUqO8P8w",
        "colab_type": "code",
        "colab": {}
      },
      "source": [
        "# Description and properties of the plots\n",
        "signals = {'Topography': dict(\n",
        "    c_lim=[],\n",
        "    data_loc='topo_mixed'),\n",
        "    'Large-Periodicity Line Trace': dict(\n",
        "    data_loc='topo_ca_caca_mixed',\n",
        "    x_lim=[0, 2],\n",
        "    y_lim=[-4, 2],\n",
        "    shift=0),\n",
        "    'Small-Periodicity Line Trace':  dict(\n",
        "    data_loc='topo_mixed_caca',\n",
        "    x_lim=[0, .5],\n",
        "    y_lim=[0, 2],\n",
        "    shift=0.8),\n",
        "    'Vertical Amplitude': dict(\n",
        "    c_lim=[0, 4.5e-10],\n",
        "    data_loc='Vert_Amp_mixed'),\n",
        "    'Vertical Phase': dict(\n",
        "    c_lim=[],\n",
        "    data_loc='vert_phase_mixed'),\n",
        "    'Lateral Amplitude': dict(\n",
        "    c_lim=[0, .8e-11],\n",
        "    data_loc='lateral_amp_mixed'),\n",
        "    'Lateral Phase': dict(\n",
        "    c_lim=[],\n",
        "    data_loc='lateral_phase_mixed')\n",
        "}\n",
        "\n",
        "# plots the PFM images and line traces across those images.\n",
        "viz.plot.pfm_w_line_trace(signals, imported, printing, folder_structure)"
      ],
      "execution_count": 0,
      "outputs": []
    },
    {
      "cell_type": "markdown",
      "metadata": {
        "id": "6N3FDS7L8P8x",
        "colab_type": "text"
      },
      "source": [
        "**Figure J2 | Piezoresponse force microscopy images of 400 nm thick PbZr${_{0.2}}$Ti${_{0.8}}$O${_{3}}$ heterostructures supported on NdScO${_3}$ (110). a,** Topography **b,** Line trace indicating the large scale sawtooth-like topography between the *c/*a/*c/*a and *a${_1}$/*a${_2}$/*a${_1}$/*a${_2}$ domain regions. **c,** Line trace indicating the small scale sawtooth-like topography within the c/a/c/a domain bands. Images of piezoresponse vertical **d,** amplitude and **e,** phase and lateral **f,** amplitude and **g,** phase."
      ]
    },
    {
      "cell_type": "markdown",
      "metadata": {
        "id": "uHB3Opvx8P8x",
        "colab_type": "text"
      },
      "source": [
        "## Reciprical Space Maps of PbZr${_{0.2}}$Ti${_{0.8}}$O${_{3}}$ with Hierarchical Domain Structures"
      ]
    },
    {
      "cell_type": "code",
      "metadata": {
        "id": "0fPZxAJy8P8y",
        "colab_type": "code",
        "colab": {}
      },
      "source": [
        "viz.plot.rsm(imported, printing, folder_structure)"
      ],
      "execution_count": 0,
      "outputs": []
    },
    {
      "cell_type": "markdown",
      "metadata": {
        "id": "hT2C_aWZ8P8z",
        "colab_type": "text"
      },
      "source": [
        "**Figure J3 |** Symmetric reciprocal space map of 400 nm thick PbZr${_{0.8}}$Ti${_{0.2}}$O${_{3}}$ heterostructures supported on NdScO${_3}$ (110). Map obtained around the substrate 220 diffraction condition."
      ]
    },
    {
      "cell_type": "markdown",
      "metadata": {
        "id": "xpKyJ7MK8P8z",
        "colab_type": "text"
      },
      "source": [
        "## Initial PFM images"
      ]
    },
    {
      "cell_type": "code",
      "metadata": {
        "id": "b_6IZnVl8P8z",
        "colab_type": "code",
        "colab": {}
      },
      "source": [
        "# (User) Sets the colorscale of [topography = (initial [-3e-9,3e-9]),\n",
        "#amplitude (initial [.5e-11,6.5e-11]),\n",
        "# phase (initial [40,260])]\n",
        "signals = {'Topography': dict(\n",
        "    c_lim=[-3e-9, 3e-9],\n",
        "    data_loc='HeightOriginal'),\n",
        "    'Amplitude': dict(\n",
        "    c_lim=[.5e-11, 6.5e-11],\n",
        "    data_loc='AmpOriginal'),\n",
        "    'Phase': dict(\n",
        "    c_lim=[40, 260],\n",
        "    data_loc='PhaseOriginal')\n",
        "}\n",
        "\n",
        "viz.plot.pfm(signals, imported, printing, folder_structure, 'Inital PFM')"
      ],
      "execution_count": 0,
      "outputs": []
    },
    {
      "cell_type": "markdown",
      "metadata": {
        "id": "7TqeTrba8P80",
        "colab_type": "text"
      },
      "source": [
        "**Figure J4 | Piezoresponse force microscopy images prior to band excitation piezoresponse force microscopy switching.** **a,** topographic and **b,** vertical **c,** phase piezoresponse force microscopy images of as grown 400 nm thick PbZr${_{0.2}}$Ti${_{0.8}}$O${_{3}}$ heterostructure supported on NdScO${_{3}}$ (110). "
      ]
    },
    {
      "cell_type": "markdown",
      "metadata": {
        "id": "m6Ji6igv8P81",
        "colab_type": "text"
      },
      "source": [
        "## Final PFM Images"
      ]
    },
    {
      "cell_type": "code",
      "metadata": {
        "id": "d0FqyRla8P81",
        "colab_type": "code",
        "colab": {}
      },
      "source": [
        "# (User) Sets the colorscale of [topography = (initial [-3e-9,3e-9]),\n",
        "#amplitude (initial [.2e-10,1.5e-10]),\n",
        "# phase (initial [50,90])]\n",
        "signals = {'Topography': dict(\n",
        "    c_lim=[-2e-9, 2e-9],\n",
        "    data_loc='HeightFinal'),\n",
        "    'Amplitude': dict(\n",
        "    c_lim=[.2e-10, 1.5e-10],\n",
        "    data_loc='AmpFinal'),\n",
        "    'Phase': dict(\n",
        "    c_lim=[50, 90],\n",
        "    data_loc='PhaseFinal')\n",
        "}\n",
        "\n",
        "viz.plot.pfm(signals, imported, printing, folder_structure, 'Final PFM')"
      ],
      "execution_count": 0,
      "outputs": []
    },
    {
      "cell_type": "markdown",
      "metadata": {
        "id": "ObqlwKin8P81",
        "colab_type": "text"
      },
      "source": [
        "**Figure J5 | Piezoresponse force microscopy images following band excitation piezoresponse force microscopy switching.** **a,** topographic and **b,** vertical **c,** phase piezoresponse force microscopy images of as grown 400 nm thick PbZr${_{0.2}}$Ti${_{0.8}}$O${_{3}}$ heterostructure supported on NdScO${_{3}}$ (110). "
      ]
    },
    {
      "cell_type": "markdown",
      "metadata": {
        "id": "ujJT59Wo8P82",
        "colab_type": "text"
      },
      "source": [
        "# Band Excitation Piezoresponse Force Microscopy - Basic Analysis"
      ]
    },
    {
      "cell_type": "markdown",
      "metadata": {
        "id": "ZVw0vhqj8P82",
        "colab_type": "text"
      },
      "source": [
        "## Exports all images"
      ]
    },
    {
      "cell_type": "code",
      "metadata": {
        "id": "hU977n1f8P82",
        "colab_type": "code",
        "colab": {}
      },
      "source": [
        "# Checks if user selected to export all figures\n",
        "if printing['all_figures']:\n",
        "\n",
        "    # (User) Sets the colorscale {Initial Amplitude = [0.0020e-3, 0.1490e-3]; Phase = [-265,-30];\n",
        "    #                                     Resonance = [1317,1330]; Quality Factor = [175,270]}\n",
        "    signal_clim = {('Amplitude', 'A'): [0.0020e-3, 0.1490e-3],\n",
        "                   ('Phase', 'Phi'): [-265, -30],\n",
        "                   ('Resonance', 'w'): [1317, 1330],\n",
        "                   ('Quality Factor', 'Q'): [175, 270],\n",
        "                   }\n",
        "\n",
        "    # prints all images from the switching studies\n",
        "    viz.plot.band_excitation(imported['data'], signal_clim, plot_format, printing,\n",
        "                             folder_=folder_BE_all_images)"
      ],
      "execution_count": 0,
      "outputs": []
    },
    {
      "cell_type": "markdown",
      "metadata": {
        "id": "2sHWUHsx8P83",
        "colab_type": "text"
      },
      "source": [
        "## Export Images for Movie"
      ]
    },
    {
      "cell_type": "code",
      "metadata": {
        "id": "NrP1Br188P83",
        "colab_type": "code",
        "colab": {}
      },
      "source": [
        "if printing['movies']:\n",
        "    # (User) Sets the colorscale {Initial Amplitude = [0.0020e-3, 0.1490e-3]; Phase = [-265,-30];\n",
        "    #                                     Resonance = [1317,1330]; Quality Factor = [175,270]}\n",
        "    signal_clim = {('Amplitude', 'A', '%.0e'): [0.0020e-3, 0.1490e-3],\n",
        "                   ('Phase', 'Phi', '%.0d'): [-265, -30],\n",
        "                   ('Resonance', 'w', '%.0d'): [1317, 1330],\n",
        "                   ('Quality Factor', 'Q', '%.0d'): [175, 270],\n",
        "                   }\n",
        "\n",
        "    # creates the images used to make the movie of the switching studies\n",
        "    viz.plot.band_excitation_movie(imported, signal_clim, \n",
        "                                    plot_format, printing, folder = folder_BE_Movie_files)"
      ],
      "execution_count": 0,
      "outputs": []
    },
    {
      "cell_type": "code",
      "metadata": {
        "id": "veDJo_pL8P84",
        "colab_type": "code",
        "colab": {}
      },
      "source": [
        "# creates the movie of the switching studies\n",
        "if printing['movies']:\n",
        "    util.file.make_movie('BE_Switching', folder_BE_Movie_files, folder_BE, 'png',\n",
        "                         4, output_format='mp4')"
      ],
      "execution_count": 0,
      "outputs": []
    },
    {
      "cell_type": "markdown",
      "metadata": {
        "id": "KXIHb4i68P84",
        "colab_type": "text"
      },
      "source": [
        "## Plot Raw Band Excitation Spectra"
      ]
    },
    {
      "cell_type": "code",
      "metadata": {
        "id": "CrNYebih8P85",
        "colab_type": "code",
        "colab": {}
      },
      "source": [
        "# (User) selects index (index used in main manuscript as example [30,30], cycle 2)\n",
        "x = 30\n",
        "y = 30\n",
        "cycle = 2\n",
        "\n",
        "# Sets the information for plotting. (User) can adjust scales.\n",
        "signal_clim = {'Amplitude': dict(\n",
        "    symbol='A',\n",
        "    format_str='%.0e',\n",
        "    units='(Arb. U.)',\n",
        "    y_lim=[],\n",
        "    y_tick=[]),\n",
        "    'Phase': dict(\n",
        "    symbol='Phi',\n",
        "    format_str='%3.d',\n",
        "    units='(${^\\circ}$)',\n",
        "    y_lim=[-110, 110],\n",
        "    y_tick=np.linspace(-90, 90, 5)),\n",
        "    'Resonance': dict(\n",
        "    symbol='w',\n",
        "    format_str='%3.d',\n",
        "    units='(kHz)',\n",
        "    y_lim=[1326, 1329],\n",
        "    y_tick=np.linspace(1320, 1329, 4)),\n",
        "    'Quality Factor': dict(\n",
        "    symbol='Q',\n",
        "    format_str='%3.f',\n",
        "    units='',\n",
        "    y_lim=[210, 310],\n",
        "    y_tick=np.linspace(215, 310, 5)),\n",
        "    'Piezoresponse': dict(\n",
        "    symbol='Piezoresponse',\n",
        "    format_str='%.0e',\n",
        "    units='(Arb. U.)',\n",
        "    y_lim=[],\n",
        "    y_tick=[])\n",
        "}\n",
        "\n",
        "# plots the raw BE spectra\n",
        "viz.plot.band_excitation_spectra(x, y, cycle, imported['data'],\n",
        "                                 signal_clim, printing, folder_BE_spectra)"
      ],
      "execution_count": 0,
      "outputs": []
    },
    {
      "cell_type": "markdown",
      "metadata": {
        "id": "2xM3t5M88P85",
        "colab_type": "text"
      },
      "source": [
        "**Figure J6 |** Example raw piezoresponse loops acquired during band excitation piezoresponse spectroscopy of PbZr${_{0.2}}$Ti${_{0.8}}$O${_{3}}$ with hierarchical domain structures. Showing **a,** amplitude, **b,** phase, **c,** resonance, **d,** quality factor, and **e,** piezoresponse (Acos${\\phi}$) loop."
      ]
    },
    {
      "cell_type": "markdown",
      "metadata": {
        "id": "zAZezjL28P86",
        "colab_type": "text"
      },
      "source": [
        "## Loop Fitting Results"
      ]
    },
    {
      "cell_type": "code",
      "metadata": {
        "id": "QdFO4suI8P86",
        "colab_type": "code",
        "colab": {}
      },
      "source": [
        "# Sets the information for plotting. (User) can adjust scales.\n",
        "signal_clim = {'a1': dict(\n",
        "    label='a${_1}$',\n",
        "    data_loc='a1_mixed',\n",
        "    format_str='%.1e',\n",
        "    c_lim=[-1.5e-4, 0]),\n",
        "    'a2': dict(\n",
        "    label='a${_2}$',\n",
        "    data_loc='a2_mixed',\n",
        "    format_str='%.1e',\n",
        "    c_lim=[0, 1.5e-4]),\n",
        "    'a3': dict(\n",
        "    label='a${_3}$',\n",
        "    data_loc='a3_mixed',\n",
        "    format_str='%.1e',\n",
        "    c_lim=[-1e-6, 3e-6]),\n",
        "    'b1': dict(\n",
        "    label='b${_1}$',\n",
        "    data_loc='b1_mixed',\n",
        "    format_str='%.1f',\n",
        "    c_lim=[0, 10]),\n",
        "    'b2': dict(\n",
        "    label='b${_2}$',\n",
        "    data_loc='b2_mixed',\n",
        "    format_str='%.1f',\n",
        "    c_lim=[0, 50]),\n",
        "    'b3': dict(\n",
        "    label='b${_3}$',\n",
        "    data_loc='b3_mixed',\n",
        "    format_str='%.1f',\n",
        "    c_lim=[0, 12]),\n",
        "    'b4': dict(\n",
        "    label='b${_4}$',\n",
        "    data_loc='b4_mixed',\n",
        "    format_str='%.1f',\n",
        "    c_lim=[0, 25]),\n",
        "    'b5': dict(\n",
        "    label='b${_5}$',\n",
        "    data_loc='b5_mixed',\n",
        "    format_str='%.1f',\n",
        "    c_lim=[0, 12]),\n",
        "    'b6': dict(\n",
        "    label='b${_6}$',\n",
        "    data_loc='b6_mixed',\n",
        "    format_str='%.1f',\n",
        "    c_lim=[0, 12]),\n",
        "    'b7': dict(\n",
        "    label='b${_7}$',\n",
        "    data_loc='b7_mixed',\n",
        "    format_str='%.1f',\n",
        "    c_lim=[-15, 15]),\n",
        "    'b8': dict(\n",
        "    label='b${_8}$',\n",
        "    data_loc='b8_mixed',\n",
        "    format_str='%.1f',\n",
        "    c_lim=[-15, 15]),\n",
        "    'Loop Area': dict(\n",
        "    label='Raw Area',\n",
        "    data_loc='Acosarea_mixed',\n",
        "    format_str='%.1e',\n",
        "    c_lim=[5e-4, 4e-3]),\n",
        "    'Fitted Loop Area': dict(\n",
        "    label='Fitted Area',\n",
        "    data_loc='Acosareafit_mixed',\n",
        "    format_str='%.1e',\n",
        "    c_lim=[5e-4, 4e-3]),\n",
        "    'Raw/Fitted Loop Difference': dict(\n",
        "    label='Raw/Fitted Diff.',\n",
        "    data_loc='Acosareadif_mixed',\n",
        "    format_str='%.1e',\n",
        "    c_lim=[0, 1.5]),\n",
        "    'Raw Amplitude Centroid': dict(\n",
        "    label='Raw Amp. Cent.',\n",
        "    data_loc='AcoscentAc_mixed',\n",
        "    format_str='%.1e',\n",
        "    c_lim=[-2e-5, 2e-5]),\n",
        "    'Fitted Amplitude Centroid': dict(\n",
        "    label='Fitted Amp. Cent.',\n",
        "    data_loc='AcoscentAcfit_mixed',\n",
        "    format_str='%.1e',\n",
        "    c_lim=[-2e-5, 2e-5]),\n",
        "    'Raw Voltage Centroid': dict(\n",
        "    label='Raw Volt. Cent.',\n",
        "    data_loc='AcoscentV_mixed',\n",
        "    format_str='%.1f',\n",
        "    c_lim=[-1, 4]),\n",
        "    'Fitted Voltage Centroid': dict(\n",
        "    label='Fitted Volt. Cent.',\n",
        "    data_loc='AcoscentVfit_mixed',\n",
        "    format_str='%.1f',\n",
        "    c_lim=[-1, 4]),\n",
        "    'Loop Height': dict(\n",
        "    label='Height',\n",
        "    data_loc='Acosheight_mixed',\n",
        "    format_str='%.1e',\n",
        "    c_lim=[5e-5, 2.5e-4]),\n",
        "    'Loop Width': dict(\n",
        "    label='Width',\n",
        "    data_loc='Acoswidth_mixed',\n",
        "    format_str='%.1f',\n",
        "    c_lim=[12, 18]),\n",
        "    'Left Coercive field': dict(\n",
        "    label='Left E${_c}$',\n",
        "    data_loc='Al_mixed',\n",
        "    format_str='%.1f',\n",
        "    c_lim=[4, 11]),\n",
        "    'Right Coercive field': dict(\n",
        "    label='Right E${_c}$',\n",
        "    data_loc='Au_mixed',\n",
        "    format_str='%.1f',\n",
        "    c_lim=[4, 11]),\n",
        "    'Negative Nucleation Bias': dict(\n",
        "    label='Neg. Nuc. Bias',\n",
        "    data_loc='Acosnegnuc_mixed',\n",
        "    format_str='%.1f',\n",
        "    c_lim=[0, 6]),\n",
        "    'Positive Nucleation Bias': dict(\n",
        "    label='Pos. Nuc. Bias',\n",
        "    data_loc='Acosposnuc_mixed',\n",
        "    format_str='%.1f',\n",
        "    c_lim=[0, 6]),\n",
        "    'Loop Twist': dict(\n",
        "    label='Twist',\n",
        "    data_loc='Acostwist_mixed',\n",
        "    format_str='%.1e',\n",
        "    c_lim=[0, 2.5e-2]),\n",
        "    'Optimum Rotation Angle': dict(\n",
        "    label='Opt. Rot. Angle',\n",
        "    data_loc='optrotang_mixed',\n",
        "    format_str='%.1f',\n",
        "    c_lim=[235, 240]),\n",
        "    'Normalized Amplitude Centroid': dict(\n",
        "    label='Norm. Amp. Cent.',\n",
        "    data_loc='NormAcCent_mixed',\n",
        "    format_str='%.1f',\n",
        "    c_lim=[-15, 15]),\n",
        "    'Normalized Voltage Centroid': dict(\n",
        "    label='Norm. Volt. Cent.',\n",
        "    data_loc='NormVCent_mixed',\n",
        "    format_str='%.1f',\n",
        "    c_lim=[-10, 30])}\n",
        "\n",
        "viz.plot.loopfits(imported['data'], signal_clim,\n",
        "                  printing, folder_BE, plot_format)"
      ],
      "execution_count": 0,
      "outputs": []
    },
    {
      "cell_type": "markdown",
      "metadata": {
        "id": "7AlVjsHv8P86",
        "colab_type": "text"
      },
      "source": [
        "**Figure J7 |  Spatial maps of loop fitting parameters obtained from band excitation switching spectroscopy of PbZr${_{0.2}}$Ti${_{0.8}}$O${_{3}}$ with hierarchical domain structures. a,** a${_1}$ - represents the lowest piezoresponse amplitude. **b,** a${_2}$ - represents the highest piezoresponse value. **c,** a${_3}$ - Loop rotation as defined by tan${\\delta}$. **d-g,** b${_{1-4}}$ - parameters specifying the curvature of the loop transitions. **h-i,** b${_{5-6}}$ - parameter specifying the rate of transitions between the curvatures of the loop. **j-k,** b${_{7-8}}$ - parameter specifying the voltage midpoint of the transitions. **l-m,** Raw (fitted) loop area the area enclosed by the raw (fitted) loop, representative of the work of switching. **n,** Area differential, the absolute difference between the area enclosed by the raw and fitted loop. **o-p,**  Raw (fitted) amplitude centroid the center of mass of the amplitude of the raw (fitted) piezoresponse loop. **q-r,**  Raw (fitted) voltage centroid the center of mass of the raw (fitted) piezoresponse loop. **s,** Loop height the vertical height in amplitude of the piezoelectric hysteresis loop. **t,** Loop width in volts. **u-v,** Left/Right E${_c}$ negative/positive piezoelectric coercive fields. **w-x,** Negative/positive nucleation bias, representing the voltage where the piezoresponse has changed by 3% of the loop height. **y,** Loop twist, the twists in shape of the piezoelectric hysteresis loops. **z,** Optimum rotation angle, the optimum ${\\phi}$ found which maximizes Acos${\\phi}$. **aa-ab,** Loop height (width) normalized amplitude (voltage) centroids. "
      ]
    },
    {
      "cell_type": "markdown",
      "metadata": {
        "id": "U-L04bo-8P87",
        "colab_type": "text"
      },
      "source": [
        "# Classical Machine Learning Approaches"
      ]
    },
    {
      "cell_type": "markdown",
      "metadata": {
        "id": "au7w99y48P87",
        "colab_type": "text"
      },
      "source": [
        "## Principal Component Analysis"
      ]
    },
    {
      "cell_type": "markdown",
      "metadata": {
        "id": "ULhtkDvB8P87",
        "colab_type": "text"
      },
      "source": [
        "### Piezoresponse"
      ]
    },
    {
      "cell_type": "code",
      "metadata": {
        "id": "3B_O-xyZ8P87",
        "colab_type": "code",
        "colab": {}
      },
      "source": [
        "# creates a dictionary to store the machine learning results\n",
        "machine_learning = {'pca': dict(),\n",
        "                    'nmf': dict(),\n",
        "                    'clustering': dict(),\n",
        "                    'pca_clustering': dict()}"
      ],
      "execution_count": 0,
      "outputs": []
    },
    {
      "cell_type": "code",
      "metadata": {
        "id": "WP3Xewod8P88",
        "colab_type": "code",
        "colab": {}
      },
      "source": [
        "# Computes the PCA\n",
        "# second index represents the number of components to compute\n",
        "machine_learning['pca']['piezoresponse'], _ = ml.pca(\n",
        "    sg_filtered['piezoresponse'], 16)\n",
        "\n",
        "# Plots the PCA results\n",
        "viz.plot.pca_results(machine_learning['pca']['piezoresponse'], data,\n",
        "                     signal_info, printing, folder_pca,\n",
        "                     plot_format, 'piezoresponse', filename='piezoresponse')"
      ],
      "execution_count": 0,
      "outputs": []
    },
    {
      "cell_type": "markdown",
      "metadata": {
        "id": "_a8MWxeA8P88",
        "colab_type": "text"
      },
      "source": [
        "**Figure J9 |  Principal component analysis the piezoresponse obtained from band excitation switching spectroscopy of PbZr${_{0.2}}$Ti${_{0.8}}$O${_{3}}$ with hierarchical domain structures.**"
      ]
    },
    {
      "cell_type": "markdown",
      "metadata": {
        "id": "d7RmLfxD8P89",
        "colab_type": "text"
      },
      "source": [
        "### Amplitude"
      ]
    },
    {
      "cell_type": "code",
      "metadata": {
        "id": "2yQkEH118P89",
        "colab_type": "code",
        "colab": {}
      },
      "source": [
        "# Computes the PCA\n",
        "# second index represents the number of components to compute\n",
        "machine_learning['pca']['amplitude'], _ = ml.pca(sg_filtered['amplitude'], 16)\n",
        "\n",
        "# plots the pca results\n",
        "viz.plot.pca_results(machine_learning['pca']['amplitude'], data,\n",
        "                     signal_info, printing, folder_pca,\n",
        "                     plot_format, 'amplitude', filename='amplitude')"
      ],
      "execution_count": 0,
      "outputs": []
    },
    {
      "cell_type": "markdown",
      "metadata": {
        "id": "F9yKOFJV8P89",
        "colab_type": "text"
      },
      "source": [
        "**Figure J10 |  Principal component analysis the amplitude obtained from band excitation switching spectroscopy of PbZr${_{0.2}}$Ti${_{0.8}}$O${_{3}}$ with hierarchical domain structures.**"
      ]
    },
    {
      "cell_type": "markdown",
      "metadata": {
        "id": "ZTNW4OVi8P8-",
        "colab_type": "text"
      },
      "source": [
        "### Phase"
      ]
    },
    {
      "cell_type": "code",
      "metadata": {
        "id": "fxcDBfF78P8-",
        "colab_type": "code",
        "colab": {}
      },
      "source": [
        "# Computes the PCA\n",
        "# second index represents the number of components to compute\n",
        "machine_learning['pca']['phase'], _ = ml.pca(sg_filtered['phase'], 16)\n",
        "\n",
        "# plots the pca results\n",
        "viz.plot.pca_results(machine_learning['pca']['phase'], data,\n",
        "                     signal_info, printing, folder_pca,\n",
        "                     plot_format, 'phase', filename='phase')"
      ],
      "execution_count": 0,
      "outputs": []
    },
    {
      "cell_type": "markdown",
      "metadata": {
        "id": "0nNsEa5I8P8-",
        "colab_type": "text"
      },
      "source": [
        "**Figure J11 |  Principal component analysis the phase obtained from band excitation switching spectroscopy of PbZr${_{0.2}}$Ti${_{0.8}}$O${_{3}}$ with hierarchical domain structures.**"
      ]
    },
    {
      "cell_type": "markdown",
      "metadata": {
        "id": "gEx6CuvC8P8-",
        "colab_type": "text"
      },
      "source": [
        "### Resonance Frequency"
      ]
    },
    {
      "cell_type": "code",
      "metadata": {
        "id": "HVywMOj68P8_",
        "colab_type": "code",
        "colab": {}
      },
      "source": [
        "# Computes the PCA\n",
        "# second index represents the number of components to compute\n",
        "machine_learning['pca']['resonance'], _ = ml.pca(sg_filtered['resonance'], 16)\n",
        "\n",
        "# plots the pca results\n",
        "viz.plot.pca_results(machine_learning['pca']['resonance'], data,\n",
        "                     signal_info, printing, folder_pca,\n",
        "                     plot_format, 'resonance', filename='resonance')"
      ],
      "execution_count": 0,
      "outputs": []
    },
    {
      "cell_type": "markdown",
      "metadata": {
        "id": "YOp76Kkv8P8_",
        "colab_type": "text"
      },
      "source": [
        "**Figure J12 |  Principal component analysis the resonance frequency obtained from band excitation switching spectroscopy of PbZr${_{0.2}}$Ti${_{0.8}}$O${_{3}}$ with hierarchical domain structures.**"
      ]
    },
    {
      "cell_type": "markdown",
      "metadata": {
        "id": "NdpKjB8r8P9A",
        "colab_type": "text"
      },
      "source": [
        "### Quality Factor"
      ]
    },
    {
      "cell_type": "code",
      "metadata": {
        "id": "aBY9AQoT8P9A",
        "colab_type": "code",
        "colab": {}
      },
      "source": [
        "# Computes the PCA\n",
        "# second index represents the number of components to compute\n",
        "machine_learning['pca']['quality_factor'], _ = ml.pca(\n",
        "    sg_filtered['quality_factor'], 16)\n",
        "\n",
        "# plots the pca results\n",
        "viz.plot.pca_results(machine_learning['pca']['quality_factor'], data,\n",
        "                     signal_info, printing, folder_pca,\n",
        "                     plot_format, 'quality_factor', filename='quality_factor')"
      ],
      "execution_count": 0,
      "outputs": []
    },
    {
      "cell_type": "markdown",
      "metadata": {
        "id": "kkK11XH_8P9A",
        "colab_type": "text"
      },
      "source": [
        "**Figure J13 |  Principal component analysis the quality factor obtained from band excitation switching spectroscopy of PbZr${_{0.2}}$Ti${_{0.8}}$O${_{3}}$ with hierarchical domain structures.**"
      ]
    },
    {
      "cell_type": "markdown",
      "metadata": {
        "id": "2apcw9DO8P9A",
        "colab_type": "text"
      },
      "source": [
        "## Non-Negative Matrix Factorization"
      ]
    },
    {
      "cell_type": "markdown",
      "metadata": {
        "id": "uUDOPgig8P9B",
        "colab_type": "text"
      },
      "source": [
        "### Piezoresponse"
      ]
    },
    {
      "cell_type": "code",
      "metadata": {
        "id": "nIgJOZaW8P9B",
        "colab_type": "code",
        "colab": {}
      },
      "source": [
        "# builds the model for NMF\n",
        "model = NMF(n_components=4, init='random',\n",
        "            random_state=0, alpha=1e-7, l1_ratio=1)\n",
        "# computes the nmf\n",
        "machine_learning['nmf']['piezoresponse'] = ml.nmf(\n",
        "    model, data['sg_filtered']['piezoresponse'])\n",
        "\n",
        "# plots the nmf results\n",
        "viz.plot.NMF(data['raw']['voltage'],\n",
        "             machine_learning['nmf']['piezoresponse'],\n",
        "             printing,\n",
        "             plot_format,\n",
        "             signal_info['piezoresponse'],\n",
        "             folder=folder_nmf,\n",
        "             letter_labels=True,\n",
        "             custom_order=[0, 2, 3, 1])"
      ],
      "execution_count": 0,
      "outputs": []
    },
    {
      "cell_type": "markdown",
      "metadata": {
        "id": "Cmhpky-C8P9B",
        "colab_type": "text"
      },
      "source": [
        "**Figure J14 |  Non-negative matrix factorization of the piezoresponse obtained from band excitation switching spectroscopy of PbZr${_{0.2}}$Ti${_{0.8}}$O${_{3}}$ with hierarchical domain structures.**"
      ]
    },
    {
      "cell_type": "markdown",
      "metadata": {
        "id": "Bb3GTaZY8P9C",
        "colab_type": "text"
      },
      "source": [
        "### Amplitude"
      ]
    },
    {
      "cell_type": "code",
      "metadata": {
        "id": "E6CktJ048P9C",
        "colab_type": "code",
        "colab": {}
      },
      "source": [
        "# builds the model for NMF\n",
        "model = NMF(n_components=4, init='random',\n",
        "            random_state=0, alpha=1e-7, l1_ratio=1)\n",
        "# computes the nmf\n",
        "machine_learning['nmf']['amplitude'] = ml.nmf(\n",
        "    model, data['sg_filtered']['amplitude'])\n",
        "\n",
        "# plots the nmf results\n",
        "viz.plot.NMF(data['raw']['voltage'],\n",
        "             machine_learning['nmf']['amplitude'],\n",
        "             printing,\n",
        "             plot_format,\n",
        "             signal_info['amplitude'],\n",
        "             folder=folder_nmf,\n",
        "             letter_labels=True,\n",
        "             custom_order=[0, 2, 3, 1])"
      ],
      "execution_count": 0,
      "outputs": []
    },
    {
      "cell_type": "markdown",
      "metadata": {
        "id": "xWakR7LU8P9C",
        "colab_type": "text"
      },
      "source": [
        "**Figure J15 |  Non-negative matrix factorization of the amplitude obtained from band excitation switching spectroscopy of PbZr${_{0.2}}$Ti${_{0.8}}$O${_{3}}$ with hierarchical domain structures.**"
      ]
    },
    {
      "cell_type": "markdown",
      "metadata": {
        "id": "uGVcPHwa8P9D",
        "colab_type": "text"
      },
      "source": [
        "### Phase"
      ]
    },
    {
      "cell_type": "code",
      "metadata": {
        "id": "EtZsoTXr8P9D",
        "colab_type": "code",
        "colab": {}
      },
      "source": [
        "# builds the model for NMF\n",
        "model = NMF(n_components=4, init='random',\n",
        "            random_state=0, alpha=1e-7, l1_ratio=1)\n",
        "# computes the nmf\n",
        "machine_learning['nmf']['phase'] = ml.nmf(model, data['sg_filtered']['phase'])\n",
        "\n",
        "# plots the nmf results\n",
        "viz.plot.NMF(data['raw']['voltage'],\n",
        "             machine_learning['nmf']['phase'],\n",
        "             printing,\n",
        "             plot_format,\n",
        "             signal_info['phase'],\n",
        "             folder=folder_nmf,\n",
        "             letter_labels=True,\n",
        "             custom_order=[0, 2, 3, 1])"
      ],
      "execution_count": 0,
      "outputs": []
    },
    {
      "cell_type": "markdown",
      "metadata": {
        "id": "ZgjicKvX8P9D",
        "colab_type": "text"
      },
      "source": [
        "**Figure J16 |  Non-negative matrix factorization of the phase obtained from band excitation switching spectroscopy of PbZr${_{0.2}}$Ti${_{0.8}}$O${_{3}}$ with hierarchical domain structures.**"
      ]
    },
    {
      "cell_type": "markdown",
      "metadata": {
        "id": "nhLD4I7L8P9E",
        "colab_type": "text"
      },
      "source": [
        "### Resonance Frequency"
      ]
    },
    {
      "cell_type": "code",
      "metadata": {
        "id": "heulcY-38P9E",
        "colab_type": "code",
        "colab": {}
      },
      "source": [
        "# builds the model for NMF\n",
        "model = NMF(n_components=4, init='random',\n",
        "            random_state=0, alpha=1e-7, l1_ratio=1)\n",
        "# computes the nmf\n",
        "machine_learning['nmf']['resonance'] = ml.nmf(\n",
        "    model, data['sg_filtered']['resonance'])\n",
        "\n",
        "# plots the nmf\n",
        "viz.plot.NMF(data['raw']['voltage'],\n",
        "             machine_learning['nmf']['resonance'],\n",
        "             printing,\n",
        "             plot_format,\n",
        "             signal_info['resonance'],\n",
        "             folder=folder_nmf,\n",
        "             letter_labels=True,\n",
        "             custom_order=[0, 2, 3, 1])"
      ],
      "execution_count": 0,
      "outputs": []
    },
    {
      "cell_type": "markdown",
      "metadata": {
        "id": "mTBd-oMc8P9F",
        "colab_type": "text"
      },
      "source": [
        "**Figure J17 |  Non-negative matrix factorization of the resonance frequency obtained from band excitation switching spectroscopy of PbZr${_{0.2}}$Ti${_{0.8}}$O${_{3}}$ with hierarchical domain structures.**"
      ]
    },
    {
      "cell_type": "markdown",
      "metadata": {
        "id": "iWmaIN_18P9F",
        "colab_type": "text"
      },
      "source": [
        "### Quality Factor"
      ]
    },
    {
      "cell_type": "code",
      "metadata": {
        "id": "SHkksB5P8P9F",
        "colab_type": "code",
        "colab": {}
      },
      "source": [
        "# builds the model for NMF\n",
        "model = NMF(n_components=4, init='random',\n",
        "            random_state=0, alpha=1e-7, l1_ratio=1)\n",
        "# computes the nmf\n",
        "machine_learning['nmf']['quality_factor'] = ml.nmf(\n",
        "    model, data['sg_filtered']['quality_factor'])\n",
        "\n",
        "# plots the nmf\n",
        "viz.plot.NMF(data['raw']['voltage'],\n",
        "             machine_learning['nmf']['quality_factor'],\n",
        "             printing,\n",
        "             plot_format,\n",
        "             signal_info['quality_factor'],\n",
        "             folder=folder_nmf,\n",
        "             letter_labels=True,\n",
        "             custom_order=[0, 2, 3, 1])"
      ],
      "execution_count": 0,
      "outputs": []
    },
    {
      "cell_type": "markdown",
      "metadata": {
        "id": "ali2XNxH8P9F",
        "colab_type": "text"
      },
      "source": [
        "**Figure J18 |  Non-negative matrix factorization of the quality factor obtained from band excitation switching spectroscopy of PbZr${_{0.2}}$Ti${_{0.8}}$O${_{3}}$ with hierarchical domain structures.**"
      ]
    },
    {
      "cell_type": "markdown",
      "metadata": {
        "id": "MoJGO5m88P9G",
        "colab_type": "text"
      },
      "source": [
        "## Clustering"
      ]
    },
    {
      "cell_type": "code",
      "metadata": {
        "id": "vlYBfYA38P9G",
        "colab_type": "code",
        "colab": {}
      },
      "source": [
        "# Sets the number of clusters in the divisive clustering\n",
        "clustering = {'initial_clusters': 2,\n",
        "              'c_clusters': 5,\n",
        "              'a_clusters': 4}\n",
        "\n",
        "# Sets the names of the maps\n",
        "names = {('c/a-a${_1}$/a${_2}$', 'cluster_ca'),\n",
        "         ('a${_1}$/a${_2}$', 'a_map'),\n",
        "         ('c/a', 'c_map')}"
      ],
      "execution_count": 0,
      "outputs": []
    },
    {
      "cell_type": "markdown",
      "metadata": {
        "id": "IXkvB56C8P9G",
        "colab_type": "text"
      },
      "source": [
        "### Piezoresponse"
      ]
    },
    {
      "cell_type": "code",
      "metadata": {
        "id": "SkTULA808P9H",
        "colab_type": "code",
        "colab": {}
      },
      "source": [
        "# clusters the piezoresponse curves\n",
        "machine_learning['clustering']['piezoresponse'] = ml.k_means_clustering(\n",
        "    data, 'piezoresponse',\n",
        "    clustering, seed=42)\n",
        "\n",
        "# plots the cluster maps\n",
        "viz.plot.hierarchical_clustering(machine_learning['clustering']['piezoresponse'],\n",
        "                                names,\n",
        "                                plot_format)"
      ],
      "execution_count": 0,
      "outputs": []
    },
    {
      "cell_type": "markdown",
      "metadata": {
        "id": "5Xxu0xyz8P9H",
        "colab_type": "text"
      },
      "source": [
        "**Figure J19 | Divisive clustering of the piezoresponse curves obtained from band excitation switching spectroscopy of PbZr${_{0.2}}$Ti${_{0.8}}$O${_{3}}$ with hierarchical domain structures.**"
      ]
    },
    {
      "cell_type": "code",
      "metadata": {
        "id": "5Ea4XHmf8P9H",
        "colab_type": "code",
        "colab": {}
      },
      "source": [
        "# sets the y range for the plots\n",
        "signal_info['piezoresponse']['y_lim'] = [-1.5e-4, 1.5e-4]\n",
        "\n",
        "# plots the cluster maps and average hysteresis loops\n",
        "viz.plot.clustered_hysteresis(data['raw']['voltage'],\n",
        "                              data['sg_filtered']['piezoresponse'],\n",
        "                              machine_learning['clustering']['piezoresponse'],\n",
        "                              plot_format,\n",
        "                              signal_info,\n",
        "                              'piezoresponse',\n",
        "                              printing,\n",
        "                              folder_clustering)"
      ],
      "execution_count": 0,
      "outputs": []
    },
    {
      "cell_type": "markdown",
      "metadata": {
        "id": "FWyTI_IA8P9I",
        "colab_type": "text"
      },
      "source": [
        "**Figure J20 | Divisive clustering of the piezoresponse curves obtained from band excitation switching spectroscopy of PbZr${_{0.2}}$Ti${_{0.8}}$O${_{3}}$ with hierarchical domain structures.**"
      ]
    },
    {
      "cell_type": "markdown",
      "metadata": {
        "id": "Gy8KE-nG8P9I",
        "colab_type": "text"
      },
      "source": [
        "### Amplitude"
      ]
    },
    {
      "cell_type": "code",
      "metadata": {
        "id": "IYuRQsgM8P9I",
        "colab_type": "code",
        "colab": {}
      },
      "source": [
        "# clusters the amplitude curves\n",
        "machine_learning['clustering']['amplitude'] = ml.k_means_clustering(\n",
        "    data, 'amplitude',\n",
        "    clustering, seed=42)\n",
        "\n",
        "# plots the amplitude clustering maps\n",
        "viz.plot.hierarchical_clustering(machine_learning['clustering']['amplitude'],\n",
        "                                names, plot_format)"
      ],
      "execution_count": 0,
      "outputs": []
    },
    {
      "cell_type": "markdown",
      "metadata": {
        "id": "Q-C8oHLL8P9J",
        "colab_type": "text"
      },
      "source": [
        "**Figure J21 | Divisive clustering of the amplitude curves obtained from band excitation switching spectroscopy of PbZr${_{0.2}}$Ti${_{0.8}}$O${_{3}}$ with hierarchical domain structures.**"
      ]
    },
    {
      "cell_type": "code",
      "metadata": {
        "id": "wo9Ij6_N8P9J",
        "colab_type": "code",
        "colab": {}
      },
      "source": [
        "# plots the clustering map and average hysteresis loop\n",
        "viz.plot.clustered_hysteresis(data['raw']['voltage'],\n",
        "                              data['sg_filtered']['piezoresponse'],\n",
        "                              machine_learning['clustering']['amplitude'],\n",
        "                              plot_format,\n",
        "                              signal_info,\n",
        "                              'amplitude',\n",
        "                              printing,\n",
        "                              folder_clustering)"
      ],
      "execution_count": 0,
      "outputs": []
    },
    {
      "cell_type": "markdown",
      "metadata": {
        "id": "bt-hDBpl8P9J",
        "colab_type": "text"
      },
      "source": [
        "**Figure J22 | Divisive clustering of the amplitude curves obtained from band excitation switching spectroscopy of PbZr${_{0.2}}$Ti${_{0.8}}$O${_{3}}$ with hierarchical domain structures.**"
      ]
    },
    {
      "cell_type": "markdown",
      "metadata": {
        "id": "fe2-XRdp8P9K",
        "colab_type": "text"
      },
      "source": [
        "### Phase"
      ]
    },
    {
      "cell_type": "code",
      "metadata": {
        "id": "Is0AACIo8P9K",
        "colab_type": "code",
        "colab": {}
      },
      "source": [
        "# clusters the phase loops\n",
        "machine_learning['clustering']['phase'] = ml.k_means_clustering(\n",
        "    data, 'phase',\n",
        "    clustering, seed=42)\n",
        "\n",
        "# plots the cluster maps\n",
        "viz.plot.hierarchical_clustering(machine_learning['clustering']['phase'],\n",
        "                                names, plot_format)"
      ],
      "execution_count": 0,
      "outputs": []
    },
    {
      "cell_type": "markdown",
      "metadata": {
        "id": "HeLjlCwI8P9K",
        "colab_type": "text"
      },
      "source": [
        "**Figure J23 | Divisive clustering of the phase curves obtained from band excitation switching spectroscopy of PbZr${_{0.2}}$Ti${_{0.8}}$O${_{3}}$ with hierarchical domain structures.**"
      ]
    },
    {
      "cell_type": "code",
      "metadata": {
        "id": "1_6JYSdn8P9L",
        "colab_type": "code",
        "colab": {}
      },
      "source": [
        "# plots the clustering map and average hysteresis loop\n",
        "viz.plot.clustered_hysteresis(data['raw']['voltage'],\n",
        "                              data['sg_filtered']['piezoresponse'],\n",
        "                              machine_learning['clustering']['phase'],\n",
        "                              plot_format,\n",
        "                              signal_info,\n",
        "                              'phase',\n",
        "                              printing,\n",
        "                              folder_clustering)"
      ],
      "execution_count": 0,
      "outputs": []
    },
    {
      "cell_type": "markdown",
      "metadata": {
        "id": "Z1L_MWpg8P9L",
        "colab_type": "text"
      },
      "source": [
        "### Resonance Frequency"
      ]
    },
    {
      "cell_type": "code",
      "metadata": {
        "id": "-gCBlrw18P9L",
        "colab_type": "code",
        "colab": {}
      },
      "source": [
        "# clusters the resonance frequency\n",
        "machine_learning['clustering']['resonance'] = ml.k_means_clustering(\n",
        "    data, 'resonance',\n",
        "    clustering, seed=42)\n",
        "\n",
        "# plots the resonance frequency maps\n",
        "viz.plot.hierarchical_clustering(machine_learning['clustering']['resonance'],\n",
        "                                names, plot_format)"
      ],
      "execution_count": 0,
      "outputs": []
    },
    {
      "cell_type": "markdown",
      "metadata": {
        "id": "kdqo2KLs8P9M",
        "colab_type": "text"
      },
      "source": [
        "**Figure J24 | Divisive clustering of the resonance frequency curves obtained from band excitation switching spectroscopy of PbZr${_{0.2}}$Ti${_{0.8}}$O${_{3}}$ with hierarchical domain structures.**"
      ]
    },
    {
      "cell_type": "code",
      "metadata": {
        "id": "zTFUCawT8P9M",
        "colab_type": "code",
        "colab": {}
      },
      "source": [
        "# plots the clusters with average hysteresis loops\n",
        "viz.plot.clustered_hysteresis(data['raw']['voltage'],\n",
        "                              data['sg_filtered']['piezoresponse'],\n",
        "                              machine_learning['clustering']['resonance'],\n",
        "                              plot_format,\n",
        "                              signal_info,\n",
        "                              'resonance',\n",
        "                              printing,\n",
        "                              folder_clustering)"
      ],
      "execution_count": 0,
      "outputs": []
    },
    {
      "cell_type": "markdown",
      "metadata": {
        "id": "-P_hL-Vr8P9N",
        "colab_type": "text"
      },
      "source": [
        "**Figure J25 | Divisive clustering of the resonance frequency curves obtained from band excitation switching spectroscopy of PbZr${_{0.2}}$Ti${_{0.8}}$O${_{3}}$ with hierarchical domain structures.**"
      ]
    },
    {
      "cell_type": "markdown",
      "metadata": {
        "id": "9wKkEl0q8P9N",
        "colab_type": "text"
      },
      "source": [
        "### Quality Factor"
      ]
    },
    {
      "cell_type": "code",
      "metadata": {
        "id": "ceH46rVD8P9N",
        "colab_type": "code",
        "colab": {}
      },
      "source": [
        "# clusters the quality factor curves\n",
        "machine_learning['clustering']['quality_factor'] = ml.k_means_clustering(\n",
        "    data, 'quality_factor',\n",
        "    clustering, seed=42)\n",
        "\n",
        "# plots the cluster maps\n",
        "viz.plot.hierarchical_clustering(machine_learning['clustering']['quality_factor'],\n",
        "                                names, plot_format)"
      ],
      "execution_count": 0,
      "outputs": []
    },
    {
      "cell_type": "markdown",
      "metadata": {
        "id": "tk_UUBrU8P9O",
        "colab_type": "text"
      },
      "source": [
        "**Figure J26 | Divisive clustering of the quality factor curves obtained from band excitation switching spectroscopy of PbZr${_{0.2}}$Ti${_{0.8}}$O${_{3}}$ with hierarchical domain structures.**"
      ]
    },
    {
      "cell_type": "code",
      "metadata": {
        "id": "uHiCVZ-n8P9O",
        "colab_type": "code",
        "colab": {}
      },
      "source": [
        "# plots the cluster maps and average hysteresis loops\n",
        "viz.plot.clustered_hysteresis(data['raw']['voltage'],\n",
        "                              data['sg_filtered']['piezoresponse'],\n",
        "                              machine_learning['clustering']['quality_factor'],\n",
        "                              plot_format,\n",
        "                              signal_info,\n",
        "                              'quality_factor',\n",
        "                              printing,\n",
        "                              folder_clustering)"
      ],
      "execution_count": 0,
      "outputs": []
    },
    {
      "cell_type": "markdown",
      "metadata": {
        "id": "8en6OLgz8P9O",
        "colab_type": "text"
      },
      "source": [
        "**Figure J27 | Divisive clustering of the quality factor curves obtained from band excitation switching spectroscopy of PbZr${_{0.2}}$Ti${_{0.8}}$O${_{3}}$ with hierarchical domain structures.**"
      ]
    },
    {
      "cell_type": "markdown",
      "metadata": {
        "id": "Ob3KxIty8P9O",
        "colab_type": "text"
      },
      "source": [
        "## PCA + Clustering"
      ]
    },
    {
      "cell_type": "markdown",
      "metadata": {
        "id": "i3nxuYsZ8P9P",
        "colab_type": "text"
      },
      "source": [
        "### Piezoresponse"
      ]
    },
    {
      "cell_type": "code",
      "metadata": {
        "id": "91UC683-8P9P",
        "colab_type": "code",
        "colab": {}
      },
      "source": [
        "signal = 'piezoresponse'\n",
        "\n",
        "# computes the PCA\n",
        "eigenvalues = ml.weights_as_embeddings(machine_learning['pca'][signal],\n",
        "                                       data['sg_filtered'][signal])\n",
        "\n",
        "# clusters the PCA results\n",
        "machine_learning['pca_clustering'][signal] = ml.k_means_clustering(\n",
        "    data, signal,\n",
        "    clustering, seed=42, pca_in=eigenvalues)\n",
        "\n",
        "# plots the cluster maps\n",
        "viz.plot.hierarchical_clustering(machine_learning['pca_clustering'][signal],\n",
        "                                names, plot_format)"
      ],
      "execution_count": 0,
      "outputs": []
    },
    {
      "cell_type": "markdown",
      "metadata": {
        "id": "f_1MVqyh8P9P",
        "colab_type": "text"
      },
      "source": [
        "**Figure J28 | Divisive clustering of the first 16 principal components of the piezoresponse curves obtained from band excitation switching spectroscopy of PbZr${_{0.2}}$Ti${_{0.8}}$O${_{3}}$ with hierarchical domain structures.**"
      ]
    },
    {
      "cell_type": "code",
      "metadata": {
        "id": "xNn89EJ78P9Q",
        "colab_type": "code",
        "colab": {}
      },
      "source": [
        "# plots the clustering results and average hysteresis curves\n",
        "viz.plot.clustered_hysteresis(data['raw']['voltage'],\n",
        "                              data['sg_filtered']['piezoresponse'],\n",
        "                              machine_learning['clustering'][signal],\n",
        "                              plot_format,\n",
        "                              signal_info,\n",
        "                              signal,\n",
        "                              printing,\n",
        "                              folder_pca_clustering)"
      ],
      "execution_count": 0,
      "outputs": []
    },
    {
      "cell_type": "markdown",
      "metadata": {
        "id": "r9WJ5GKN8P9Q",
        "colab_type": "text"
      },
      "source": [
        "**Figure J29 | Divisive clustering of the first 16 principal components of the piezoresponse curves obtained from band excitation switching spectroscopy of PbZr${_{0.2}}$Ti${_{0.8}}$O${_{3}}$ with hierarchical domain structures.**"
      ]
    },
    {
      "cell_type": "markdown",
      "metadata": {
        "id": "-L9GSMU88P9Q",
        "colab_type": "text"
      },
      "source": [
        "### Amplitude"
      ]
    },
    {
      "cell_type": "code",
      "metadata": {
        "id": "pOv4Jj8D8P9Q",
        "colab_type": "code",
        "colab": {}
      },
      "source": [
        "signal = 'amplitude'\n",
        "\n",
        "# computes the pca\n",
        "eigenvalues = ml.weights_as_embeddings(machine_learning['pca'][signal],\n",
        "                                       data['sg_filtered'][signal])\n",
        "# clusters the loops\n",
        "machine_learning['pca_clustering'][signal] = ml.k_means_clustering(\n",
        "    data, signal,\n",
        "    clustering, seed=42, pca_in=eigenvalues)\n",
        "\n",
        "# plots the clustering maps\n",
        "viz.plot.hierarchical_clustering(machine_learning['pca_clustering'][signal],\n",
        "                                names, plot_format)"
      ],
      "execution_count": 0,
      "outputs": []
    },
    {
      "cell_type": "markdown",
      "metadata": {
        "id": "qKZOFYoX8P9R",
        "colab_type": "text"
      },
      "source": [
        "**Figure J30 | Divisive clustering of the first 16 principal components of the amplitude curves obtained from band excitation switching spectroscopy of PbZr${_{0.2}}$Ti${_{0.8}}$O${_{3}}$ with hierarchical domain structures.**"
      ]
    },
    {
      "cell_type": "code",
      "metadata": {
        "id": "MokFiJRp8P9R",
        "colab_type": "code",
        "colab": {}
      },
      "source": [
        "# plots the clustering maps and average hysteresis loops\n",
        "viz.plot.clustered_hysteresis(data['raw']['voltage'],\n",
        "                              data['sg_filtered']['piezoresponse'],\n",
        "                              machine_learning['clustering'][signal],\n",
        "                              plot_format,\n",
        "                              signal_info,\n",
        "                              signal,\n",
        "                              printing,\n",
        "                              folder_pca_clustering)"
      ],
      "execution_count": 0,
      "outputs": []
    },
    {
      "cell_type": "markdown",
      "metadata": {
        "id": "nnFOLZRu8P9S",
        "colab_type": "text"
      },
      "source": [
        "**Figure J31 | Divisive clustering of the first 16 principal components of the amplitude curves obtained from band excitation switching spectroscopy of PbZr${_{0.2}}$Ti${_{0.8}}$O${_{3}}$ with hierarchical domain structures.**"
      ]
    },
    {
      "cell_type": "markdown",
      "metadata": {
        "id": "hajIikN88P9S",
        "colab_type": "text"
      },
      "source": [
        "### Phase"
      ]
    },
    {
      "cell_type": "code",
      "metadata": {
        "id": "IbjmMKQR8P9S",
        "colab_type": "code",
        "colab": {}
      },
      "source": [
        "signal = 'phase'\n",
        "\n",
        "# computes the pca\n",
        "eigenvalues = ml.weights_as_embeddings(machine_learning['pca'][signal],\n",
        "                                       data['sg_filtered'][signal])\n",
        "# clusters the pca\n",
        "machine_learning['pca_clustering'][signal] = ml.k_means_clustering(\n",
        "    data, signal,\n",
        "    clustering, seed=42, pca_in=eigenvalues)\n",
        "# plots the cluster maps\n",
        "viz.plot.hierarchical_clustering(machine_learning['pca_clustering'][signal],\n",
        "                                names, plot_format)"
      ],
      "execution_count": 0,
      "outputs": []
    },
    {
      "cell_type": "markdown",
      "metadata": {
        "id": "SiMzfBkI8P9T",
        "colab_type": "text"
      },
      "source": [
        "**Figure J32 | Divisive clustering of the first 16 principal components of the phase curves obtained from band excitation switching spectroscopy of PbZr${_{0.2}}$Ti${_{0.8}}$O${_{3}}$ with hierarchical domain structures.**"
      ]
    },
    {
      "cell_type": "code",
      "metadata": {
        "id": "iM2DbG4s8P9T",
        "colab_type": "code",
        "colab": {}
      },
      "source": [
        "# plots the clustering maps and average hysteresis loops\n",
        "viz.plot.clustered_hysteresis(data['raw']['voltage'],\n",
        "                              data['sg_filtered']['piezoresponse'],\n",
        "                              machine_learning['clustering'][signal],\n",
        "                              plot_format,\n",
        "                              signal_info,\n",
        "                              signal,\n",
        "                              printing,\n",
        "                              folder_pca_clustering)"
      ],
      "execution_count": 0,
      "outputs": []
    },
    {
      "cell_type": "markdown",
      "metadata": {
        "id": "28_LNSey8P9U",
        "colab_type": "text"
      },
      "source": [
        "**Figure J33 | Divisive clustering of the first 16 principal components of the phase curves obtained from band excitation switching spectroscopy of PbZr${_{0.2}}$Ti${_{0.8}}$O${_{3}}$ with hierarchical domain structures.**"
      ]
    },
    {
      "cell_type": "markdown",
      "metadata": {
        "id": "asbreqgA8P9U",
        "colab_type": "text"
      },
      "source": [
        "### Resonance"
      ]
    },
    {
      "cell_type": "code",
      "metadata": {
        "id": "snGVlaH18P9U",
        "colab_type": "code",
        "colab": {}
      },
      "source": [
        "signal = 'resonance'\n",
        "\n",
        "# computes the pca\n",
        "eigenvalues = ml.weights_as_embeddings(machine_learning['pca'][signal],\n",
        "                                       data['sg_filtered'][signal])\n",
        "# clusters the results\n",
        "machine_learning['pca_clustering'][signal] = ml.k_means_clustering(\n",
        "    data, signal,\n",
        "    clustering, seed=42, pca_in=eigenvalues)\n",
        "# plots the cluster maps\n",
        "viz.plot.hierarchical_clustering(machine_learning['pca_clustering'][signal],\n",
        "                                names, plot_format)"
      ],
      "execution_count": 0,
      "outputs": []
    },
    {
      "cell_type": "markdown",
      "metadata": {
        "id": "BaaQo5WY8P9U",
        "colab_type": "text"
      },
      "source": [
        "**Figure J34 | Divisive clustering of the first 16 principal components of the resonance frequency curves obtained from band excitation switching spectroscopy of PbZr${_{0.2}}$Ti${_{0.8}}$O${_{3}}$ with hierarchical domain structures.**"
      ]
    },
    {
      "cell_type": "code",
      "metadata": {
        "id": "Pa0amCC48P9V",
        "colab_type": "code",
        "colab": {}
      },
      "source": [
        "# plots the clustering maps and average hysteresis loops\n",
        "viz.plot.clustered_hysteresis(data['raw']['voltage'],\n",
        "                              data['sg_filtered']['piezoresponse'],\n",
        "                              machine_learning['clustering'][signal],\n",
        "                              plot_format,\n",
        "                              signal_info,\n",
        "                              signal,\n",
        "                              printing,\n",
        "                              folder_pca_clustering)"
      ],
      "execution_count": 0,
      "outputs": []
    },
    {
      "cell_type": "markdown",
      "metadata": {
        "id": "BvqYXc-G8P9W",
        "colab_type": "text"
      },
      "source": [
        "**Figure J35 | Divisive clustering of the first 16 principal components of the resonance frequency curves obtained from band excitation switching spectroscopy of PbZr${_{0.2}}$Ti${_{0.8}}$O${_{3}}$ with hierarchical domain structures.**"
      ]
    },
    {
      "cell_type": "markdown",
      "metadata": {
        "id": "kgDRSc1N8P9W",
        "colab_type": "text"
      },
      "source": [
        "### Quality Factor"
      ]
    },
    {
      "cell_type": "code",
      "metadata": {
        "id": "-Y1_TV4y8P9W",
        "colab_type": "code",
        "colab": {}
      },
      "source": [
        "signal = 'quality_factor'\n",
        "\n",
        "# computes the pca\n",
        "eigenvalues = ml.weights_as_embeddings(machine_learning['pca'][signal],\n",
        "                                       data['sg_filtered'][signal])\n",
        "# computes the cluster maps\n",
        "machine_learning['pca_clustering'][signal] = ml.k_means_clustering(\n",
        "    data, signal,\n",
        "    clustering, seed=42, pca_in=eigenvalues)\n",
        "# plots the cluster maps\n",
        "viz.plot.hierarchical_clustering(machine_learning['pca_clustering'][signal],\n",
        "                                names, plot_format)"
      ],
      "execution_count": 0,
      "outputs": []
    },
    {
      "cell_type": "markdown",
      "metadata": {
        "id": "SAS74id88P9X",
        "colab_type": "text"
      },
      "source": [
        "**Figure J36 | Divisive clustering of the first 16 principal components of the quality factor curves obtained from band excitation switching spectroscopy of PbZr${_{0.2}}$Ti${_{0.8}}$O${_{3}}$ with hierarchical domain structures.**"
      ]
    },
    {
      "cell_type": "code",
      "metadata": {
        "id": "I-kIymBJ8P9X",
        "colab_type": "code",
        "colab": {}
      },
      "source": [
        "# plots the clustering maps and average hysteresis loops\n",
        "viz.plot.clustered_hysteresis(data['raw']['voltage'],\n",
        "                              data['sg_filtered']['piezoresponse'],\n",
        "                              machine_learning['clustering'][signal],\n",
        "                              plot_format,\n",
        "                              signal_info,\n",
        "                              signal,\n",
        "                              printing,\n",
        "                              folder_pca_clustering)"
      ],
      "execution_count": 0,
      "outputs": []
    },
    {
      "cell_type": "markdown",
      "metadata": {
        "id": "wT_lPYnX8P9X",
        "colab_type": "text"
      },
      "source": [
        "**Figure J37 | Divisive clustering of the first 16 principal components of the quality factor curves obtained from band excitation switching spectroscopy of PbZr${_{0.2}}$Ti${_{0.8}}$O${_{3}}$ with hierarchical domain structures.**"
      ]
    },
    {
      "cell_type": "markdown",
      "metadata": {
        "id": "dG_RyC-s8P9Y",
        "colab_type": "text"
      },
      "source": [
        "# Deep Learning Long Short-Term Memory Reccurent Neural Network Autoencoder"
      ]
    },
    {
      "cell_type": "markdown",
      "metadata": {
        "id": "Bvu6Io-N8P9Y",
        "colab_type": "text"
      },
      "source": [
        "## Piezoresponse"
      ]
    },
    {
      "cell_type": "markdown",
      "metadata": {
        "id": "VWyHr-da8P9Y",
        "colab_type": "text"
      },
      "source": [
        "### Building the model"
      ]
    },
    {
      "cell_type": "code",
      "metadata": {
        "id": "vLjMnFM-8P9Y",
        "colab_type": "code",
        "colab": {}
      },
      "source": [
        "# selects the folder where the pre-trained models are located\n",
        "model_folder = './Trained Models/Piezoresponse/Bidirect_lstm_size064_enc4_emb16_dec4_lr3m05_drop0.2_l1norm_1m05_batchnorm_TT_001'\n",
        "\n",
        "# Function to build the model\n",
        "piezoresponse_model, run_id = rnn.rnn('lstm', 64, 4, 4, 16,\n",
        "                                      data['sg_filtered']['piezoresponse'].shape[1],\n",
        "                                      lr=3e-5, drop_frac=.2, l1_norm=1e-4,\n",
        "                                      batch_norm=[True, True])"
      ],
      "execution_count": 0,
      "outputs": []
    },
    {
      "cell_type": "markdown",
      "metadata": {
        "id": "Qf1oYbtQ8P9Z",
        "colab_type": "text"
      },
      "source": [
        "### Train the model"
      ]
    },
    {
      "cell_type": "code",
      "metadata": {
        "code_folding": [],
        "id": "7reFnN4l8P9Z",
        "colab_type": "code",
        "colab": {}
      },
      "source": [
        "# select if the user will train a new model.\n",
        "# Note training requires GPU access and can take a long time (1-2 days)\n",
        "train_model = False\n",
        "\n",
        "if train_model:\n",
        "    # trains the model saving results as checkpoints\n",
        "    rnn.train_model(run_id, piezoresponse_model,\n",
        "                    data['normalized']['piezoresponse'],\n",
        "                    data['normalized']['val_piezoresponse'],\n",
        "                    folder_piezoresponse_autoencoder)"
      ],
      "execution_count": 0,
      "outputs": []
    },
    {
      "cell_type": "markdown",
      "metadata": {
        "id": "aZgm4vP68P9a",
        "colab_type": "text"
      },
      "source": [
        "### Loads Pre-Trained Model"
      ]
    },
    {
      "cell_type": "code",
      "metadata": {
        "id": "9c0bh_PG8P9a",
        "colab_type": "code",
        "colab": {}
      },
      "source": [
        "# loading the pre-trained weights\n",
        "piezoresponse_model.load_weights(model_folder + '/weights.15179-0.00.hdf5')\n",
        "\n",
        "# Updates the decoder based on decoding optimization.\n",
        "# this was done to improve the quality of the reconstruction.\n",
        "piezoresponse_model, piezoresponse_decoder = rnn.update_decoder(piezoresponse_model,\n",
        "                                                                './Trained Models/Piezoresponse/weights.00033723-0.0022.hdf5')"
      ],
      "execution_count": 0,
      "outputs": []
    },
    {
      "cell_type": "code",
      "metadata": {
        "id": "oajSNFTI8P9a",
        "colab_type": "code",
        "colab": {}
      },
      "source": [
        "# Displays the model summary\n",
        "piezoresponse_model.summary()"
      ],
      "execution_count": 0,
      "outputs": []
    },
    {
      "cell_type": "markdown",
      "metadata": {
        "id": "w8gKCfYh8P9b",
        "colab_type": "text"
      },
      "source": [
        "## Model Validation"
      ]
    },
    {
      "cell_type": "markdown",
      "metadata": {
        "id": "wHTIpvV98P9b",
        "colab_type": "text"
      },
      "source": [
        "### Validation Loss"
      ]
    },
    {
      "cell_type": "code",
      "metadata": {
        "id": "p9uvEGbY8P9b",
        "colab_type": "code",
        "colab": {}
      },
      "source": [
        "# loss for the training data\n",
        "print('Training Data Set:')\n",
        "score = piezoresponse_model.evaluate(np.atleast_3d(data['normalized']['piezoresponse']),\n",
        "                                     np.atleast_3d(data['normalized']['piezoresponse']))\n",
        "print('Test loss:', score)\n",
        "\n",
        "# loss for the validation data\n",
        "print('Validation Data Set:')\n",
        "score = piezoresponse_model.evaluate(np.atleast_3d(data['normalized']['val_piezoresponse']),\n",
        "                                     np.atleast_3d(data['normalized']['val_piezoresponse']))\n",
        "print('Validation loss:', score)"
      ],
      "execution_count": 0,
      "outputs": []
    },
    {
      "cell_type": "markdown",
      "metadata": {
        "id": "h-2qETrV8P9c",
        "colab_type": "text"
      },
      "source": [
        "### Training Results"
      ]
    },
    {
      "cell_type": "code",
      "metadata": {
        "id": "aYpWbll78P9c",
        "colab_type": "code",
        "colab": {}
      },
      "source": [
        "# plots the loss and an example reconstruction\n",
        "# set to plot a random loop\n",
        "# to plots a specific point add i=(pixel position)\n",
        "viz.plot.training_loss(model_folder,\n",
        "                       data,\n",
        "                       piezoresponse_model,\n",
        "                       'piezoresponse',\n",
        "                       signal_info,\n",
        "                       printing, folder_piezoresponse_autoencoder)"
      ],
      "execution_count": 0,
      "outputs": []
    },
    {
      "cell_type": "markdown",
      "metadata": {
        "id": "X-sG1-eQ8P9c",
        "colab_type": "text"
      },
      "source": [
        "**Figure J38 | Piezoresponse autoencoder traiing results. a,** Training loss (training - black) validation (red). Example hysteresis loop from the **b,** training, **c,** validation data set. Black curve shows the original measured data, red curve show the autoencoder reconstruction.    "
      ]
    },
    {
      "cell_type": "markdown",
      "metadata": {
        "id": "dcRVeaWi8P9c",
        "colab_type": "text"
      },
      "source": [
        "### Low Dimensional Layer"
      ]
    },
    {
      "cell_type": "code",
      "metadata": {
        "id": "qRkmdqLl8P9c",
        "colab_type": "code",
        "colab": {}
      },
      "source": [
        "# Computes the low dimensional layer\n",
        "piezoresponse_embeddings = rnn.get_activations(piezoresponse_model,\n",
        "                                               data['normalized']['piezoresponse'],\n",
        "                                               9)"
      ],
      "execution_count": 0,
      "outputs": []
    },
    {
      "cell_type": "code",
      "metadata": {
        "id": "E-Q8nNh_8P9d",
        "colab_type": "code",
        "colab": {}
      },
      "source": [
        "# defines the ranges for the images\n",
        "ranges = [0, 1.3e-2, 0, 0, 0,\n",
        "          0, 0, 6e-3, 0, 0,\n",
        "          0, 1.3e-2, 1e-2, 0, 0, 3e-3]\n",
        "\n",
        "# plots the embedding maps\n",
        "_ = viz.plot.embedding_maps(piezoresponse_embeddings,\n",
        "                            printing,\n",
        "                            plot_format,\n",
        "                            folder_piezoresponse_autoencoder,\n",
        "                            filename='./Piezoresponse_embeddings',\n",
        "                            ranges=ranges)"
      ],
      "execution_count": 0,
      "outputs": []
    },
    {
      "cell_type": "markdown",
      "metadata": {
        "id": "FoLN7DMd8P9e",
        "colab_type": "text"
      },
      "source": [
        "**Figure J39 | Output of low dimensional layer obtained from the piezoreponse autoencoder.**"
      ]
    },
    {
      "cell_type": "markdown",
      "metadata": {
        "id": "yXfaTdpb8P9e",
        "colab_type": "text"
      },
      "source": [
        "### Plot Embedding and Line Trace"
      ]
    },
    {
      "cell_type": "code",
      "metadata": {
        "id": "nANNIQk38P9e",
        "colab_type": "code",
        "colab": {}
      },
      "source": [
        "# rotates and crops the topography image\n",
        "crop_topo, scale = util.core.rotate_and_crop(\n",
        "    np.flipud(imported['data']['HeightFinal'].reshape(1024, 1024).T))\n",
        "\n",
        "# creates the figures and axes in a pretty way\n",
        "num_img = 10\n",
        "fig, ax = viz.format.layout_fig(num_img,\n",
        "                                mod=num_img // 2)\n",
        "\n",
        "# plots the selected embeddings superimposed on the line trace\n",
        "for i, v in enumerate([1, 7, 11, 12, 15]):\n",
        "\n",
        "    viz.plot.embedding_line_trace(ax,\n",
        "                                  i,\n",
        "                                  crop_topo,\n",
        "                                  piezoresponse_embeddings[:, v],\n",
        "                                  [0, ranges[v]],\n",
        "                                  plot_format,\n",
        "                                  number=num_img // 2)\n",
        "\n",
        "plt.tight_layout(pad=1)\n",
        "\n",
        "# saves the figure\n",
        "util.file.savefig(folder_piezoresponse_autoencoder +\n",
        "                  '/embedding_and_topography', printing)"
      ],
      "execution_count": 0,
      "outputs": []
    },
    {
      "cell_type": "markdown",
      "metadata": {
        "id": "FNiOVc4F8P9e",
        "colab_type": "text"
      },
      "source": [
        "**Figure J40 | Plots of selected embedding maps from piezoelectric autoencoder superimposed on average topography.**"
      ]
    },
    {
      "cell_type": "markdown",
      "metadata": {
        "id": "QyvgB7pF8P9e",
        "colab_type": "text"
      },
      "source": [
        "### Exports Training Images"
      ]
    },
    {
      "cell_type": "markdown",
      "metadata": {
        "id": "kwGHFe408P9f",
        "colab_type": "text"
      },
      "source": [
        "Exports low dimensional layer computed after each epoch (with improvement) during training. This allows the visualization of the effect of L${_1}$ regularization."
      ]
    },
    {
      "cell_type": "code",
      "metadata": {
        "scrolled": true,
        "id": "jfjhmuNe8P9f",
        "colab_type": "code",
        "colab": {}
      },
      "source": [
        "# selects to export training images\n",
        "# note this take a long time (1-2 hours)\n",
        "export_training_images = False\n",
        "\n",
        "if export_training_images:\n",
        "    if np.int(io_transfer.get_size(model_folder) / 1e8) > 1:\n",
        "        # exports all low dimensional layers from training\n",
        "        viz.plot.training_images(piezoresponse_model,\n",
        "                                 data,\n",
        "                                 model_folder,\n",
        "                                 printing,\n",
        "                                 plot_format,\n",
        "                                 folder_piezoresponse_autoencoder_training_movie)\n",
        "        if printing['movies']:\n",
        "            # Script to making movie\n",
        "            util.file.make_movie('Piezoresponse_training_movie',\n",
        "                                 folder_piezoresponse_autoencoder_training_movie,\n",
        "                                 './',\n",
        "                                 'png',\n",
        "                                 10,\n",
        "                                 output_format='mp4')"
      ],
      "execution_count": 0,
      "outputs": []
    },
    {
      "cell_type": "markdown",
      "metadata": {
        "id": "WkmiUR9R8P9f",
        "colab_type": "text"
      },
      "source": [
        "### Make Generator Movie"
      ]
    },
    {
      "cell_type": "markdown",
      "metadata": {
        "id": "A5JAFQ2C8P9f",
        "colab_type": "text"
      },
      "source": [
        "Makes a movie where the magnitude of the embedding is manipulated and the decoder is used to generate the piezoresponse"
      ]
    },
    {
      "cell_type": "code",
      "metadata": {
        "id": "CwOi3S-y8P9g",
        "colab_type": "code",
        "colab": {}
      },
      "source": [
        "if printing['movies']:\n",
        "\n",
        "    # defines the ranges for the embeddings\n",
        "    ranges = [1.3e-2, 6e-3, 1.3e-2, 1e-2, 3e-3]\n",
        "\n",
        "    # generates images for the generator movie\n",
        "    _ = viz.plot.generator_movie(piezoresponse_decoder, piezoresponse_embeddings,\n",
        "                                 data['raw']['voltage'], 100, 500,\n",
        "                                 ranges, folder_piezoresponse_autoencoder_movie,\n",
        "                                 plot_format, printing,\n",
        "                                 graph_layout=[5, 5])\n",
        "\n",
        "    # Script to making movie\n",
        "    util.file.make_movie('Piezoresponse_Generator_movie', folder_piezoresponse_autoencoder_movie,\n",
        "                         './', 'png', 10, output_format='mp4', reverse=True)"
      ],
      "execution_count": 0,
      "outputs": []
    },
    {
      "cell_type": "markdown",
      "metadata": {
        "id": "OhbTrcxc8P9g",
        "colab_type": "text"
      },
      "source": [
        "### Plots Generator Results"
      ]
    },
    {
      "cell_type": "code",
      "metadata": {
        "scrolled": true,
        "id": "eJ_uVx_x8P9g",
        "colab_type": "code",
        "colab": {}
      },
      "source": [
        "# defines the range for the embeddings\n",
        "ranges = [1.3e-2, 6e-3, 1.3e-2, 1e-2, 3e-3]\n",
        "\n",
        "# plots the embedding layer and the generated results\n",
        "viz.plot.generator_piezoresponse(piezoresponse_decoder,\n",
        "                                 piezoresponse_embeddings,\n",
        "                                 data['raw']['voltage'],\n",
        "                                 ranges,\n",
        "                                 6,\n",
        "                                 100,\n",
        "                                 printing,\n",
        "                                 plot_format,\n",
        "                                 folder_piezoresponse_autoencoder)"
      ],
      "execution_count": 0,
      "outputs": []
    },
    {
      "cell_type": "markdown",
      "metadata": {
        "id": "N5pnaqo-8P9h",
        "colab_type": "text"
      },
      "source": [
        "**Figure J41 | Plots of selected embedding maps from piezoelectric autoencoder bottom shows generated hysteresis loop obtained when varying each embedding.** The color of the piezoelectric hysteresis loop reflects the colors in the map"
      ]
    },
    {
      "cell_type": "markdown",
      "metadata": {
        "id": "wtTvvcKx8P9h",
        "colab_type": "text"
      },
      "source": [
        "## Resonance"
      ]
    },
    {
      "cell_type": "markdown",
      "metadata": {
        "id": "Kfi-JPLY8P9h",
        "colab_type": "text"
      },
      "source": [
        "### Building the model"
      ]
    },
    {
      "cell_type": "code",
      "metadata": {
        "id": "bx56-6LT8P9h",
        "colab_type": "code",
        "colab": {}
      },
      "source": [
        "# selects the folder where the pre-trained model is saved\n",
        "model_folder = './Trained Models/Resonance/Bidirect_lstm_size064_enc4_emb16_dec4_lr3m05_drop0.2_l1norm_0.0001_batchnorm_TT_001'\n",
        "\n",
        "# Function to build the model\n",
        "resonance_model, run_id = rnn.rnn(\n",
        "    'lstm',\n",
        "    64,\n",
        "    4,\n",
        "    4,\n",
        "    16,\n",
        "    data['sg_filtered']['resonance'].shape[1],\n",
        "    lr=3e-5,\n",
        "    drop_frac=.2,\n",
        "    l1_norm=1e-4,\n",
        "    batch_norm=[True, True])"
      ],
      "execution_count": 0,
      "outputs": []
    },
    {
      "cell_type": "markdown",
      "metadata": {
        "id": "EVg-OOu38P9i",
        "colab_type": "text"
      },
      "source": [
        "### Train the model"
      ]
    },
    {
      "cell_type": "code",
      "metadata": {
        "code_folding": [],
        "id": "TJywNROv8P9i",
        "colab_type": "code",
        "colab": {}
      },
      "source": [
        "# select if the user will train a new model.\n",
        "# Note training requires GPU access and can take a long time (1-2 days)\n",
        "train_model = False\n",
        "\n",
        "if train_model:\n",
        "    # trains the model saving each epoch (with improvement) as a checkpoint\n",
        "    rnn.train_model(\n",
        "        run_id,\n",
        "        resonance_model,\n",
        "        data['normalized']['resonance'],\n",
        "        data['normalized']['val_resonance'],\n",
        "        folder_resonance_autoencoder)"
      ],
      "execution_count": 0,
      "outputs": []
    },
    {
      "cell_type": "markdown",
      "metadata": {
        "id": "6Gf-yLCx8P9i",
        "colab_type": "text"
      },
      "source": [
        "### Loads Pre-Trained Model"
      ]
    },
    {
      "cell_type": "code",
      "metadata": {
        "id": "Ks5MDzC-8P9i",
        "colab_type": "code",
        "colab": {}
      },
      "source": [
        "# loading the pre-trained weights\n",
        "resonance_model.load_weights(model_folder + '/weights.00022570-0.0123.hdf5')\n",
        "\n",
        "# loads the pre-trained weight from an optimized decoder\n",
        "# training of the decoder was done to minimize reconstruction error\n",
        "resonance_model, resonance_decoder = rnn.update_decoder(\n",
        "    resonance_model,\n",
        "    './Trained Models/Resonance/weights.00013412-0.0106.hdf5')"
      ],
      "execution_count": 0,
      "outputs": []
    },
    {
      "cell_type": "code",
      "metadata": {
        "id": "Dmwr3q7H8P9j",
        "colab_type": "code",
        "colab": {}
      },
      "source": [
        "# Displays the model summary\n",
        "resonance_model.summary()"
      ],
      "execution_count": 0,
      "outputs": []
    },
    {
      "cell_type": "markdown",
      "metadata": {
        "id": "9iv97AtU8P9j",
        "colab_type": "text"
      },
      "source": [
        "## Model Validation"
      ]
    },
    {
      "cell_type": "markdown",
      "metadata": {
        "id": "SnK6J-5n8P9j",
        "colab_type": "text"
      },
      "source": [
        "### Validation Loss"
      ]
    },
    {
      "cell_type": "code",
      "metadata": {
        "id": "KeNZl9Or8P9k",
        "colab_type": "code",
        "colab": {}
      },
      "source": [
        "# computes the training loss\n",
        "print('Training Data Set:')\n",
        "score = resonance_model.evaluate(np.atleast_3d(data['normalized']['resonance']),\n",
        "                                 np.atleast_3d(data['normalized']['resonance']))\n",
        "print('Test loss:', score)\n",
        "\n",
        "# computes the validation loss\n",
        "print('Validation Data Set:')\n",
        "score = resonance_model.evaluate(np.atleast_3d(data['normalized']['val_resonance']),\n",
        "                                 np.atleast_3d(data['normalized']['val_resonance']))\n",
        "print('Validation loss:', score)"
      ],
      "execution_count": 0,
      "outputs": []
    },
    {
      "cell_type": "code",
      "metadata": {
        "id": "1q5nWCkt8P9k",
        "colab_type": "code",
        "colab": {}
      },
      "source": [
        "# plots the loss and an example reconstruction\n",
        "# set to plot a random loop\n",
        "# to plots a specific point add i=(pixel position)\n",
        "viz.plot.training_loss(\n",
        "    model_folder,\n",
        "    data,\n",
        "    resonance_model,\n",
        "    'resonance',\n",
        "    signal_info,\n",
        "    printing,\n",
        "    folder_resonance_autoencoder)"
      ],
      "execution_count": 0,
      "outputs": []
    },
    {
      "cell_type": "markdown",
      "metadata": {
        "id": "o40wxO6r8P9l",
        "colab_type": "text"
      },
      "source": [
        "**Figure J43 | Resonance autoencoder traiing results. a,** Training loss (training - black) validation (red). Example hysteresis loop from the **b,** training, **c,** validation data set. Black curve shows the original measured data, red curve show the autoencoder reconstruction.  "
      ]
    },
    {
      "cell_type": "code",
      "metadata": {
        "id": "l_h4OWH98P9l",
        "colab_type": "code",
        "colab": {}
      },
      "source": [
        "# Computes the low dimensional layer\n",
        "resonance_embeddings = rnn.get_activations(\n",
        "    resonance_model,\n",
        "    data['normalized']['resonance'],\n",
        "    9)"
      ],
      "execution_count": 0,
      "outputs": []
    },
    {
      "cell_type": "code",
      "metadata": {
        "id": "PDeFY_HC8P9l",
        "colab_type": "code",
        "colab": {}
      },
      "source": [
        "# defines the ranges for the images\n",
        "ranges = [0, 0, 0, 0, 6e-3,\n",
        "          0, 4e-2, 0, 6e-2, 1e-1,\n",
        "          0, 1e-3, 0, 0, 0, 1.6e-2]\n",
        "\n",
        "# plots the embedding maps\n",
        "_ = viz.plot.embedding_maps(\n",
        "    resonance_embeddings,\n",
        "    printing,\n",
        "    plot_format,\n",
        "    folder_resonance_autoencoder,\n",
        "    filename='./Resonance_embeddings',\n",
        "    ranges=ranges)"
      ],
      "execution_count": 0,
      "outputs": []
    },
    {
      "cell_type": "markdown",
      "metadata": {
        "id": "bNXdG9sv8P9m",
        "colab_type": "text"
      },
      "source": [
        "**Figure J44 | Output of low dimensional layer obtained from the resonance autoencoder.**"
      ]
    },
    {
      "cell_type": "markdown",
      "metadata": {
        "id": "4f0gqaoR8P9m",
        "colab_type": "text"
      },
      "source": [
        "### Plot Embedding and Line Trace"
      ]
    },
    {
      "cell_type": "code",
      "metadata": {
        "scrolled": true,
        "id": "aF2OtW_t8P9m",
        "colab_type": "code",
        "colab": {}
      },
      "source": [
        "# collects the c/a clustering results\n",
        "cluster_ca = machine_learning['clustering']['piezoresponse'][1]\n",
        "\n",
        "# makes a copy of the embeddings\n",
        "embedding_c = np.copy(resonance_embeddings)\n",
        "embedding_a = np.copy(resonance_embeddings)\n",
        "\n",
        "# splits the embeddings for the c and a domains\n",
        "embedding_c[np.where(cluster_ca == 1)] = 0\n",
        "embedding_a[np.where(cluster_ca == 0)] = 0\n",
        "\n",
        "# rotates and crops the topography image\n",
        "crop_topo, scale = util.core.rotate_and_crop(\n",
        "    np.flipud(imported['data']['HeightFinal'].reshape(1024, 1024).T))\n",
        "\n",
        "# defines the embedding ranges for the images\n",
        "ranges = [0, 0, 0, 0, 6e-3,\n",
        "          0, 4e-2, 0, 6e-2, 1e-1,\n",
        "          0, 1e-3, 0, 0, 0, 1.6e-2]\n",
        "\n",
        "# creates the figures and axes in a pretty way\n",
        "fig, ax = viz.format.layout_fig(6, mod=3)\n",
        "\n",
        "# plots the embedding superimposed on the line trace\n",
        "viz.plot.embedding_line_trace(\n",
        "    ax,\n",
        "    0,\n",
        "    crop_topo,\n",
        "    embedding_c[:, 15],\n",
        "    [0, 1.6e-2],\n",
        "    plot_format)\n",
        "\n",
        "viz.plot.embedding_line_trace(\n",
        "    ax,\n",
        "    1,\n",
        "    crop_topo,\n",
        "    embedding_a[:, 4],\n",
        "    [0, 4.5e-3],\n",
        "    plot_format)\n",
        "\n",
        "viz.plot.embedding_line_trace(\n",
        "    ax,\n",
        "    2,\n",
        "    crop_topo,\n",
        "    embedding_a[:, 11],\n",
        "    [0, 7e-4],\n",
        "    plot_format)\n",
        "\n",
        "plt.tight_layout(pad=1)\n",
        "\n",
        "# saves the figure\n",
        "util.file.savefig(\n",
        "    folder_resonance_autoencoder +\n",
        "    '/embedding_and_topography',\n",
        "    printing)"
      ],
      "execution_count": 0,
      "outputs": []
    },
    {
      "cell_type": "markdown",
      "metadata": {
        "id": "O5xYgL2c8P9m",
        "colab_type": "text"
      },
      "source": [
        "**Figure J45 | Plots of selected embedding maps from piezoelectric autoencoder superimposed on average topography.**"
      ]
    },
    {
      "cell_type": "markdown",
      "metadata": {
        "id": "82hi52728P9m",
        "colab_type": "text"
      },
      "source": [
        "### Exports Training Images"
      ]
    },
    {
      "cell_type": "markdown",
      "metadata": {
        "id": "_9HEGTgA8P9n",
        "colab_type": "text"
      },
      "source": [
        "Exports low dimensional layer computed after each epoch (with improvement) during training. This allows the visualization of the effect of L${_1}$ regularization."
      ]
    },
    {
      "cell_type": "code",
      "metadata": {
        "id": "DE4zx5YZ8P9n",
        "colab_type": "code",
        "colab": {}
      },
      "source": [
        "# selects to export training images\n",
        "# note this take a long time (1-2 hours)\n",
        "export_training_images = False\n",
        "\n",
        "if export_training_images:\n",
        "    if np.int(io_transfer.get_size(model_folder) / 1e8) > 1:\n",
        "        viz.plot.training_images(\n",
        "            resonance_model,\n",
        "            data,\n",
        "            model_folder,\n",
        "            printing,\n",
        "            plot_format,\n",
        "            folder_resonance_autoencoder_training_movie,\n",
        "            data_type='resonance')\n",
        "\n",
        "        if printing['movies']:\n",
        "            # Script to making movie\n",
        "            util.file.make_movie(\n",
        "                'resonance_training_movie',\n",
        "                folder_resonance_autoencoder_training_movie,\n",
        "                './',\n",
        "                'png',\n",
        "                10,\n",
        "                output_format='mp4')"
      ],
      "execution_count": 0,
      "outputs": []
    },
    {
      "cell_type": "markdown",
      "metadata": {
        "id": "58_PCQdN8P9n",
        "colab_type": "text"
      },
      "source": [
        "### Make Generator Movie"
      ]
    },
    {
      "cell_type": "markdown",
      "metadata": {
        "id": "zhaLe2AW8P9n",
        "colab_type": "text"
      },
      "source": [
        "Makes a movie where the magnitude of the embedding is manipulated and the decoder is used to generate the piezoresponse"
      ]
    },
    {
      "cell_type": "code",
      "metadata": {
        "id": "GX1AeLMn8P9n",
        "colab_type": "code",
        "colab": {}
      },
      "source": [
        "if printing['movies']:\n",
        "\n",
        "    # collects the c/a c\n",
        "    cluster_ca = machine_learning['clustering']['piezoresponse'][1]\n",
        "\n",
        "    # makes a copy of the resonance embeddings\n",
        "    embedding_c = np.copy(resonance_embeddings)\n",
        "    embedding_a = np.copy(resonance_embeddings)\n",
        "\n",
        "    # extracts the embeddings for the c/a regions\n",
        "    embedding_c[np.where(cluster_ca == 1)] = 0\n",
        "    embedding_a[np.where(cluster_ca == 0)] = 0\n",
        "\n",
        "    # defines the embedding ranges for the images\n",
        "    ranges_a = [0, 0, 0, 0, 5e-3,\n",
        "                0, 4e-2, 0, 6e-2, 1e-1,\n",
        "                0, 7e-4, 0, 0, 0, 1.6e-2]\n",
        "\n",
        "    ranges_c = [0, 0, 0, 0, 2e-3,\n",
        "                0, 4e-2, 0, 6e-2, 1e-1,\n",
        "                0, .7e-3, 0, 0, 0, 1.6e-2]\n",
        "\n",
        "    # selects the embeding maps to plot\n",
        "    index_a = [4, 6, 11]\n",
        "    index_c = [4, 11, 15]\n",
        "\n",
        "    # selects the number of images (embedding levels) to make\n",
        "    number = 100\n",
        "\n",
        "    # selects the number of points to average the embedding between\n",
        "    averaging_number = 50\n",
        "\n",
        "    # generates the embedding images\n",
        "    _ = viz.plot.resonance_generator_movie(\n",
        "        resonance_model,\n",
        "        index_c,\n",
        "        index_a,\n",
        "        embedding_c, data['raw']['voltage'],\n",
        "        embedding_a,\n",
        "        ranges_c,\n",
        "        ranges_a,\n",
        "        number,\n",
        "        averaging_number,\n",
        "        resonance_decoder,\n",
        "        plot_format,\n",
        "        printing,\n",
        "        folder_resonance_autoencoder_movie,\n",
        "        graph_layout=[12, 3])\n",
        "\n",
        "    # Script to making movie\n",
        "    util.file.make_movie(\n",
        "        'Resonance_Generator_movie',\n",
        "        folder_resonance_autoencoder_movie,\n",
        "        './',\n",
        "        'png',\n",
        "        10,\n",
        "        output_format='mp4',\n",
        "        reverse=True)"
      ],
      "execution_count": 0,
      "outputs": []
    },
    {
      "cell_type": "markdown",
      "metadata": {
        "id": "5mxIkRuq8P9o",
        "colab_type": "text"
      },
      "source": [
        "### Autoencoder Generator"
      ]
    },
    {
      "cell_type": "code",
      "metadata": {
        "scrolled": true,
        "id": "B2HpmH968P9o",
        "colab_type": "code",
        "colab": {}
      },
      "source": [
        "# defines the ranges for the images\n",
        "ranges = [0, 0, 0, 0, 4.5e-3,\n",
        "          0, 4e-2, 0, 6e-2, 1e-1,\n",
        "          0, 7e-4, 0, 0, 0,\n",
        "          1.6e-2]\n",
        "\n",
        "# selects the embedding maps to plot\n",
        "index_a = [4, 6, 11]\n",
        "index_c = [4, 11, 15]\n",
        "\n",
        "# selects the number of curves to plot\n",
        "number = 8\n",
        "\n",
        "# selects the number of pixels to average\n",
        "averaging_number = 50\n",
        "\n",
        "# selects a subset of the generated plots\n",
        "plot_subselect = [[7, 6, 5],\n",
        "                  [7, 6, 5],\n",
        "                  [7, 6, 5]]\n",
        "\n",
        "# set the scales of the axes\n",
        "scales = [[1320, 1330],\n",
        "          [-1.1, 1.1]]\n",
        "\n",
        "# plots the generated curves for the a domains\n",
        "viz.plot.resonance_generator(\n",
        "    resonance_decoder,\n",
        "    piezoresponse_decoder,\n",
        "    index_a,\n",
        "    embedding_a,\n",
        "    ranges,\n",
        "    number,\n",
        "    averaging_number,\n",
        "    plot_subselect,\n",
        "    piezoresponse_embeddings,\n",
        "    data['raw']['voltage'],\n",
        "    data['sg_filtered']['resonance'],\n",
        "    plot_format,\n",
        "    printing,\n",
        "    folder_resonance_autoencoder,\n",
        "    scales,\n",
        "    name_prefix='a_domains')\n",
        "\n",
        "\n",
        "# sets the embedding ranges for the c domains\n",
        "ranges = [0, 0, 0, 0, 2e-3,\n",
        "          0, 4e-2, 0, 6e-2, 1e-1,\n",
        "          0, .7e-3, 0, 0, 0,\n",
        "          1.6e-2]\n",
        "\n",
        "# selects a subset of the generated plots\n",
        "plot_subselect = [[7, 6, 5], [7, 6, 5], [7, 5, 3, 1]]\n",
        "# set the scales of the axes\n",
        "scales = [[1320, 1330], [-1.55, 1.55]]\n",
        "\n",
        "# plots the generated curves for the a domains\n",
        "viz.plot.resonance_generator(\n",
        "    resonance_decoder,\n",
        "    piezoresponse_decoder,\n",
        "    index_c,\n",
        "    embedding_c,\n",
        "    ranges,\n",
        "    number,\n",
        "    averaging_number,\n",
        "    plot_subselect,\n",
        "    piezoresponse_embeddings,\n",
        "    data['raw']['voltage'],\n",
        "    data['sg_filtered']['resonance'],\n",
        "    plot_format,\n",
        "    printing,\n",
        "    folder_resonance_autoencoder,\n",
        "    scales,\n",
        "    name_prefix='c_domains')"
      ],
      "execution_count": 0,
      "outputs": []
    },
    {
      "cell_type": "markdown",
      "metadata": {
        "id": "V_eX5pJ-8P9o",
        "colab_type": "text"
      },
      "source": [
        "**Figure J45 | Plots of selected embedding maps from resonance autoencoder.** \n",
        "Top shows embedding map, middle shows generated resonance hysteresis loop, bottom shows generated piezoelectric hysteresis loop obtained when varying each embedding. The color of the hysteresis loops reflects the colors in the map"
      ]
    },
    {
      "cell_type": "markdown",
      "metadata": {
        "id": "vKkqkhTo8P9p",
        "colab_type": "text"
      },
      "source": [
        "# Phase Field"
      ]
    },
    {
      "cell_type": "code",
      "metadata": {
        "id": "L4hovu6O8P9p",
        "colab_type": "code",
        "colab": {}
      },
      "source": [
        "# sets the position where the tip is located\n",
        "tip_positions = {'tip1': dict(pos=[42, 64, 20]),\n",
        "                 'tip2': dict(pos=[50, 64, 20]),\n",
        "                 'tip3': dict(pos=[62, 64, 20]),\n",
        "                 'tip4': dict(pos=[72, 64, 20]),\n",
        "                 'tip5': dict(pos=[74, 64, 20])}\n",
        "\n",
        "# sets the scale limits for the graphs\n",
        "clim = {'Polarization Z': [-1, 1],\n",
        "        'Landau Energy': [-10e7, 10e7],\n",
        "        'Elastic Energy': [-10e7, 10e7],\n",
        "        'Electrostatic Energy': [-10e7, 10e7],\n",
        "        'Gradient Energy': [-10e7, 10e7],\n",
        "        'Total Energy': [-10e7, 10e7]}\n",
        "\n",
        "# sets the information of the region to s6ho\n",
        "graph_info = dict(top=20,\n",
        "                  y_cut=64,\n",
        "                  x_lim=[120, 360],\n",
        "                  y_lim=[0, 100],\n",
        "                  clim=clim)\n",
        "\n",
        "# collection of information used for plotting the phase feild results\n",
        "Phase_field_information = {'tips': ['tip1',\n",
        "                                    'tip2',\n",
        "                                    'tip3',\n",
        "                                    'tip4',\n",
        "                                    'tip5'],\n",
        "                           'folder': dict(time_series='./Raw_Data/Phase_Field/Polarization/data-PEloop/',\n",
        "                                          polarization='./Raw_Data/Phase_Field/Polarization/',\n",
        "                                          energy='./Raw_Data/Phase_Field/energy/'),\n",
        "                           'time_step': [60, 0, 20],\n",
        "                           'tip_positions': tip_positions,\n",
        "                           'graph_info': graph_info,\n",
        "                           'labels': ['Polarization Z',\n",
        "                                      'Landau Energy',\n",
        "                                      'Elastic Energy',\n",
        "                                      'Electrostatic Energy',\n",
        "                                      'Gradient Energy',\n",
        "                                      'Total Energy'],\n",
        "                           'output_folder': folder_phase_field}"
      ],
      "execution_count": 0,
      "outputs": []
    },
    {
      "cell_type": "markdown",
      "metadata": {
        "id": "4kv9JFtW8P9p",
        "colab_type": "text"
      },
      "source": [
        "## Phase Field Switching Images"
      ]
    },
    {
      "cell_type": "code",
      "metadata": {
        "id": "LXCcm4pn8P9p",
        "colab_type": "code",
        "colab": {}
      },
      "source": [
        "# plots the phase field results\n",
        "viz.phase_field.phase_field_switching(Phase_field_information, printing)"
      ],
      "execution_count": 0,
      "outputs": []
    },
    {
      "cell_type": "markdown",
      "metadata": {
        "id": "R6RILhg38P9q",
        "colab_type": "text"
      },
      "source": [
        "**Figure J46 | Phase-field simulations under local tip bias.** Maps show the polarization and various contributions to the energy at various tip positions. Maps show the switching under negative bias (left), initial state (center), positive bias (right). "
      ]
    },
    {
      "cell_type": "code",
      "metadata": {
        "id": "FL_Q4USf8P9q",
        "colab_type": "code",
        "colab": {}
      },
      "source": [
        "if printing['movies']:\n",
        "    # exports all phase field images to create movie\n",
        "    _ = viz.phase_field.movie(Phase_field_information, printing)"
      ],
      "execution_count": 0,
      "outputs": []
    },
    {
      "cell_type": "markdown",
      "metadata": {
        "id": "fBTLY1E08P9q",
        "colab_type": "text"
      },
      "source": [
        "## Makes Movies"
      ]
    },
    {
      "cell_type": "code",
      "metadata": {
        "id": "K2TAYyJP8P9r",
        "colab_type": "code",
        "colab": {}
      },
      "source": [
        "if printing['movies']:\n",
        "    for i, tip in enumerate(Phase_field_information['tips']):\n",
        "        util.file.make_movie('Switching_movie_' + tip,\n",
        "                             folder_phase_field + '/movie/' + tip,\n",
        "                             folder_phase_field + '/movie/',\n",
        "                             'png',\n",
        "                             5, output_format='gif')"
      ],
      "execution_count": 0,
      "outputs": []
    },
    {
      "cell_type": "markdown",
      "metadata": {
        "id": "TjHLp5W58P9r",
        "colab_type": "text"
      },
      "source": [
        "## Phase Field Hysteresis Loops"
      ]
    },
    {
      "cell_type": "code",
      "metadata": {
        "id": "t7o85vOX8P9r",
        "colab_type": "code",
        "colab": {}
      },
      "source": [
        "viz.phase_field.phase_field_hysteresis(Phase_field_information, printing)"
      ],
      "execution_count": 0,
      "outputs": []
    },
    {
      "cell_type": "markdown",
      "metadata": {
        "id": "K418UFx28P9r",
        "colab_type": "text"
      },
      "source": [
        "**Figure J47 | Phase-field simulations under local tip bias.** Plots show the extracted ferroelectric hysteresis loops at various tip positions."
      ]
    }
  ]
}