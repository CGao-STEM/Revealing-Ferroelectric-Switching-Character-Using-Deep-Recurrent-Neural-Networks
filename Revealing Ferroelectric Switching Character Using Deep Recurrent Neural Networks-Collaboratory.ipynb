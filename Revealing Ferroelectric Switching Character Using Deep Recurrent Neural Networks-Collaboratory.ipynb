{
 "cells": [
  {
   "cell_type": "markdown",
   "metadata": {},
   "source": [
    "# Revealing Ferroelectric Switching Character Using Deep Recurrent Neural Networks"
   ]
  },
  {
   "cell_type": "markdown",
   "metadata": {},
   "source": [
    "Joshua C. Agar<sup>1,2,3*</sup>, Brett Naul<sup>4</sup>, Shishir Pandya<sup>1</sup>, Stefan van der Walt<sup>5</sup>, Joshua Maher<sup>1</sup>, Ren Yao<sup>6</sup>, Jeffery B. Neaton<sup>2,7</sup>, Long-Qing Chen<sup>8</sup>, Sergei V. Kalinin<sup>9</sup>, Rama K. Vasudevan<sup>9</sup>, Ye Cao<sup>6</sup>, Joshua S. Bloom<sup>4</sup>, and Lane W. Martin<sup>1,2*</sup>\n",
    "\n",
    "<sup>1</sup> \tDepartment of Materials Science and Engineering, University of California, Berkeley, Berkeley, CA 94720, USA  \n",
    "<sup>2</sup> \tMaterials Sciences Division, Lawrence Berkeley National Laboratory, Berkeley, CA 94720, USA  \n",
    "<sup>3</sup> \tDepartment of Materials Science and Engineering, Lehigh University, Bethlehem, PA 18015, USA  \n",
    "<sup>4</sup> \tDepartment of Astronomy, University of California, Berkeley, Berkeley, CA 94720, USA  \n",
    "<sup>5</sup>\tBerkeley Institute of Data Science, University of California, Berkeley, Berkeley, CA 94720, USA  \n",
    "<sup>6</sup> \tDepartment of Materials Science and Engineering, University Texas at Arlington, Arlington, TX 76019, USA  \n",
    "<sup>7</sup> \tDepartment of Physics, University of California, Berkeley, Berkeley, CA 94720, USA\n",
    "<sup>8</sup> \tDepartment of Materials Science and Engineering and Materials Research Institute, The Pennsylvania State University, University Park, PA 16802-5006, USA  \n",
    "<sup>9</sup> \tCenter for Nanophase Materials Sciences, Oak Ridge National Laboratory, Oak Ridge, TN 37830, USA  \n",
    "*joshua.agar@lehigh.edu, lwmartin@berkeley.edu\n",
    "\n",
    "Keywords: ferroelectric, switching, domains, scanning-probe microscopy, neural network"
   ]
  },
  {
   "cell_type": "markdown",
   "metadata": {},
   "source": [
    "# Table of Contents\n",
    "* [Revealing Ferroelectric Switching Character Using Deep Recurrent Neural Networks](#Revealing-Ferroelectric-Switching-Character-Using-Deep-Recurrent-Neural-Networks)\n",
    "* [Importing Packages](#Importing-Packages)\n",
    "\t* [Settings](#Settings)\n",
    "\t\t* [Export Figure Settings](#Export-Figure-Settings)\n",
    "\t\t* [Plotting Format](#Plotting-Format)\n",
    "* [Folders](#Folders)\n",
    "* [Loads the Data](#Loads-the-Data)\n",
    "\t* [Cleans the Raw Data](#Cleans-the-Raw-Data)\n",
    "\t* [Visualize Cleaned Data](#Visualize-Cleaned-Data)\n",
    "* [Structural Characterization](#Structural-Characterization)\n",
    "\t* [Topography and Piezoresponse](#Topography-and-Piezoresponse)\n",
    "\t* [Reciprical Space Maps of PbZr${_{0.2}}$Ti${_{0.8}}$O${_{3}}$ with Hierarchical Domain Structures](#Reciprical-Space-Maps-of-PbZr${_{0.2}}$Ti${_{0.8}}$O${_{3}}$-with-Hierarchical-Domain-Structures)\n",
    "\t* [Initial PFM images](#Initial-PFM-images)\n",
    "\t* [Final PFM Images](#Final-PFM-Images)\n",
    "* [Band Excitation Piezoresponse Force Microscopy - Basic Analysis](#Band-Excitation-Piezoresponse-Force-Microscopy---Basic-Analysis)\n",
    "\t* [Exports all images](#Exports-all-images)\n",
    "\t* [Export Images for Movie](#Export-Images-for-Movie)\n",
    "\t* [Plot Raw Band Excitation Spectra](#Plot-Raw-Band-Excitation-Spectra)\n",
    "\t* [Loop Fitting Results](#Loop-Fitting-Results)\n",
    "* [Classical Machine Learning Approaches](#Classical-Machine-Learning-Approaches)\n",
    "\t* [Principal Component Analysis](#Principal-Component-Analysis)\n",
    "\t\t* [Piezoresponse](#Piezoresponse)\n",
    "\t\t* [Amplitude](#Amplitude)\n",
    "\t\t* [Phase](#Phase)\n",
    "\t\t* [Resonance Frequency](#Resonance-Frequency)\n",
    "\t\t* [Quality Factor](#Quality-Factor)\n",
    "\t* [Non-Negative Matrix Factorization](#Non-Negative-Matrix-Factorization)\n",
    "\t\t* [Piezoresponse](#Piezoresponse)\n",
    "\t\t* [Amplitude](#Amplitude)\n",
    "\t\t* [Phase](#Phase)\n",
    "\t\t* [Resonance Frequency](#Resonance-Frequency)\n",
    "\t\t* [Quality Factor](#Quality-Factor)\n",
    "\t* [Clustering](#Clustering)\n",
    "\t\t* [Piezoresponse](#Piezoresponse)\n",
    "\t\t* [Amplitude](#Amplitude)\n",
    "\t\t* [Phase](#Phase)\n",
    "\t\t* [Resonance Frequency](#Resonance-Frequency)\n",
    "\t\t* [Quality Factor](#Quality-Factor)\n",
    "\t* [PCA + Clustering](#PCA-+-Clustering)\n",
    "\t\t* [Piezoresponse](#Piezoresponse)\n",
    "\t\t* [Amplitude](#Amplitude)\n",
    "\t\t* [Phase](#Phase)\n",
    "\t\t* [Resonance](#Resonance)\n",
    "\t\t* [Quality Factor](#Quality-Factor)\n",
    "* [Deep Learning Long Short-Term Memory Reccurent Neural Network Autoencoder](#Deep-Learning-Long-Short-Term-Memory-Reccurent-Neural-Network-Autoencoder)\n",
    "\t* [Piezoresponse](#Piezoresponse)\n",
    "\t\t* [Building the model](#Building-the-model)\n",
    "\t\t* [Train the model](#Train-the-model)\n",
    "\t\t* [Loads Pre-Trained Model](#Loads-Pre-Trained-Model)\n",
    "\t* [Model Validation](#Model-Validation)\n",
    "\t\t* [Validation Loss](#Validation-Loss)\n",
    "\t\t* [Training Results](#Training-Results)\n",
    "\t\t* [Low Dimensional Layer](#Low-Dimensional-Layer)\n",
    "\t\t* [Plot Embedding and Line Trace](#Plot-Embedding-and-Line-Trace)\n",
    "\t\t* [Exports Training Images](#Exports-Training-Images)\n",
    "\t\t* [Make Generator Movie](#Make-Generator-Movie)\n",
    "\t\t* [Plots Generator Results](#Plots-Generator-Results)\n",
    "\t* [Resonance](#Resonance)\n",
    "\t\t* [Building the model](#Building-the-model)\n",
    "\t\t* [Train the model](#Train-the-model)\n",
    "\t\t* [Loads Pre-Trained Model](#Loads-Pre-Trained-Model)\n",
    "\t* [Model Validation](#Model-Validation)\n",
    "\t\t* [Validation Loss](#Validation-Loss)\n",
    "\t\t* [Plot Embedding and Line Trace](#Plot-Embedding-and-Line-Trace)\n",
    "\t\t* [Exports Training Images](#Exports-Training-Images)\n",
    "\t\t* [Make Generator Movie](#Make-Generator-Movie)\n",
    "\t\t* [Autoencoder Generator](#Autoencoder-Generator)\n",
    "* [Phase Field](#Phase-Field)\n"
   ]
  },
  {
   "cell_type": "markdown",
   "metadata": {
    "format": "row"
   },
   "source": [
    "# Importing Packages"
   ]
  },
  {
   "cell_type": "code",
   "execution_count": null,
   "metadata": {},
   "outputs": [],
   "source": [
    "!pip install -U moviepy keras tensorflow natsort tqdm scikit_image scikit_learn scipy fmpeg-python movie py"
   ]
  },
  {
   "cell_type": "code",
   "execution_count": null,
   "metadata": {},
   "outputs": [],
   "source": [
    "!apt install ffmpeg"
   ]
  },
  {
   "cell_type": "markdown",
   "metadata": {},
   "source": [
    "# Special Codes for Collaboratory\n",
    "## Provides access to google drive"
   ]
  },
  {
   "cell_type": "code",
   "execution_count": null,
   "metadata": {},
   "outputs": [],
   "source": [
    "# if running on collaboratory set = True\n",
    "collaboratory = True\n",
    "\n",
    "if collaboratory:\n",
    "    from google.colab import drive\n",
    "    drive.mount('/content/drive')\n",
    "else: \n",
    "    print('Running on local systems, if running on collaboratory please change above')"
   ]
  },
  {
   "cell_type": "code",
   "execution_count": null,
   "metadata": {},
   "outputs": [],
   "source": [
    "cd drive/My\\ Drive"
   ]
  },
  {
   "cell_type": "code",
   "execution_count": null,
   "metadata": {},
   "outputs": [],
   "source": [
    "import os\n",
    "if os.path.exists(\"./Revealing-Ferroelectric-Switching-Character-Using-Deep-Recurrent-Neural-Networks\"):\n",
    "    !git pull\n",
    "else:\n",
    "    !git clone https://github.com/jagar2/Revealing-Ferroelectric-Switching-Character-Using-Deep-Recurrent-Neural-Networks.git"
   ]
  },
  {
   "cell_type": "code",
   "execution_count": null,
   "metadata": {},
   "outputs": [],
   "source": [
    "cd Revealing-Ferroelectric-Switching-Character-Using-Deep-Recurrent-Neural-Networks"
   ]
  },
  {
   "cell_type": "code",
   "execution_count": null,
   "metadata": {},
   "outputs": [],
   "source": [
    "# imports useful packages\n",
    "import warnings\n",
    "warnings.filterwarnings('ignore')\n",
    "import imp\n",
    "from matplotlib.ticker import FormatStrFormatter\n",
    "import matplotlib.pyplot as plt\n",
    "import codes.analysis.rnn as rnn\n",
    "import codes.util as util\n",
    "import codes.analysis.machine_learning as ml\n",
    "import codes.analysis as an\n",
    "import codes.processing as p\n",
    "import codes.viz as viz\n",
    "import codes.util.input_output as io_transfer\n",
    "from sklearn.decomposition import NMF\n",
    "from scipy import io\n",
    "import numpy as np\n",
    "import os\n",
    "import os.path\n",
    "\n",
    "# loads the custom graphing format\n",
    "viz.format.custom_plt_format()\n",
    "\n",
    "plt.style.use('seaborn-white')"
   ]
  },
  {
   "cell_type": "markdown",
   "metadata": {},
   "source": [
    "# Folders"
   ]
  },
  {
   "cell_type": "code",
   "execution_count": null,
   "metadata": {},
   "outputs": [],
   "source": [
    "# builds folders where the data will be saved\n",
    "folder_structure = util.file.make_folder(\n",
    "    './structure')\n",
    "folder_BE = util.file.make_folder(\n",
    "    './Band_Excitation')\n",
    "folder_BE_Movie_files = util.file.make_folder(\n",
    "    folder_BE + '/BE_Movie_Files')\n",
    "folder_BE_all_images = util.file.make_folder(\n",
    "    folder_BE + '/BE_all_images')\n",
    "folder_BE_spectra = util.file.make_folder(\n",
    "    folder_BE + '/BE_spectra')\n",
    "folder_BE_cleaned_spectra = util.file.make_folder(\n",
    "    folder_BE + '/cleaned_spectra')\n",
    "folder_pca = util.file.make_folder(\n",
    "    './pca')\n",
    "folder_nmf = util.file.make_folder(\n",
    "    './nmf')\n",
    "folder_clustering = util.file.make_folder('./clustering')\n",
    "folder_pca_clustering = util.file.make_folder(\n",
    "    './pca_clustering')\n",
    "folder_piezoresponse_autoencoder = util.file.make_folder(\n",
    "    './piezoresponse_autoencoder')\n",
    "folder_resonance_autoencoder = util.file.make_folder(\n",
    "    './resonance_autoencoder')\n",
    "folder_piezoresponse_autoencoder_movie = util.file.make_folder(\n",
    "    folder_piezoresponse_autoencoder + '/movie')\n",
    "folder_piezoresponse_autoencoder_training_movie = util.file.make_folder(\n",
    "    folder_piezoresponse_autoencoder + '/training_movie')\n",
    "folder_resonance_autoencoder_movie = util.file.make_folder(\n",
    "    folder_resonance_autoencoder + '/movie')\n",
    "folder_resonance_autoencoder_training_movie = util.file.make_folder(\n",
    "    folder_resonance_autoencoder + '/training_movie')\n",
    "folder_phase_field = util.file.make_folder(\n",
    "    './Phase_Field')"
   ]
  },
  {
   "cell_type": "markdown",
   "metadata": {},
   "source": [
    "# Download Data"
   ]
  },
  {
   "cell_type": "code",
   "execution_count": null,
   "metadata": {},
   "outputs": [],
   "source": [
    "# Downloading data for Phase Field simulations and full training data\n",
    "# note these are big files >50 gb\n",
    "download_data = True\n",
    "\n",
    "url = 'https://zenodo.org/record/1482091/files/Phase_field.zip?download=1'\n",
    "filename = 'phase_field.zip'\n",
    "save_path = './Raw_Data/Phase_Field/'\n",
    "\n",
    "util.download_and_unzip(filename, url, save_path)\n",
    "\n",
    "url = 'https://zenodo.org/record/1482091/files/Trained_models.zip?download=1'\n",
    "filename = 'train_model_zip.zip'\n",
    "save_path = './Trained Models/'\n",
    "\n",
    "util.download_and_unzip(filename, url, save_path)"
   ]
  },
  {
   "cell_type": "markdown",
   "metadata": {},
   "source": [
    "## Settings"
   ]
  },
  {
   "cell_type": "markdown",
   "metadata": {},
   "source": [
    "### Export Figure Settings"
   ]
  },
  {
   "cell_type": "code",
   "execution_count": null,
   "metadata": {},
   "outputs": [],
   "source": [
    "# Sets what object to export\n",
    "printing = {  # exports eps vector graphics (note these files can be large)\n",
    "    'EPS': True,\n",
    "    # exports png files\n",
    "    'PNG': True,\n",
    "    # prints image series (note this can take some time)\n",
    "    'all_figures': True,\n",
    "    # generates movies (note this can take some time)\n",
    "    'movies': True,\n",
    "    # resolution of the images\n",
    "    'dpi': 300}"
   ]
  },
  {
   "cell_type": "markdown",
   "metadata": {},
   "source": [
    "### Plotting Format"
   ]
  },
  {
   "cell_type": "code",
   "execution_count": null,
   "metadata": {},
   "outputs": [],
   "source": [
    "# sets the plotting format\n",
    "plot_format = {\n",
    "    # adds scalebar to image\n",
    "    'add_scalebar': True,\n",
    "    # sets the dimensions for the scalebar [(size of image),(size of scalebar)]\n",
    "    'scalebar': [2000, 500],\n",
    "    # selects if the image will be rotated\n",
    "    'rotation': True,\n",
    "    # selects the rotation angle of the image\n",
    "    'angle': 60.46,\n",
    "    # sets the fraction of the image to crop\n",
    "    'frac_rm': 0.17765042979942694,\n",
    "    # sets the resolution of the image\n",
    "    'dpi': 300,\n",
    "    # sets the default colormap\n",
    "    'color_map': 'viridis',\n",
    "    # sets if color bars should be added\n",
    "    'color_bars': True}"
   ]
  },
  {
   "cell_type": "markdown",
   "metadata": {},
   "source": [
    "# Loads the Data"
   ]
  },
  {
   "cell_type": "code",
   "execution_count": null,
   "metadata": {},
   "outputs": [],
   "source": [
    "# imports the raw band excitation data\n",
    "imported = {'data': io.matlab.loadmat('./Raw_Data/Data.mat'),\n",
    "            'validation_data': io.matlab.loadmat('Raw_Data/loop_1.mat')}\n",
    "\n",
    "# extracts the important information from the raw data\n",
    "raw = {'voltage': imported['data']['Voltagedata_mixed'],\n",
    "       'piezoresponse': imported['data']['Loopdata_mixed'],\n",
    "       'amplitude': imported['data']['OutA2_mixed'],\n",
    "       'phase': imported['data']['OutPhi1_mixed'],\n",
    "       'resonance': imported['data']['Outw2_mixed'],\n",
    "       'quality_factor': imported['data']['OutQ2_mixed'],\n",
    "       'val_piezoresponse': imported['validation_data']['piezo_1'],\n",
    "       'val_resonance': imported['validation_data']['resonance_loop_1']}"
   ]
  },
  {
   "cell_type": "markdown",
   "metadata": {},
   "source": [
    "## Cleans the Raw Data"
   ]
  },
  {
   "cell_type": "code",
   "execution_count": null,
   "metadata": {},
   "outputs": [],
   "source": [
    "# adds a max min filter on the data to remove bad points\n",
    "p.filters.range_filter(raw['resonance'], [1300, 1340])\n",
    "p.filters.range_filter(raw['val_resonance'], [1300, 1340])\n",
    "\n",
    "# interpolates data that is non-real. This happens when the SHO fit fails\n",
    "interpolated = {'voltage': raw['voltage'],\n",
    "                'piezoresponse': p.filters.clean_interpolate(raw['piezoresponse'],\n",
    "                                                             'linear').reshape(-1, raw['piezoresponse'].shape[2]),\n",
    "                'amplitude': p.filters.clean_interpolate(raw['amplitude'],\n",
    "                                                         'linear').reshape(-1, raw['amplitude'].shape[2]),\n",
    "                'phase': p.filters.clean_interpolate(raw['phase'],\n",
    "                                                     'linear').reshape(-1, raw['phase'].shape[2]),\n",
    "                'resonance': p.filters.clean_interpolate(raw['resonance'],\n",
    "                                                         'linear').reshape(-1, raw['resonance'].shape[2]),\n",
    "                'quality_factor': p.filters.clean_interpolate(raw['quality_factor'],\n",
    "                                                              'linear').reshape(-1, raw['quality_factor'].shape[2]),\n",
    "                'val_piezoresponse': p.filters.clean_interpolate(raw['val_piezoresponse'],\n",
    "                                                                  'linear').reshape(-1, raw['val_piezoresponse'].shape[2]),\n",
    "                'val_resonance': p.filters.clean_interpolate(raw['val_resonance'],\n",
    "                                                             'linear').reshape(-1, raw['val_resonance'].shape[2])}\n",
    "# Uses Savitzky-Golay filter to remove outlier points\n",
    "sg_filtered = {'voltage': raw['voltage'],\n",
    "               'piezoresponse': p.filters.savgol(interpolated['piezoresponse'], fit_type='linear'),\n",
    "               'amplitude': p.filters.savgol(interpolated['amplitude'], fit_type='linear'),\n",
    "               'phase': p.filters.savgol(interpolated['phase'], fit_type='linear'),\n",
    "               'resonance': p.filters.savgol(interpolated['resonance'], fit_type='linear'),\n",
    "               'quality_factor': p.filters.savgol(interpolated['quality_factor'], fit_type='linear'),\n",
    "               'val_piezoresponse': p.filters.savgol(interpolated['val_piezoresponse'], fit_type='linear'),\n",
    "               'val_resonance': p.filters.savgol(interpolated['val_resonance'], fit_type='linear')}\n",
    "\n",
    "# normalized the data. This is important for training Neural Networks\n",
    "normalized = {'voltage': raw['voltage'],\n",
    "              'piezoresponse': p.filters.normalize(sg_filtered['piezoresponse']),\n",
    "              'amplitude': p.filters.normalize(sg_filtered['amplitude']),\n",
    "              'phase': p.filters.normalize(sg_filtered['phase']),\n",
    "              'resonance': p.filters.normalize(sg_filtered['resonance']),\n",
    "              'quality_factor': p.filters.normalize(sg_filtered['quality_factor']),\n",
    "              'val_piezoresponse': p.filters.normalize(sg_filtered['val_piezoresponse'],\n",
    "                                                       sg_filtered['piezoresponse']),\n",
    "              'val_resonance': p.filters.normalize(sg_filtered['val_resonance'],\n",
    "                                                   sg_filtered['resonance'])}\n",
    "\n",
    "# stores information which helps in making pretty axes.\n",
    "signal_info = {'voltage': dict(\n",
    "    symbol='voltage',\n",
    "    format_str='%3.d',\n",
    "    units='Voltage (V)',\n",
    "    y_lim=None,\n",
    "    x_tick=np.linspace(-15, 15, 7),\n",
    "    pca_range=None),\n",
    "    'amplitude': dict(\n",
    "    symbol='A',\n",
    "    format_str='%.0e',\n",
    "    units='Amplitude (Arb. U.)',\n",
    "    y_lim=None,\n",
    "    y_tick=[],\n",
    "    pca_range=None),\n",
    "    'phase': dict(\n",
    "    symbol='Phi',\n",
    "    format_str='%3.d',\n",
    "    units='Phase (${^\\circ}$)',\n",
    "    y_lim=[-110, 110],\n",
    "    y_tick=np.linspace(-90, 90, 5),\n",
    "    pca_range=None),\n",
    "    'resonance': dict(\n",
    "    symbol='w',\n",
    "    format_str='%3.d',\n",
    "    units='Resonance (kHz)',\n",
    "    y_lim=[1326, 1329],\n",
    "    y_tick=np.linspace(1320, 1329, 4),\n",
    "    pca_range=None),\n",
    "    'quality_factor': dict(\n",
    "    symbol='Q',\n",
    "    format_str='%3.f',\n",
    "    units='Quality Factor (Arb. U.)',\n",
    "    y_lim=[210, 310],\n",
    "    y_tick=np.linspace(215, 310, 5),\n",
    "    pca_range=None),\n",
    "    'piezoresponse': dict(\n",
    "    symbol='Piezoresponse',\n",
    "    format_str='%.0e',\n",
    "    units='Piezoresponse (Arb. U.)',\n",
    "    y_lim=None,\n",
    "    y_tick=[],\n",
    "    pca_range=[-0.29, .29])\n",
    "}\n",
    "\n",
    "# builds a single dictonary to hold all the data\n",
    "data = {'raw': raw,\n",
    "        'interpolated': interpolated,\n",
    "        'sg_filtered': sg_filtered,\n",
    "        'normalized': normalized,\n",
    "        'signal_info': signal_info}"
   ]
  },
  {
   "cell_type": "markdown",
   "metadata": {},
   "source": [
    "## Visualize Cleaned Data"
   ]
  },
  {
   "cell_type": "code",
   "execution_count": null,
   "metadata": {
    "scrolled": true
   },
   "outputs": [],
   "source": [
    "# Selects a random index to plot\n",
    "#i = np.random.randint(3600)\n",
    "# if user wants to show a specific point\n",
    "i = 100\n",
    "\n",
    "# Plots the raws data (black) and cleaned data (red)\n",
    "viz.plot.cleaned_data(data, i, printing, folder_BE_cleaned_spectra)"
   ]
  },
  {
   "cell_type": "markdown",
   "metadata": {},
   "source": [
    "**Figure J1 | Images showing preprocessing of data. a,** Piezoresponse **b,** amplitude **c,** phase **d,** resonance frequency **e,** quality factor. Raw data is shown in black, processed data shown in red."
   ]
  },
  {
   "cell_type": "markdown",
   "metadata": {},
   "source": [
    "# Structural Characterization"
   ]
  },
  {
   "cell_type": "markdown",
   "metadata": {},
   "source": [
    "##  Topography and Piezoresponse"
   ]
  },
  {
   "cell_type": "code",
   "execution_count": null,
   "metadata": {},
   "outputs": [],
   "source": [
    "# Description and properties of the plots\n",
    "signals = {'Topography': dict(\n",
    "    c_lim=[],\n",
    "    data_loc='topo_mixed'),\n",
    "    'Large-Periodicity Line Trace': dict(\n",
    "    data_loc='topo_ca_caca_mixed',\n",
    "    x_lim=[0, 2],\n",
    "    y_lim=[-4, 2],\n",
    "    shift=0),\n",
    "    'Small-Periodicity Line Trace':  dict(\n",
    "    data_loc='topo_mixed_caca',\n",
    "    x_lim=[0, .5],\n",
    "    y_lim=[0, 2],\n",
    "    shift=0.8),\n",
    "    'Vertical Amplitude': dict(\n",
    "    c_lim=[0, 4.5e-10],\n",
    "    data_loc='Vert_Amp_mixed'),\n",
    "    'Vertical Phase': dict(\n",
    "    c_lim=[],\n",
    "    data_loc='vert_phase_mixed'),\n",
    "    'Lateral Amplitude': dict(\n",
    "    c_lim=[0, .8e-11],\n",
    "    data_loc='lateral_amp_mixed'),\n",
    "    'Lateral Phase': dict(\n",
    "    c_lim=[],\n",
    "    data_loc='lateral_phase_mixed')\n",
    "}\n",
    "\n",
    "# plots the PFM images and line traces across those images.\n",
    "viz.plot.pfm_w_line_trace(signals, imported, printing, folder_structure)"
   ]
  },
  {
   "cell_type": "markdown",
   "metadata": {},
   "source": [
    "**Figure J2 | Piezoresponse force microscopy images of 400 nm thick PbZr${_{0.2}}$Ti${_{0.8}}$O${_{3}}$ heterostructures supported on NdScO${_3}$ (110). a,** Topography **b,** Line trace indicating the large scale sawtooth-like topography between the *c/*a/*c/*a and *a${_1}$/*a${_2}$/*a${_1}$/*a${_2}$ domain regions. **c,** Line trace indicating the small scale sawtooth-like topography within the c/a/c/a domain bands. Images of piezoresponse vertical **d,** amplitude and **e,** phase and lateral **f,** amplitude and **g,** phase."
   ]
  },
  {
   "cell_type": "markdown",
   "metadata": {},
   "source": [
    "## Reciprical Space Maps of PbZr${_{0.2}}$Ti${_{0.8}}$O${_{3}}$ with Hierarchical Domain Structures"
   ]
  },
  {
   "cell_type": "code",
   "execution_count": null,
   "metadata": {},
   "outputs": [],
   "source": [
    "viz.plot.rsm(imported, printing, folder_structure)"
   ]
  },
  {
   "cell_type": "markdown",
   "metadata": {},
   "source": [
    "**Figure J3 |** Symmetric reciprocal space map of 400 nm thick PbZr${_{0.8}}$Ti${_{0.2}}$O${_{3}}$ heterostructures supported on NdScO${_3}$ (110). Map obtained around the substrate 220 diffraction condition."
   ]
  },
  {
   "cell_type": "markdown",
   "metadata": {},
   "source": [
    "## Initial PFM images"
   ]
  },
  {
   "cell_type": "code",
   "execution_count": null,
   "metadata": {},
   "outputs": [],
   "source": [
    "# (User) Sets the colorscale of [topography = (initial [-3e-9,3e-9]),\n",
    "#amplitude (initial [.5e-11,6.5e-11]),\n",
    "# phase (initial [40,260])]\n",
    "signals = {'Topography': dict(\n",
    "    c_lim=[-3e-9, 3e-9],\n",
    "    data_loc='HeightOriginal'),\n",
    "    'Amplitude': dict(\n",
    "    c_lim=[.5e-11, 6.5e-11],\n",
    "    data_loc='AmpOriginal'),\n",
    "    'Phase': dict(\n",
    "    c_lim=[40, 260],\n",
    "    data_loc='PhaseOriginal')\n",
    "}\n",
    "\n",
    "viz.plot.pfm(signals, imported, printing, folder_structure, 'Inital PFM')"
   ]
  },
  {
   "cell_type": "markdown",
   "metadata": {},
   "source": [
    "**Figure J4 | Piezoresponse force microscopy images prior to band excitation piezoresponse force microscopy switching.** **a,** topographic and **b,** vertical **c,** phase piezoresponse force microscopy images of as grown 400 nm thick PbZr${_{0.2}}$Ti${_{0.8}}$O${_{3}}$ heterostructure supported on NdScO${_{3}}$ (110). "
   ]
  },
  {
   "cell_type": "markdown",
   "metadata": {},
   "source": [
    "## Final PFM Images"
   ]
  },
  {
   "cell_type": "code",
   "execution_count": null,
   "metadata": {},
   "outputs": [],
   "source": [
    "# (User) Sets the colorscale of [topography = (initial [-3e-9,3e-9]),\n",
    "#amplitude (initial [.2e-10,1.5e-10]),\n",
    "# phase (initial [50,90])]\n",
    "signals = {'Topography': dict(\n",
    "    c_lim=[-2e-9, 2e-9],\n",
    "    data_loc='HeightFinal'),\n",
    "    'Amplitude': dict(\n",
    "    c_lim=[.2e-10, 1.5e-10],\n",
    "    data_loc='AmpFinal'),\n",
    "    'Phase': dict(\n",
    "    c_lim=[50, 90],\n",
    "    data_loc='PhaseFinal')\n",
    "}\n",
    "\n",
    "viz.plot.pfm(signals, imported, printing, folder_structure, 'Final PFM')"
   ]
  },
  {
   "cell_type": "markdown",
   "metadata": {},
   "source": [
    "**Figure J5 | Piezoresponse force microscopy images following band excitation piezoresponse force microscopy switching.** **a,** topographic and **b,** vertical **c,** phase piezoresponse force microscopy images of as grown 400 nm thick PbZr${_{0.2}}$Ti${_{0.8}}$O${_{3}}$ heterostructure supported on NdScO${_{3}}$ (110). "
   ]
  },
  {
   "cell_type": "markdown",
   "metadata": {},
   "source": [
    "# Band Excitation Piezoresponse Force Microscopy - Basic Analysis"
   ]
  },
  {
   "cell_type": "markdown",
   "metadata": {},
   "source": [
    "## Exports all images"
   ]
  },
  {
   "cell_type": "code",
   "execution_count": null,
   "metadata": {},
   "outputs": [],
   "source": [
    "# Checks if user selected to export all figures\n",
    "if printing['all_figures']:\n",
    "\n",
    "    # (User) Sets the colorscale {Initial Amplitude = [0.0020e-3, 0.1490e-3]; Phase = [-265,-30];\n",
    "    #                                     Resonance = [1317,1330]; Quality Factor = [175,270]}\n",
    "    signal_clim = {('Amplitude', 'A'): [0.0020e-3, 0.1490e-3],\n",
    "                   ('Phase', 'Phi'): [-265, -30],\n",
    "                   ('Resonance', 'w'): [1317, 1330],\n",
    "                   ('Quality Factor', 'Q'): [175, 270],\n",
    "                   }\n",
    "\n",
    "    # prints all images from the switching studies\n",
    "    viz.plot.band_excitation(imported['data'], signal_clim, plot_format, printing,\n",
    "                             folder_=folder_BE_all_images)"
   ]
  },
  {
   "cell_type": "markdown",
   "metadata": {},
   "source": [
    "## Export Images for Movie"
   ]
  },
  {
   "cell_type": "code",
   "execution_count": null,
   "metadata": {},
   "outputs": [],
   "source": [
    "if printing['movies']:\n",
    "    # (User) Sets the colorscale {Initial Amplitude = [0.0020e-3, 0.1490e-3]; Phase = [-265,-30];\n",
    "    #                                     Resonance = [1317,1330]; Quality Factor = [175,270]}\n",
    "    signal_clim = {('Amplitude', 'A', '%.0e'): [0.0020e-3, 0.1490e-3],\n",
    "                   ('Phase', 'Phi', '%.0d'): [-265, -30],\n",
    "                   ('Resonance', 'w', '%.0d'): [1317, 1330],\n",
    "                   ('Quality Factor', 'Q', '%.0d'): [175, 270],\n",
    "                   }\n",
    "\n",
    "    # creates the images used to make the movie of the switching studies\n",
    "    viz.plot.band_excitation_movie(imported, signal_clim, \n",
    "                                    plot_format, printing, folder = folder_BE_Movie_files)"
   ]
  },
  {
   "cell_type": "code",
   "execution_count": null,
   "metadata": {},
   "outputs": [],
   "source": [
    "# creates the movie of the switching studies\n",
    "if printing['movies']:\n",
    "    util.file.make_movie('BE_Switching', folder_BE_Movie_files, folder_BE, 'png',\n",
    "                         4, output_format='mp4')"
   ]
  },
  {
   "cell_type": "markdown",
   "metadata": {},
   "source": [
    "## Plot Raw Band Excitation Spectra"
   ]
  },
  {
   "cell_type": "code",
   "execution_count": null,
   "metadata": {},
   "outputs": [],
   "source": [
    "# (User) selects index (index used in main manuscript as example [30,30], cycle 2)\n",
    "x = 30\n",
    "y = 30\n",
    "cycle = 2\n",
    "\n",
    "# Sets the information for plotting. (User) can adjust scales.\n",
    "signal_clim = {'Amplitude': dict(\n",
    "    symbol='A',\n",
    "    format_str='%.0e',\n",
    "    units='(Arb. U.)',\n",
    "    y_lim=[],\n",
    "    y_tick=[]),\n",
    "    'Phase': dict(\n",
    "    symbol='Phi',\n",
    "    format_str='%3.d',\n",
    "    units='(${^\\circ}$)',\n",
    "    y_lim=[-110, 110],\n",
    "    y_tick=np.linspace(-90, 90, 5)),\n",
    "    'Resonance': dict(\n",
    "    symbol='w',\n",
    "    format_str='%3.d',\n",
    "    units='(kHz)',\n",
    "    y_lim=[1326, 1329],\n",
    "    y_tick=np.linspace(1320, 1329, 4)),\n",
    "    'Quality Factor': dict(\n",
    "    symbol='Q',\n",
    "    format_str='%3.f',\n",
    "    units='',\n",
    "    y_lim=[210, 310],\n",
    "    y_tick=np.linspace(215, 310, 5)),\n",
    "    'Piezoresponse': dict(\n",
    "    symbol='Piezoresponse',\n",
    "    format_str='%.0e',\n",
    "    units='(Arb. U.)',\n",
    "    y_lim=[],\n",
    "    y_tick=[])\n",
    "}\n",
    "\n",
    "# plots the raw BE spectra\n",
    "viz.plot.band_excitation_spectra(x, y, cycle, imported['data'],\n",
    "                                 signal_clim, printing, folder_BE_spectra)"
   ]
  },
  {
   "cell_type": "markdown",
   "metadata": {},
   "source": [
    "**Figure J6 |** Example raw piezoresponse loops acquired during band excitation piezoresponse spectroscopy of PbZr${_{0.2}}$Ti${_{0.8}}$O${_{3}}$ with hierarchical domain structures. Showing **a,** amplitude, **b,** phase, **c,** resonance, **d,** quality factor, and **e,** piezoresponse (Acos${\\phi}$) loop."
   ]
  },
  {
   "cell_type": "markdown",
   "metadata": {},
   "source": [
    "## Loop Fitting Results"
   ]
  },
  {
   "cell_type": "code",
   "execution_count": null,
   "metadata": {},
   "outputs": [],
   "source": [
    "# Sets the information for plotting. (User) can adjust scales.\n",
    "signal_clim = {'a1': dict(\n",
    "    label='a${_1}$',\n",
    "    data_loc='a1_mixed',\n",
    "    format_str='%.1e',\n",
    "    c_lim=[-1.5e-4, 0]),\n",
    "    'a2': dict(\n",
    "    label='a${_2}$',\n",
    "    data_loc='a2_mixed',\n",
    "    format_str='%.1e',\n",
    "    c_lim=[0, 1.5e-4]),\n",
    "    'a3': dict(\n",
    "    label='a${_3}$',\n",
    "    data_loc='a3_mixed',\n",
    "    format_str='%.1e',\n",
    "    c_lim=[-1e-6, 3e-6]),\n",
    "    'b1': dict(\n",
    "    label='b${_1}$',\n",
    "    data_loc='b1_mixed',\n",
    "    format_str='%.1f',\n",
    "    c_lim=[0, 10]),\n",
    "    'b2': dict(\n",
    "    label='b${_2}$',\n",
    "    data_loc='b2_mixed',\n",
    "    format_str='%.1f',\n",
    "    c_lim=[0, 50]),\n",
    "    'b3': dict(\n",
    "    label='b${_3}$',\n",
    "    data_loc='b3_mixed',\n",
    "    format_str='%.1f',\n",
    "    c_lim=[0, 12]),\n",
    "    'b4': dict(\n",
    "    label='b${_4}$',\n",
    "    data_loc='b4_mixed',\n",
    "    format_str='%.1f',\n",
    "    c_lim=[0, 25]),\n",
    "    'b5': dict(\n",
    "    label='b${_5}$',\n",
    "    data_loc='b5_mixed',\n",
    "    format_str='%.1f',\n",
    "    c_lim=[0, 12]),\n",
    "    'b6': dict(\n",
    "    label='b${_6}$',\n",
    "    data_loc='b6_mixed',\n",
    "    format_str='%.1f',\n",
    "    c_lim=[0, 12]),\n",
    "    'b7': dict(\n",
    "    label='b${_7}$',\n",
    "    data_loc='b7_mixed',\n",
    "    format_str='%.1f',\n",
    "    c_lim=[-15, 15]),\n",
    "    'b8': dict(\n",
    "    label='b${_8}$',\n",
    "    data_loc='b8_mixed',\n",
    "    format_str='%.1f',\n",
    "    c_lim=[-15, 15]),\n",
    "    'Loop Area': dict(\n",
    "    label='Raw Area',\n",
    "    data_loc='Acosarea_mixed',\n",
    "    format_str='%.1e',\n",
    "    c_lim=[5e-4, 4e-3]),\n",
    "    'Fitted Loop Area': dict(\n",
    "    label='Fitted Area',\n",
    "    data_loc='Acosareafit_mixed',\n",
    "    format_str='%.1e',\n",
    "    c_lim=[5e-4, 4e-3]),\n",
    "    'Raw/Fitted Loop Difference': dict(\n",
    "    label='Raw/Fitted Diff.',\n",
    "    data_loc='Acosareadif_mixed',\n",
    "    format_str='%.1e',\n",
    "    c_lim=[0, 1.5]),\n",
    "    'Raw Amplitude Centroid': dict(\n",
    "    label='Raw Amp. Cent.',\n",
    "    data_loc='AcoscentAc_mixed',\n",
    "    format_str='%.1e',\n",
    "    c_lim=[-2e-5, 2e-5]),\n",
    "    'Fitted Amplitude Centroid': dict(\n",
    "    label='Fitted Amp. Cent.',\n",
    "    data_loc='AcoscentAcfit_mixed',\n",
    "    format_str='%.1e',\n",
    "    c_lim=[-2e-5, 2e-5]),\n",
    "    'Raw Voltage Centroid': dict(\n",
    "    label='Raw Volt. Cent.',\n",
    "    data_loc='AcoscentV_mixed',\n",
    "    format_str='%.1f',\n",
    "    c_lim=[-1, 4]),\n",
    "    'Fitted Voltage Centroid': dict(\n",
    "    label='Fitted Volt. Cent.',\n",
    "    data_loc='AcoscentVfit_mixed',\n",
    "    format_str='%.1f',\n",
    "    c_lim=[-1, 4]),\n",
    "    'Loop Height': dict(\n",
    "    label='Height',\n",
    "    data_loc='Acosheight_mixed',\n",
    "    format_str='%.1e',\n",
    "    c_lim=[5e-5, 2.5e-4]),\n",
    "    'Loop Width': dict(\n",
    "    label='Width',\n",
    "    data_loc='Acoswidth_mixed',\n",
    "    format_str='%.1f',\n",
    "    c_lim=[12, 18]),\n",
    "    'Left Coercive field': dict(\n",
    "    label='Left E${_c}$',\n",
    "    data_loc='Al_mixed',\n",
    "    format_str='%.1f',\n",
    "    c_lim=[4, 11]),\n",
    "    'Right Coercive field': dict(\n",
    "    label='Right E${_c}$',\n",
    "    data_loc='Au_mixed',\n",
    "    format_str='%.1f',\n",
    "    c_lim=[4, 11]),\n",
    "    'Negative Nucleation Bias': dict(\n",
    "    label='Neg. Nuc. Bias',\n",
    "    data_loc='Acosnegnuc_mixed',\n",
    "    format_str='%.1f',\n",
    "    c_lim=[0, 6]),\n",
    "    'Positive Nucleation Bias': dict(\n",
    "    label='Pos. Nuc. Bias',\n",
    "    data_loc='Acosposnuc_mixed',\n",
    "    format_str='%.1f',\n",
    "    c_lim=[0, 6]),\n",
    "    'Loop Twist': dict(\n",
    "    label='Twist',\n",
    "    data_loc='Acostwist_mixed',\n",
    "    format_str='%.1e',\n",
    "    c_lim=[0, 2.5e-2]),\n",
    "    'Optimum Rotation Angle': dict(\n",
    "    label='Opt. Rot. Angle',\n",
    "    data_loc='optrotang_mixed',\n",
    "    format_str='%.1f',\n",
    "    c_lim=[235, 240]),\n",
    "    'Normalized Amplitude Centroid': dict(\n",
    "    label='Norm. Amp. Cent.',\n",
    "    data_loc='NormAcCent_mixed',\n",
    "    format_str='%.1f',\n",
    "    c_lim=[-15, 15]),\n",
    "    'Normalized Voltage Centroid': dict(\n",
    "    label='Norm. Volt. Cent.',\n",
    "    data_loc='NormVCent_mixed',\n",
    "    format_str='%.1f',\n",
    "    c_lim=[-10, 30])}\n",
    "\n",
    "viz.plot.loopfits(imported['data'], signal_clim,\n",
    "                  printing, folder_BE, plot_format)"
   ]
  },
  {
   "cell_type": "markdown",
   "metadata": {},
   "source": [
    "**Figure J7 |  Spatial maps of loop fitting parameters obtained from band excitation switching spectroscopy of PbZr${_{0.2}}$Ti${_{0.8}}$O${_{3}}$ with hierarchical domain structures. a,** a${_1}$ - represents the lowest piezoresponse amplitude. **b,** a${_2}$ - represents the highest piezoresponse value. **c,** a${_3}$ - Loop rotation as defined by tan${\\delta}$. **d-g,** b${_{1-4}}$ - parameters specifying the curvature of the loop transitions. **h-i,** b${_{5-6}}$ - parameter specifying the rate of transitions between the curvatures of the loop. **j-k,** b${_{7-8}}$ - parameter specifying the voltage midpoint of the transitions. **l-m,** Raw (fitted) loop area the area enclosed by the raw (fitted) loop, representative of the work of switching. **n,** Area differential, the absolute difference between the area enclosed by the raw and fitted loop. **o-p,**  Raw (fitted) amplitude centroid the center of mass of the amplitude of the raw (fitted) piezoresponse loop. **q-r,**  Raw (fitted) voltage centroid the center of mass of the raw (fitted) piezoresponse loop. **s,** Loop height the vertical height in amplitude of the piezoelectric hysteresis loop. **t,** Loop width in volts. **u-v,** Left/Right E${_c}$ negative/positive piezoelectric coercive fields. **w-x,** Negative/positive nucleation bias, representing the voltage where the piezoresponse has changed by 3% of the loop height. **y,** Loop twist, the twists in shape of the piezoelectric hysteresis loops. **z,** Optimum rotation angle, the optimum ${\\phi}$ found which maximizes Acos${\\phi}$. **aa-ab,** Loop height (width) normalized amplitude (voltage) centroids. "
   ]
  },
  {
   "cell_type": "markdown",
   "metadata": {},
   "source": [
    "# Classical Machine Learning Approaches"
   ]
  },
  {
   "cell_type": "markdown",
   "metadata": {},
   "source": [
    "## Principal Component Analysis"
   ]
  },
  {
   "cell_type": "markdown",
   "metadata": {},
   "source": [
    "### Piezoresponse"
   ]
  },
  {
   "cell_type": "code",
   "execution_count": null,
   "metadata": {},
   "outputs": [],
   "source": [
    "# creates a dictionary to store the machine learning results\n",
    "machine_learning = {'pca': dict(),\n",
    "                    'nmf': dict(),\n",
    "                    'clustering': dict(),\n",
    "                    'pca_clustering': dict()}"
   ]
  },
  {
   "cell_type": "code",
   "execution_count": null,
   "metadata": {},
   "outputs": [],
   "source": [
    "# Computes the PCA\n",
    "# second index represents the number of components to compute\n",
    "machine_learning['pca']['piezoresponse'], _ = ml.pca(\n",
    "    sg_filtered['piezoresponse'], 16)\n",
    "\n",
    "# Plots the PCA results\n",
    "viz.plot.pca_results(machine_learning['pca']['piezoresponse'], data,\n",
    "                     signal_info, printing, folder_pca,\n",
    "                     plot_format, 'piezoresponse', filename='piezoresponse')"
   ]
  },
  {
   "cell_type": "markdown",
   "metadata": {},
   "source": [
    "**Figure J9 |  Principal component analysis the piezoresponse obtained from band excitation switching spectroscopy of PbZr${_{0.2}}$Ti${_{0.8}}$O${_{3}}$ with hierarchical domain structures.**"
   ]
  },
  {
   "cell_type": "markdown",
   "metadata": {},
   "source": [
    "### Amplitude"
   ]
  },
  {
   "cell_type": "code",
   "execution_count": null,
   "metadata": {},
   "outputs": [],
   "source": [
    "# Computes the PCA\n",
    "# second index represents the number of components to compute\n",
    "machine_learning['pca']['amplitude'], _ = ml.pca(sg_filtered['amplitude'], 16)\n",
    "\n",
    "# plots the pca results\n",
    "viz.plot.pca_results(machine_learning['pca']['amplitude'], data,\n",
    "                     signal_info, printing, folder_pca,\n",
    "                     plot_format, 'amplitude', filename='amplitude')"
   ]
  },
  {
   "cell_type": "markdown",
   "metadata": {},
   "source": [
    "**Figure J10 |  Principal component analysis the amplitude obtained from band excitation switching spectroscopy of PbZr${_{0.2}}$Ti${_{0.8}}$O${_{3}}$ with hierarchical domain structures.**"
   ]
  },
  {
   "cell_type": "markdown",
   "metadata": {},
   "source": [
    "### Phase"
   ]
  },
  {
   "cell_type": "code",
   "execution_count": null,
   "metadata": {},
   "outputs": [],
   "source": [
    "# Computes the PCA\n",
    "# second index represents the number of components to compute\n",
    "machine_learning['pca']['phase'], _ = ml.pca(sg_filtered['phase'], 16)\n",
    "\n",
    "# plots the pca results\n",
    "viz.plot.pca_results(machine_learning['pca']['phase'], data,\n",
    "                     signal_info, printing, folder_pca,\n",
    "                     plot_format, 'phase', filename='phase')"
   ]
  },
  {
   "cell_type": "markdown",
   "metadata": {},
   "source": [
    "**Figure J11 |  Principal component analysis the phase obtained from band excitation switching spectroscopy of PbZr${_{0.2}}$Ti${_{0.8}}$O${_{3}}$ with hierarchical domain structures.**"
   ]
  },
  {
   "cell_type": "markdown",
   "metadata": {},
   "source": [
    "### Resonance Frequency"
   ]
  },
  {
   "cell_type": "code",
   "execution_count": null,
   "metadata": {},
   "outputs": [],
   "source": [
    "# Computes the PCA\n",
    "# second index represents the number of components to compute\n",
    "machine_learning['pca']['resonance'], _ = ml.pca(sg_filtered['resonance'], 16)\n",
    "\n",
    "# plots the pca results\n",
    "viz.plot.pca_results(machine_learning['pca']['resonance'], data,\n",
    "                     signal_info, printing, folder_pca,\n",
    "                     plot_format, 'resonance', filename='resonance')"
   ]
  },
  {
   "cell_type": "markdown",
   "metadata": {},
   "source": [
    "**Figure J12 |  Principal component analysis the resonance frequency obtained from band excitation switching spectroscopy of PbZr${_{0.2}}$Ti${_{0.8}}$O${_{3}}$ with hierarchical domain structures.**"
   ]
  },
  {
   "cell_type": "markdown",
   "metadata": {},
   "source": [
    "### Quality Factor"
   ]
  },
  {
   "cell_type": "code",
   "execution_count": null,
   "metadata": {},
   "outputs": [],
   "source": [
    "# Computes the PCA\n",
    "# second index represents the number of components to compute\n",
    "machine_learning['pca']['quality_factor'], _ = ml.pca(\n",
    "    sg_filtered['quality_factor'], 16)\n",
    "\n",
    "# plots the pca results\n",
    "viz.plot.pca_results(machine_learning['pca']['quality_factor'], data,\n",
    "                     signal_info, printing, folder_pca,\n",
    "                     plot_format, 'quality_factor', filename='quality_factor')"
   ]
  },
  {
   "cell_type": "markdown",
   "metadata": {},
   "source": [
    "**Figure J13 |  Principal component analysis the quality factor obtained from band excitation switching spectroscopy of PbZr${_{0.2}}$Ti${_{0.8}}$O${_{3}}$ with hierarchical domain structures.**"
   ]
  },
  {
   "cell_type": "markdown",
   "metadata": {},
   "source": [
    "## Non-Negative Matrix Factorization"
   ]
  },
  {
   "cell_type": "markdown",
   "metadata": {},
   "source": [
    "### Piezoresponse"
   ]
  },
  {
   "cell_type": "code",
   "execution_count": null,
   "metadata": {},
   "outputs": [],
   "source": [
    "# builds the model for NMF\n",
    "model = NMF(n_components=4, init='random',\n",
    "            random_state=0, alpha=1e-7, l1_ratio=1)\n",
    "# computes the nmf\n",
    "machine_learning['nmf']['piezoresponse'] = ml.nmf(\n",
    "    model, data['sg_filtered']['piezoresponse'])\n",
    "\n",
    "# plots the nmf results\n",
    "viz.plot.NMF(data['raw']['voltage'],\n",
    "             machine_learning['nmf']['piezoresponse'],\n",
    "             printing,\n",
    "             plot_format,\n",
    "             signal_info['piezoresponse'],\n",
    "             folder=folder_nmf,\n",
    "             letter_labels=True,\n",
    "             custom_order=[0, 2, 3, 1])"
   ]
  },
  {
   "cell_type": "markdown",
   "metadata": {},
   "source": [
    "**Figure J14 |  Non-negative matrix factorization of the piezoresponse obtained from band excitation switching spectroscopy of PbZr${_{0.2}}$Ti${_{0.8}}$O${_{3}}$ with hierarchical domain structures.**"
   ]
  },
  {
   "cell_type": "markdown",
   "metadata": {},
   "source": [
    "### Amplitude"
   ]
  },
  {
   "cell_type": "code",
   "execution_count": null,
   "metadata": {},
   "outputs": [],
   "source": [
    "# builds the model for NMF\n",
    "model = NMF(n_components=4, init='random',\n",
    "            random_state=0, alpha=1e-7, l1_ratio=1)\n",
    "# computes the nmf\n",
    "machine_learning['nmf']['amplitude'] = ml.nmf(\n",
    "    model, data['sg_filtered']['amplitude'])\n",
    "\n",
    "# plots the nmf results\n",
    "viz.plot.NMF(data['raw']['voltage'],\n",
    "             machine_learning['nmf']['amplitude'],\n",
    "             printing,\n",
    "             plot_format,\n",
    "             signal_info['amplitude'],\n",
    "             folder=folder_nmf,\n",
    "             letter_labels=True,\n",
    "             custom_order=[0, 2, 3, 1])"
   ]
  },
  {
   "cell_type": "markdown",
   "metadata": {},
   "source": [
    "**Figure J15 |  Non-negative matrix factorization of the amplitude obtained from band excitation switching spectroscopy of PbZr${_{0.2}}$Ti${_{0.8}}$O${_{3}}$ with hierarchical domain structures.**"
   ]
  },
  {
   "cell_type": "markdown",
   "metadata": {},
   "source": [
    "### Phase"
   ]
  },
  {
   "cell_type": "code",
   "execution_count": null,
   "metadata": {},
   "outputs": [],
   "source": [
    "# builds the model for NMF\n",
    "model = NMF(n_components=4, init='random',\n",
    "            random_state=0, alpha=1e-7, l1_ratio=1)\n",
    "# computes the nmf\n",
    "machine_learning['nmf']['phase'] = ml.nmf(model, data['sg_filtered']['phase'])\n",
    "\n",
    "# plots the nmf results\n",
    "viz.plot.NMF(data['raw']['voltage'],\n",
    "             machine_learning['nmf']['phase'],\n",
    "             printing,\n",
    "             plot_format,\n",
    "             signal_info['phase'],\n",
    "             folder=folder_nmf,\n",
    "             letter_labels=True,\n",
    "             custom_order=[0, 2, 3, 1])"
   ]
  },
  {
   "cell_type": "markdown",
   "metadata": {},
   "source": [
    "**Figure J16 |  Non-negative matrix factorization of the phase obtained from band excitation switching spectroscopy of PbZr${_{0.2}}$Ti${_{0.8}}$O${_{3}}$ with hierarchical domain structures.**"
   ]
  },
  {
   "cell_type": "markdown",
   "metadata": {},
   "source": [
    "### Resonance Frequency"
   ]
  },
  {
   "cell_type": "code",
   "execution_count": null,
   "metadata": {},
   "outputs": [],
   "source": [
    "# builds the model for NMF\n",
    "model = NMF(n_components=4, init='random',\n",
    "            random_state=0, alpha=1e-7, l1_ratio=1)\n",
    "# computes the nmf\n",
    "machine_learning['nmf']['resonance'] = ml.nmf(\n",
    "    model, data['sg_filtered']['resonance'])\n",
    "\n",
    "# plots the nmf\n",
    "viz.plot.NMF(data['raw']['voltage'],\n",
    "             machine_learning['nmf']['resonance'],\n",
    "             printing,\n",
    "             plot_format,\n",
    "             signal_info['resonance'],\n",
    "             folder=folder_nmf,\n",
    "             letter_labels=True,\n",
    "             custom_order=[0, 2, 3, 1])"
   ]
  },
  {
   "cell_type": "markdown",
   "metadata": {},
   "source": [
    "**Figure J17 |  Non-negative matrix factorization of the resonance frequency obtained from band excitation switching spectroscopy of PbZr${_{0.2}}$Ti${_{0.8}}$O${_{3}}$ with hierarchical domain structures.**"
   ]
  },
  {
   "cell_type": "markdown",
   "metadata": {},
   "source": [
    "### Quality Factor"
   ]
  },
  {
   "cell_type": "code",
   "execution_count": null,
   "metadata": {},
   "outputs": [],
   "source": [
    "# builds the model for NMF\n",
    "model = NMF(n_components=4, init='random',\n",
    "            random_state=0, alpha=1e-7, l1_ratio=1)\n",
    "# computes the nmf\n",
    "machine_learning['nmf']['quality_factor'] = ml.nmf(\n",
    "    model, data['sg_filtered']['quality_factor'])\n",
    "\n",
    "# plots the nmf\n",
    "viz.plot.NMF(data['raw']['voltage'],\n",
    "             machine_learning['nmf']['quality_factor'],\n",
    "             printing,\n",
    "             plot_format,\n",
    "             signal_info['quality_factor'],\n",
    "             folder=folder_nmf,\n",
    "             letter_labels=True,\n",
    "             custom_order=[0, 2, 3, 1])"
   ]
  },
  {
   "cell_type": "markdown",
   "metadata": {},
   "source": [
    "**Figure J18 |  Non-negative matrix factorization of the quality factor obtained from band excitation switching spectroscopy of PbZr${_{0.2}}$Ti${_{0.8}}$O${_{3}}$ with hierarchical domain structures.**"
   ]
  },
  {
   "cell_type": "markdown",
   "metadata": {},
   "source": [
    "## Clustering"
   ]
  },
  {
   "cell_type": "code",
   "execution_count": null,
   "metadata": {},
   "outputs": [],
   "source": [
    "# Sets the number of clusters in the divisive clustering\n",
    "clustering = {'initial_clusters': 2,\n",
    "              'c_clusters': 5,\n",
    "              'a_clusters': 4}\n",
    "\n",
    "# Sets the names of the maps\n",
    "names = {('c/a-a${_1}$/a${_2}$', 'cluster_ca'),\n",
    "         ('a${_1}$/a${_2}$', 'a_map'),\n",
    "         ('c/a', 'c_map')}"
   ]
  },
  {
   "cell_type": "markdown",
   "metadata": {},
   "source": [
    "### Piezoresponse"
   ]
  },
  {
   "cell_type": "code",
   "execution_count": null,
   "metadata": {},
   "outputs": [],
   "source": [
    "# clusters the piezoresponse curves\n",
    "machine_learning['clustering']['piezoresponse'] = ml.k_means_clustering(\n",
    "    data, 'piezoresponse',\n",
    "    clustering, seed=42)\n",
    "\n",
    "# plots the cluster maps\n",
    "viz.plot.hierarchical_clustering(machine_learning['clustering']['piezoresponse'],\n",
    "                                names,\n",
    "                                plot_format)"
   ]
  },
  {
   "cell_type": "markdown",
   "metadata": {},
   "source": [
    "**Figure J19 | Divisive clustering of the piezoresponse curves obtained from band excitation switching spectroscopy of PbZr${_{0.2}}$Ti${_{0.8}}$O${_{3}}$ with hierarchical domain structures.**"
   ]
  },
  {
   "cell_type": "code",
   "execution_count": null,
   "metadata": {},
   "outputs": [],
   "source": [
    "# sets the y range for the plots\n",
    "signal_info['piezoresponse']['y_lim'] = [-1.5e-4, 1.5e-4]\n",
    "\n",
    "# plots the cluster maps and average hysteresis loops\n",
    "viz.plot.clustered_hysteresis(data['raw']['voltage'],\n",
    "                              data['sg_filtered']['piezoresponse'],\n",
    "                              machine_learning['clustering']['piezoresponse'],\n",
    "                              plot_format,\n",
    "                              signal_info,\n",
    "                              'piezoresponse',\n",
    "                              printing,\n",
    "                              folder_clustering)"
   ]
  },
  {
   "cell_type": "markdown",
   "metadata": {},
   "source": [
    "**Figure J20 | Divisive clustering of the piezoresponse curves obtained from band excitation switching spectroscopy of PbZr${_{0.2}}$Ti${_{0.8}}$O${_{3}}$ with hierarchical domain structures.**"
   ]
  },
  {
   "cell_type": "markdown",
   "metadata": {},
   "source": [
    "### Amplitude"
   ]
  },
  {
   "cell_type": "code",
   "execution_count": null,
   "metadata": {},
   "outputs": [],
   "source": [
    "# clusters the amplitude curves\n",
    "machine_learning['clustering']['amplitude'] = ml.k_means_clustering(\n",
    "    data, 'amplitude',\n",
    "    clustering, seed=42)\n",
    "\n",
    "# plots the amplitude clustering maps\n",
    "viz.plot.hierarchical_clustering(machine_learning['clustering']['amplitude'],\n",
    "                                names, plot_format)"
   ]
  },
  {
   "cell_type": "markdown",
   "metadata": {},
   "source": [
    "**Figure J21 | Divisive clustering of the amplitude curves obtained from band excitation switching spectroscopy of PbZr${_{0.2}}$Ti${_{0.8}}$O${_{3}}$ with hierarchical domain structures.**"
   ]
  },
  {
   "cell_type": "code",
   "execution_count": null,
   "metadata": {},
   "outputs": [],
   "source": [
    "# plots the clustering map and average hysteresis loop\n",
    "viz.plot.clustered_hysteresis(data['raw']['voltage'],\n",
    "                              data['sg_filtered']['piezoresponse'],\n",
    "                              machine_learning['clustering']['amplitude'],\n",
    "                              plot_format,\n",
    "                              signal_info,\n",
    "                              'amplitude',\n",
    "                              printing,\n",
    "                              folder_clustering)"
   ]
  },
  {
   "cell_type": "markdown",
   "metadata": {},
   "source": [
    "**Figure J22 | Divisive clustering of the amplitude curves obtained from band excitation switching spectroscopy of PbZr${_{0.2}}$Ti${_{0.8}}$O${_{3}}$ with hierarchical domain structures.**"
   ]
  },
  {
   "cell_type": "markdown",
   "metadata": {},
   "source": [
    "### Phase"
   ]
  },
  {
   "cell_type": "code",
   "execution_count": null,
   "metadata": {},
   "outputs": [],
   "source": [
    "# clusters the phase loops\n",
    "machine_learning['clustering']['phase'] = ml.k_means_clustering(\n",
    "    data, 'phase',\n",
    "    clustering, seed=42)\n",
    "\n",
    "# plots the cluster maps\n",
    "viz.plot.hierarchical_clustering(machine_learning['clustering']['phase'],\n",
    "                                names, plot_format)"
   ]
  },
  {
   "cell_type": "markdown",
   "metadata": {},
   "source": [
    "**Figure J23 | Divisive clustering of the phase curves obtained from band excitation switching spectroscopy of PbZr${_{0.2}}$Ti${_{0.8}}$O${_{3}}$ with hierarchical domain structures.**"
   ]
  },
  {
   "cell_type": "code",
   "execution_count": null,
   "metadata": {},
   "outputs": [],
   "source": [
    "# plots the clustering map and average hysteresis loop\n",
    "viz.plot.clustered_hysteresis(data['raw']['voltage'],\n",
    "                              data['sg_filtered']['piezoresponse'],\n",
    "                              machine_learning['clustering']['phase'],\n",
    "                              plot_format,\n",
    "                              signal_info,\n",
    "                              'phase',\n",
    "                              printing,\n",
    "                              folder_clustering)"
   ]
  },
  {
   "cell_type": "markdown",
   "metadata": {},
   "source": [
    "### Resonance Frequency"
   ]
  },
  {
   "cell_type": "code",
   "execution_count": null,
   "metadata": {},
   "outputs": [],
   "source": [
    "# clusters the resonance frequency\n",
    "machine_learning['clustering']['resonance'] = ml.k_means_clustering(\n",
    "    data, 'resonance',\n",
    "    clustering, seed=42)\n",
    "\n",
    "# plots the resonance frequency maps\n",
    "viz.plot.hierarchical_clustering(machine_learning['clustering']['resonance'],\n",
    "                                names, plot_format)"
   ]
  },
  {
   "cell_type": "markdown",
   "metadata": {},
   "source": [
    "**Figure J24 | Divisive clustering of the resonance frequency curves obtained from band excitation switching spectroscopy of PbZr${_{0.2}}$Ti${_{0.8}}$O${_{3}}$ with hierarchical domain structures.**"
   ]
  },
  {
   "cell_type": "code",
   "execution_count": null,
   "metadata": {},
   "outputs": [],
   "source": [
    "# plots the clusters with average hysteresis loops\n",
    "viz.plot.clustered_hysteresis(data['raw']['voltage'],\n",
    "                              data['sg_filtered']['piezoresponse'],\n",
    "                              machine_learning['clustering']['resonance'],\n",
    "                              plot_format,\n",
    "                              signal_info,\n",
    "                              'resonance',\n",
    "                              printing,\n",
    "                              folder_clustering)"
   ]
  },
  {
   "cell_type": "markdown",
   "metadata": {},
   "source": [
    "**Figure J25 | Divisive clustering of the resonance frequency curves obtained from band excitation switching spectroscopy of PbZr${_{0.2}}$Ti${_{0.8}}$O${_{3}}$ with hierarchical domain structures.**"
   ]
  },
  {
   "cell_type": "markdown",
   "metadata": {},
   "source": [
    "### Quality Factor"
   ]
  },
  {
   "cell_type": "code",
   "execution_count": null,
   "metadata": {},
   "outputs": [],
   "source": [
    "# clusters the quality factor curves\n",
    "machine_learning['clustering']['quality_factor'] = ml.k_means_clustering(\n",
    "    data, 'quality_factor',\n",
    "    clustering, seed=42)\n",
    "\n",
    "# plots the cluster maps\n",
    "viz.plot.hierarchical_clustering(machine_learning['clustering']['quality_factor'],\n",
    "                                names, plot_format)"
   ]
  },
  {
   "cell_type": "markdown",
   "metadata": {},
   "source": [
    "**Figure J26 | Divisive clustering of the quality factor curves obtained from band excitation switching spectroscopy of PbZr${_{0.2}}$Ti${_{0.8}}$O${_{3}}$ with hierarchical domain structures.**"
   ]
  },
  {
   "cell_type": "code",
   "execution_count": null,
   "metadata": {},
   "outputs": [],
   "source": [
    "# plots the cluster maps and average hysteresis loops\n",
    "viz.plot.clustered_hysteresis(data['raw']['voltage'],\n",
    "                              data['sg_filtered']['piezoresponse'],\n",
    "                              machine_learning['clustering']['quality_factor'],\n",
    "                              plot_format,\n",
    "                              signal_info,\n",
    "                              'quality_factor',\n",
    "                              printing,\n",
    "                              folder_clustering)"
   ]
  },
  {
   "cell_type": "markdown",
   "metadata": {},
   "source": [
    "**Figure J27 | Divisive clustering of the quality factor curves obtained from band excitation switching spectroscopy of PbZr${_{0.2}}$Ti${_{0.8}}$O${_{3}}$ with hierarchical domain structures.**"
   ]
  },
  {
   "cell_type": "markdown",
   "metadata": {},
   "source": [
    "## PCA + Clustering"
   ]
  },
  {
   "cell_type": "markdown",
   "metadata": {},
   "source": [
    "### Piezoresponse"
   ]
  },
  {
   "cell_type": "code",
   "execution_count": null,
   "metadata": {},
   "outputs": [],
   "source": [
    "signal = 'piezoresponse'\n",
    "\n",
    "# computes the PCA\n",
    "eigenvalues = ml.weights_as_embeddings(machine_learning['pca'][signal],\n",
    "                                       data['sg_filtered'][signal])\n",
    "\n",
    "# clusters the PCA results\n",
    "machine_learning['pca_clustering'][signal] = ml.k_means_clustering(\n",
    "    data, signal,\n",
    "    clustering, seed=42, pca_in=eigenvalues)\n",
    "\n",
    "# plots the cluster maps\n",
    "viz.plot.hierarchical_clustering(machine_learning['pca_clustering'][signal],\n",
    "                                names, plot_format)"
   ]
  },
  {
   "cell_type": "markdown",
   "metadata": {},
   "source": [
    "**Figure J28 | Divisive clustering of the first 16 principal components of the piezoresponse curves obtained from band excitation switching spectroscopy of PbZr${_{0.2}}$Ti${_{0.8}}$O${_{3}}$ with hierarchical domain structures.**"
   ]
  },
  {
   "cell_type": "code",
   "execution_count": null,
   "metadata": {},
   "outputs": [],
   "source": [
    "# plots the clustering results and average hysteresis curves\n",
    "viz.plot.clustered_hysteresis(data['raw']['voltage'],\n",
    "                              data['sg_filtered']['piezoresponse'],\n",
    "                              machine_learning['clustering'][signal],\n",
    "                              plot_format,\n",
    "                              signal_info,\n",
    "                              signal,\n",
    "                              printing,\n",
    "                              folder_pca_clustering)"
   ]
  },
  {
   "cell_type": "markdown",
   "metadata": {},
   "source": [
    "**Figure J29 | Divisive clustering of the first 16 principal components of the piezoresponse curves obtained from band excitation switching spectroscopy of PbZr${_{0.2}}$Ti${_{0.8}}$O${_{3}}$ with hierarchical domain structures.**"
   ]
  },
  {
   "cell_type": "markdown",
   "metadata": {},
   "source": [
    "### Amplitude"
   ]
  },
  {
   "cell_type": "code",
   "execution_count": null,
   "metadata": {},
   "outputs": [],
   "source": [
    "signal = 'amplitude'\n",
    "\n",
    "# computes the pca\n",
    "eigenvalues = ml.weights_as_embeddings(machine_learning['pca'][signal],\n",
    "                                       data['sg_filtered'][signal])\n",
    "# clusters the loops\n",
    "machine_learning['pca_clustering'][signal] = ml.k_means_clustering(\n",
    "    data, signal,\n",
    "    clustering, seed=42, pca_in=eigenvalues)\n",
    "\n",
    "# plots the clustering maps\n",
    "viz.plot.hierarchical_clustering(machine_learning['pca_clustering'][signal],\n",
    "                                names, plot_format)"
   ]
  },
  {
   "cell_type": "markdown",
   "metadata": {},
   "source": [
    "**Figure J30 | Divisive clustering of the first 16 principal components of the amplitude curves obtained from band excitation switching spectroscopy of PbZr${_{0.2}}$Ti${_{0.8}}$O${_{3}}$ with hierarchical domain structures.**"
   ]
  },
  {
   "cell_type": "code",
   "execution_count": null,
   "metadata": {},
   "outputs": [],
   "source": [
    "# plots the clustering maps and average hysteresis loops\n",
    "viz.plot.clustered_hysteresis(data['raw']['voltage'],\n",
    "                              data['sg_filtered']['piezoresponse'],\n",
    "                              machine_learning['clustering'][signal],\n",
    "                              plot_format,\n",
    "                              signal_info,\n",
    "                              signal,\n",
    "                              printing,\n",
    "                              folder_pca_clustering)"
   ]
  },
  {
   "cell_type": "markdown",
   "metadata": {},
   "source": [
    "**Figure J31 | Divisive clustering of the first 16 principal components of the amplitude curves obtained from band excitation switching spectroscopy of PbZr${_{0.2}}$Ti${_{0.8}}$O${_{3}}$ with hierarchical domain structures.**"
   ]
  },
  {
   "cell_type": "markdown",
   "metadata": {},
   "source": [
    "### Phase"
   ]
  },
  {
   "cell_type": "code",
   "execution_count": null,
   "metadata": {},
   "outputs": [],
   "source": [
    "signal = 'phase'\n",
    "\n",
    "# computes the pca\n",
    "eigenvalues = ml.weights_as_embeddings(machine_learning['pca'][signal],\n",
    "                                       data['sg_filtered'][signal])\n",
    "# clusters the pca\n",
    "machine_learning['pca_clustering'][signal] = ml.k_means_clustering(\n",
    "    data, signal,\n",
    "    clustering, seed=42, pca_in=eigenvalues)\n",
    "# plots the cluster maps\n",
    "viz.plot.hierarchical_clustering(machine_learning['pca_clustering'][signal],\n",
    "                                names, plot_format)"
   ]
  },
  {
   "cell_type": "markdown",
   "metadata": {},
   "source": [
    "**Figure J32 | Divisive clustering of the first 16 principal components of the phase curves obtained from band excitation switching spectroscopy of PbZr${_{0.2}}$Ti${_{0.8}}$O${_{3}}$ with hierarchical domain structures.**"
   ]
  },
  {
   "cell_type": "code",
   "execution_count": null,
   "metadata": {},
   "outputs": [],
   "source": [
    "# plots the clustering maps and average hysteresis loops\n",
    "viz.plot.clustered_hysteresis(data['raw']['voltage'],\n",
    "                              data['sg_filtered']['piezoresponse'],\n",
    "                              machine_learning['clustering'][signal],\n",
    "                              plot_format,\n",
    "                              signal_info,\n",
    "                              signal,\n",
    "                              printing,\n",
    "                              folder_pca_clustering)"
   ]
  },
  {
   "cell_type": "markdown",
   "metadata": {},
   "source": [
    "**Figure J33 | Divisive clustering of the first 16 principal components of the phase curves obtained from band excitation switching spectroscopy of PbZr${_{0.2}}$Ti${_{0.8}}$O${_{3}}$ with hierarchical domain structures.**"
   ]
  },
  {
   "cell_type": "markdown",
   "metadata": {},
   "source": [
    "### Resonance"
   ]
  },
  {
   "cell_type": "code",
   "execution_count": null,
   "metadata": {},
   "outputs": [],
   "source": [
    "signal = 'resonance'\n",
    "\n",
    "# computes the pca\n",
    "eigenvalues = ml.weights_as_embeddings(machine_learning['pca'][signal],\n",
    "                                       data['sg_filtered'][signal])\n",
    "# clusters the results\n",
    "machine_learning['pca_clustering'][signal] = ml.k_means_clustering(\n",
    "    data, signal,\n",
    "    clustering, seed=42, pca_in=eigenvalues)\n",
    "# plots the cluster maps\n",
    "viz.plot.hierarchical_clustering(machine_learning['pca_clustering'][signal],\n",
    "                                names, plot_format)"
   ]
  },
  {
   "cell_type": "markdown",
   "metadata": {},
   "source": [
    "**Figure J34 | Divisive clustering of the first 16 principal components of the resonance frequency curves obtained from band excitation switching spectroscopy of PbZr${_{0.2}}$Ti${_{0.8}}$O${_{3}}$ with hierarchical domain structures.**"
   ]
  },
  {
   "cell_type": "code",
   "execution_count": null,
   "metadata": {},
   "outputs": [],
   "source": [
    "# plots the clustering maps and average hysteresis loops\n",
    "viz.plot.clustered_hysteresis(data['raw']['voltage'],\n",
    "                              data['sg_filtered']['piezoresponse'],\n",
    "                              machine_learning['clustering'][signal],\n",
    "                              plot_format,\n",
    "                              signal_info,\n",
    "                              signal,\n",
    "                              printing,\n",
    "                              folder_pca_clustering)"
   ]
  },
  {
   "cell_type": "markdown",
   "metadata": {},
   "source": [
    "**Figure J35 | Divisive clustering of the first 16 principal components of the resonance frequency curves obtained from band excitation switching spectroscopy of PbZr${_{0.2}}$Ti${_{0.8}}$O${_{3}}$ with hierarchical domain structures.**"
   ]
  },
  {
   "cell_type": "markdown",
   "metadata": {},
   "source": [
    "### Quality Factor"
   ]
  },
  {
   "cell_type": "code",
   "execution_count": null,
   "metadata": {},
   "outputs": [],
   "source": [
    "signal = 'quality_factor'\n",
    "\n",
    "# computes the pca\n",
    "eigenvalues = ml.weights_as_embeddings(machine_learning['pca'][signal],\n",
    "                                       data['sg_filtered'][signal])\n",
    "# computes the cluster maps\n",
    "machine_learning['pca_clustering'][signal] = ml.k_means_clustering(\n",
    "    data, signal,\n",
    "    clustering, seed=42, pca_in=eigenvalues)\n",
    "# plots the cluster maps\n",
    "viz.plot.hierarchical_clustering(machine_learning['pca_clustering'][signal],\n",
    "                                names, plot_format)"
   ]
  },
  {
   "cell_type": "markdown",
   "metadata": {},
   "source": [
    "**Figure J36 | Divisive clustering of the first 16 principal components of the quality factor curves obtained from band excitation switching spectroscopy of PbZr${_{0.2}}$Ti${_{0.8}}$O${_{3}}$ with hierarchical domain structures.**"
   ]
  },
  {
   "cell_type": "code",
   "execution_count": null,
   "metadata": {},
   "outputs": [],
   "source": [
    "# plots the clustering maps and average hysteresis loops\n",
    "viz.plot.clustered_hysteresis(data['raw']['voltage'],\n",
    "                              data['sg_filtered']['piezoresponse'],\n",
    "                              machine_learning['clustering'][signal],\n",
    "                              plot_format,\n",
    "                              signal_info,\n",
    "                              signal,\n",
    "                              printing,\n",
    "                              folder_pca_clustering)"
   ]
  },
  {
   "cell_type": "markdown",
   "metadata": {},
   "source": [
    "**Figure J37 | Divisive clustering of the first 16 principal components of the quality factor curves obtained from band excitation switching spectroscopy of PbZr${_{0.2}}$Ti${_{0.8}}$O${_{3}}$ with hierarchical domain structures.**"
   ]
  },
  {
   "cell_type": "markdown",
   "metadata": {},
   "source": [
    "# Deep Learning Long Short-Term Memory Reccurent Neural Network Autoencoder"
   ]
  },
  {
   "cell_type": "markdown",
   "metadata": {},
   "source": [
    "## Piezoresponse"
   ]
  },
  {
   "cell_type": "markdown",
   "metadata": {},
   "source": [
    "### Building the model"
   ]
  },
  {
   "cell_type": "code",
   "execution_count": null,
   "metadata": {},
   "outputs": [],
   "source": [
    "# selects the folder where the pre-trained models are located\n",
    "model_folder = './Trained Models/Piezoresponse/Bidirect_lstm_size064_enc4_emb16_dec4_lr3m05_drop0.2_l1norm_1m05_batchnorm_TT_001'\n",
    "\n",
    "# Function to build the model\n",
    "piezoresponse_model, run_id = rnn.rnn('lstm', 64, 4, 4, 16,\n",
    "                                      data['sg_filtered']['piezoresponse'].shape[1],\n",
    "                                      lr=3e-5, drop_frac=.2, l1_norm=1e-4,\n",
    "                                      batch_norm=[True, True])"
   ]
  },
  {
   "cell_type": "markdown",
   "metadata": {},
   "source": [
    "### Train the model"
   ]
  },
  {
   "cell_type": "code",
   "execution_count": null,
   "metadata": {
    "code_folding": []
   },
   "outputs": [],
   "source": [
    "# select if the user will train a new model.\n",
    "# Note training requires GPU access and can take a long time (1-2 days)\n",
    "train_model = True\n",
    "\n",
    "if train_model:\n",
    "    # trains the model saving results as checkpoints\n",
    "    rnn.train_model(run_id, piezoresponse_model,\n",
    "                    data['normalized']['piezoresponse'],\n",
    "                    data['normalized']['val_piezoresponse'],\n",
    "                    folder_piezoresponse_autoencoder)"
   ]
  },
  {
   "cell_type": "markdown",
   "metadata": {},
   "source": [
    "### Loads Pre-Trained Model"
   ]
  },
  {
   "cell_type": "code",
   "execution_count": null,
   "metadata": {},
   "outputs": [],
   "source": [
    "# loading the pre-trained weights\n",
    "piezoresponse_model.load_weights(model_folder + '/weights.15179-0.00.hdf5')\n",
    "\n",
    "# Updates the decoder based on decoding optimization.\n",
    "# this was done to improve the quality of the reconstruction.\n",
    "piezoresponse_model, piezoresponse_decoder = rnn.update_decoder(piezoresponse_model,\n",
    "                                                                './Trained Models/Piezoresponse/weights.00033723-0.0022.hdf5')"
   ]
  },
  {
   "cell_type": "code",
   "execution_count": null,
   "metadata": {},
   "outputs": [],
   "source": [
    "# Displays the model summary\n",
    "piezoresponse_model.summary()"
   ]
  },
  {
   "cell_type": "markdown",
   "metadata": {},
   "source": [
    "## Model Validation"
   ]
  },
  {
   "cell_type": "markdown",
   "metadata": {},
   "source": [
    "### Validation Loss"
   ]
  },
  {
   "cell_type": "code",
   "execution_count": null,
   "metadata": {},
   "outputs": [],
   "source": [
    "# loss for the training data\n",
    "print('Training Data Set:')\n",
    "score = piezoresponse_model.evaluate(np.atleast_3d(data['normalized']['piezoresponse']),\n",
    "                                     np.atleast_3d(data['normalized']['piezoresponse']))\n",
    "print('Test loss:', score)\n",
    "\n",
    "# loss for the validation data\n",
    "print('Validation Data Set:')\n",
    "score = piezoresponse_model.evaluate(np.atleast_3d(data['normalized']['val_piezoresponse']),\n",
    "                                     np.atleast_3d(data['normalized']['val_piezoresponse']))\n",
    "print('Validation loss:', score)"
   ]
  },
  {
   "cell_type": "markdown",
   "metadata": {},
   "source": [
    "### Training Results"
   ]
  },
  {
   "cell_type": "code",
   "execution_count": null,
   "metadata": {},
   "outputs": [],
   "source": [
    "# plots the loss and an example reconstruction\n",
    "# set to plot a random loop\n",
    "# to plots a specific point add i=(pixel position)\n",
    "viz.plot.training_loss(model_folder,\n",
    "                       data,\n",
    "                       piezoresponse_model,\n",
    "                       'piezoresponse',\n",
    "                       signal_info,\n",
    "                       printing, folder_piezoresponse_autoencoder)"
   ]
  },
  {
   "cell_type": "markdown",
   "metadata": {},
   "source": [
    "**Figure J38 | Piezoresponse autoencoder traiing results. a,** Training loss (training - black) validation (red). Example hysteresis loop from the **b,** training, **c,** validation data set. Black curve shows the original measured data, red curve show the autoencoder reconstruction.    "
   ]
  },
  {
   "cell_type": "markdown",
   "metadata": {},
   "source": [
    "### Low Dimensional Layer"
   ]
  },
  {
   "cell_type": "code",
   "execution_count": null,
   "metadata": {},
   "outputs": [],
   "source": [
    "# Computes the low dimensional layer\n",
    "piezoresponse_embeddings = rnn.get_activations(piezoresponse_model,\n",
    "                                               data['normalized']['piezoresponse'],\n",
    "                                               9)"
   ]
  },
  {
   "cell_type": "code",
   "execution_count": null,
   "metadata": {},
   "outputs": [],
   "source": [
    "# defines the ranges for the images\n",
    "ranges = [0, 1.3e-2, 0, 0, 0,\n",
    "          0, 0, 6e-3, 0, 0,\n",
    "          0, 1.3e-2, 1e-2, 0, 0, 3e-3]\n",
    "\n",
    "# plots the embedding maps\n",
    "_ = viz.plot.embedding_maps(piezoresponse_embeddings,\n",
    "                            printing,\n",
    "                            plot_format,\n",
    "                            folder_piezoresponse_autoencoder,\n",
    "                            filename='./Piezoresponse_embeddings',\n",
    "                            ranges=ranges)"
   ]
  },
  {
   "cell_type": "markdown",
   "metadata": {},
   "source": [
    "**Figure J39 | Output of low dimensional layer obtained from the piezoreponse autoencoder.**"
   ]
  },
  {
   "cell_type": "markdown",
   "metadata": {},
   "source": [
    "### Plot Embedding and Line Trace"
   ]
  },
  {
   "cell_type": "code",
   "execution_count": null,
   "metadata": {},
   "outputs": [],
   "source": [
    "# rotates and crops the topography image\n",
    "crop_topo, scale = util.core.rotate_and_crop(\n",
    "    np.flipud(imported['data']['HeightFinal'].reshape(1024, 1024).T))\n",
    "\n",
    "# creates the figures and axes in a pretty way\n",
    "num_img = 10\n",
    "fig, ax = viz.format.layout_fig(num_img,\n",
    "                                mod=num_img // 2)\n",
    "\n",
    "# plots the selected embeddings superimposed on the line trace\n",
    "for i, v in enumerate([1, 7, 11, 12, 15]):\n",
    "\n",
    "    viz.plot.embedding_line_trace(ax,\n",
    "                                  i,\n",
    "                                  crop_topo,\n",
    "                                  piezoresponse_embeddings[:, v],\n",
    "                                  [0, ranges[v]],\n",
    "                                  plot_format,\n",
    "                                  number=num_img // 2)\n",
    "\n",
    "plt.tight_layout(pad=1)\n",
    "\n",
    "# saves the figure\n",
    "util.file.savefig(folder_piezoresponse_autoencoder +\n",
    "                  '/embedding_and_topography', printing)"
   ]
  },
  {
   "cell_type": "markdown",
   "metadata": {},
   "source": [
    "**Figure J40 | Plots of selected embedding maps from piezoelectric autoencoder superimposed on average topography.**"
   ]
  },
  {
   "cell_type": "markdown",
   "metadata": {},
   "source": [
    "### Exports Training Images"
   ]
  },
  {
   "cell_type": "markdown",
   "metadata": {},
   "source": [
    "Exports low dimensional layer computed after each epoch (with improvement) during training. This allows the visualization of the effect of L${_1}$ regularization."
   ]
  },
  {
   "cell_type": "code",
   "execution_count": null,
   "metadata": {
    "scrolled": true
   },
   "outputs": [],
   "source": [
    "# selects to export training images\n",
    "# note this take a long time (1-2 hours)\n",
    "export_training_images = True\n",
    "\n",
    "if export_training_images:\n",
    "    if np.int(io_transfer.get_size(model_folder) / 1e8) > 1:\n",
    "        # exports all low dimensional layers from training\n",
    "        viz.plot.training_images(piezoresponse_model,\n",
    "                                 data,\n",
    "                                 model_folder,\n",
    "                                 printing,\n",
    "                                 plot_format,\n",
    "                                 folder_piezoresponse_autoencoder_training_movie)\n",
    "        if printing['movies']:\n",
    "            # Script to making movie\n",
    "            util.file.make_movie('Piezoresponse_training_movie',\n",
    "                                 folder_piezoresponse_autoencoder_training_movie,\n",
    "                                 './',\n",
    "                                 'png',\n",
    "                                 10,\n",
    "                                 output_format='mp4')"
   ]
  },
  {
   "cell_type": "markdown",
   "metadata": {},
   "source": [
    "### Make Generator Movie"
   ]
  },
  {
   "cell_type": "markdown",
   "metadata": {},
   "source": [
    "Makes a movie where the magnitude of the embedding is manipulated and the decoder is used to generate the piezoresponse"
   ]
  },
  {
   "cell_type": "code",
   "execution_count": null,
   "metadata": {},
   "outputs": [],
   "source": [
    "if printing['movies']:\n",
    "\n",
    "    # defines the ranges for the embeddings\n",
    "    ranges = [1.3e-2, 6e-3, 1.3e-2, 1e-2, 3e-3]\n",
    "\n",
    "    # generates images for the generator movie\n",
    "    _ = viz.plot.generator_movie(piezoresponse_decoder, piezoresponse_embeddings,\n",
    "                                 data['raw']['voltage'], 100, 500,\n",
    "                                 ranges, folder_piezoresponse_autoencoder_movie,\n",
    "                                 plot_format, printing,\n",
    "                                 graph_layout=[5, 5])\n",
    "\n",
    "    # Script to making movie\n",
    "    util.file.make_movie('Piezoresponse_Generator_movie', folder_piezoresponse_autoencoder_movie,\n",
    "                         './', 'png', 10, output_format='mp4', reverse=True)"
   ]
  },
  {
   "cell_type": "markdown",
   "metadata": {},
   "source": [
    "### Plots Generator Results"
   ]
  },
  {
   "cell_type": "code",
   "execution_count": null,
   "metadata": {
    "scrolled": true
   },
   "outputs": [],
   "source": [
    "# defines the range for the embeddings\n",
    "ranges = [1.3e-2, 6e-3, 1.3e-2, 1e-2, 3e-3]\n",
    "\n",
    "# plots the embedding layer and the generated results\n",
    "viz.plot.generator_piezoresponse(piezoresponse_decoder,\n",
    "                                 piezoresponse_embeddings,\n",
    "                                 data['raw']['voltage'],\n",
    "                                 ranges,\n",
    "                                 6,\n",
    "                                 100,\n",
    "                                 printing,\n",
    "                                 plot_format,\n",
    "                                 folder_piezoresponse_autoencoder)"
   ]
  },
  {
   "cell_type": "markdown",
   "metadata": {},
   "source": [
    "**Figure J41 | Plots of selected embedding maps from piezoelectric autoencoder bottom shows generated hysteresis loop obtained when varying each embedding.** The color of the piezoelectric hysteresis loop reflects the colors in the map"
   ]
  },
  {
   "cell_type": "markdown",
   "metadata": {},
   "source": [
    "## Resonance"
   ]
  },
  {
   "cell_type": "markdown",
   "metadata": {},
   "source": [
    "### Building the model"
   ]
  },
  {
   "cell_type": "code",
   "execution_count": null,
   "metadata": {},
   "outputs": [],
   "source": [
    "# selects the folder where the pre-trained model is saved\n",
    "model_folder = './Trained Models/Resonance/Bidirect_lstm_size064_enc4_emb16_dec4_lr3m05_drop0.2_l1norm_0.0001_batchnorm_TT_001'\n",
    "\n",
    "# Function to build the model\n",
    "resonance_model, run_id = rnn.rnn(\n",
    "    'lstm',\n",
    "    64,\n",
    "    4,\n",
    "    4,\n",
    "    16,\n",
    "    data['sg_filtered']['resonance'].shape[1],\n",
    "    lr=3e-5,\n",
    "    drop_frac=.2,\n",
    "    l1_norm=1e-4,\n",
    "    batch_norm=[True, True])"
   ]
  },
  {
   "cell_type": "markdown",
   "metadata": {},
   "source": [
    "### Train the model"
   ]
  },
  {
   "cell_type": "code",
   "execution_count": null,
   "metadata": {
    "code_folding": []
   },
   "outputs": [],
   "source": [
    "# select if the user will train a new model.\n",
    "# Note training requires GPU access and can take a long time (1-2 days)\n",
    "train_model = False\n",
    "\n",
    "if train_model:\n",
    "    # trains the model saving each epoch (with improvement) as a checkpoint\n",
    "    rnn.train_model(\n",
    "        run_id,\n",
    "        resonance_model,\n",
    "        data['normalized']['resonance'],\n",
    "        data['normalized']['val_resonance'],\n",
    "        folder_resonance_autoencoder)"
   ]
  },
  {
   "cell_type": "markdown",
   "metadata": {},
   "source": [
    "### Loads Pre-Trained Model"
   ]
  },
  {
   "cell_type": "code",
   "execution_count": null,
   "metadata": {},
   "outputs": [],
   "source": [
    "# loading the pre-trained weights\n",
    "resonance_model.load_weights(model_folder + '/weights.00022570-0.0123.hdf5')\n",
    "\n",
    "# loads the pre-trained weight from an optimized decoder\n",
    "# training of the decoder was done to minimize reconstruction error\n",
    "resonance_model, resonance_decoder = rnn.update_decoder(\n",
    "    resonance_model,\n",
    "    './Trained Models/Resonance/weights.00013412-0.0106.hdf5')"
   ]
  },
  {
   "cell_type": "code",
   "execution_count": null,
   "metadata": {},
   "outputs": [],
   "source": [
    "# Displays the model summary\n",
    "resonance_model.summary()"
   ]
  },
  {
   "cell_type": "markdown",
   "metadata": {},
   "source": [
    "## Model Validation"
   ]
  },
  {
   "cell_type": "markdown",
   "metadata": {},
   "source": [
    "### Validation Loss"
   ]
  },
  {
   "cell_type": "code",
   "execution_count": null,
   "metadata": {},
   "outputs": [],
   "source": [
    "# computes the training loss\n",
    "print('Training Data Set:')\n",
    "score = resonance_model.evaluate(np.atleast_3d(data['normalized']['resonance']),\n",
    "                                 np.atleast_3d(data['normalized']['resonance']))\n",
    "print('Test loss:', score)\n",
    "\n",
    "# computes the validation loss\n",
    "print('Validation Data Set:')\n",
    "score = resonance_model.evaluate(np.atleast_3d(data['normalized']['val_resonance']),\n",
    "                                 np.atleast_3d(data['normalized']['val_resonance']))\n",
    "print('Validation loss:', score)"
   ]
  },
  {
   "cell_type": "code",
   "execution_count": null,
   "metadata": {},
   "outputs": [],
   "source": [
    "# plots the loss and an example reconstruction\n",
    "# set to plot a random loop\n",
    "# to plots a specific point add i=(pixel position)\n",
    "viz.plot.training_loss(\n",
    "    model_folder,\n",
    "    data,\n",
    "    resonance_model,\n",
    "    'resonance',\n",
    "    signal_info,\n",
    "    printing,\n",
    "    folder_resonance_autoencoder)"
   ]
  },
  {
   "cell_type": "markdown",
   "metadata": {},
   "source": [
    "**Figure J43 | Resonance autoencoder traiing results. a,** Training loss (training - black) validation (red). Example hysteresis loop from the **b,** training, **c,** validation data set. Black curve shows the original measured data, red curve show the autoencoder reconstruction.  "
   ]
  },
  {
   "cell_type": "code",
   "execution_count": null,
   "metadata": {},
   "outputs": [],
   "source": [
    "# Computes the low dimensional layer\n",
    "resonance_embeddings = rnn.get_activations(\n",
    "    resonance_model,\n",
    "    data['normalized']['resonance'],\n",
    "    9)"
   ]
  },
  {
   "cell_type": "code",
   "execution_count": null,
   "metadata": {},
   "outputs": [],
   "source": [
    "# defines the ranges for the images\n",
    "ranges = [0, 0, 0, 0, 6e-3,\n",
    "          0, 4e-2, 0, 6e-2, 1e-1,\n",
    "          0, 1e-3, 0, 0, 0, 1.6e-2]\n",
    "\n",
    "# plots the embedding maps\n",
    "_ = viz.plot.embedding_maps(\n",
    "    resonance_embeddings,\n",
    "    printing,\n",
    "    plot_format,\n",
    "    folder_resonance_autoencoder,\n",
    "    filename='./Resonance_embeddings',\n",
    "    ranges=ranges)"
   ]
  },
  {
   "cell_type": "markdown",
   "metadata": {},
   "source": [
    "**Figure J44 | Output of low dimensional layer obtained from the resonance autoencoder.**"
   ]
  },
  {
   "cell_type": "markdown",
   "metadata": {},
   "source": [
    "### Plot Embedding and Line Trace"
   ]
  },
  {
   "cell_type": "code",
   "execution_count": null,
   "metadata": {
    "scrolled": true
   },
   "outputs": [],
   "source": [
    "# collects the c/a clustering results\n",
    "cluster_ca = machine_learning['clustering']['piezoresponse'][1]\n",
    "\n",
    "# makes a copy of the embeddings\n",
    "embedding_c = np.copy(resonance_embeddings)\n",
    "embedding_a = np.copy(resonance_embeddings)\n",
    "\n",
    "# splits the embeddings for the c and a domains\n",
    "embedding_c[np.where(cluster_ca == 1)] = 0\n",
    "embedding_a[np.where(cluster_ca == 0)] = 0\n",
    "\n",
    "# rotates and crops the topography image\n",
    "crop_topo, scale = util.core.rotate_and_crop(\n",
    "    np.flipud(imported['data']['HeightFinal'].reshape(1024, 1024).T))\n",
    "\n",
    "# defines the embedding ranges for the images\n",
    "ranges = [0, 0, 0, 0, 6e-3,\n",
    "          0, 4e-2, 0, 6e-2, 1e-1,\n",
    "          0, 1e-3, 0, 0, 0, 1.6e-2]\n",
    "\n",
    "# creates the figures and axes in a pretty way\n",
    "fig, ax = viz.format.layout_fig(6, mod=3)\n",
    "\n",
    "# plots the embedding superimposed on the line trace\n",
    "viz.plot.embedding_line_trace(\n",
    "    ax,\n",
    "    0,\n",
    "    crop_topo,\n",
    "    embedding_c[:, 15],\n",
    "    [0, 1.6e-2],\n",
    "    plot_format)\n",
    "\n",
    "viz.plot.embedding_line_trace(\n",
    "    ax,\n",
    "    1,\n",
    "    crop_topo,\n",
    "    embedding_a[:, 4],\n",
    "    [0, 4.5e-3],\n",
    "    plot_format)\n",
    "\n",
    "viz.plot.embedding_line_trace(\n",
    "    ax,\n",
    "    2,\n",
    "    crop_topo,\n",
    "    embedding_a[:, 11],\n",
    "    [0, 7e-4],\n",
    "    plot_format)\n",
    "\n",
    "plt.tight_layout(pad=1)\n",
    "\n",
    "# saves the figure\n",
    "util.file.savefig(\n",
    "    folder_resonance_autoencoder +\n",
    "    '/embedding_and_topography',\n",
    "    printing)"
   ]
  },
  {
   "cell_type": "markdown",
   "metadata": {},
   "source": [
    "**Figure J45 | Plots of selected embedding maps from piezoelectric autoencoder superimposed on average topography.**"
   ]
  },
  {
   "cell_type": "markdown",
   "metadata": {},
   "source": [
    "### Exports Training Images"
   ]
  },
  {
   "cell_type": "markdown",
   "metadata": {},
   "source": [
    "Exports low dimensional layer computed after each epoch (with improvement) during training. This allows the visualization of the effect of L${_1}$ regularization."
   ]
  },
  {
   "cell_type": "code",
   "execution_count": null,
   "metadata": {},
   "outputs": [],
   "source": [
    "# selects to export training images\n",
    "# note this take a long time (1-2 hours)\n",
    "export_training_images = True\n",
    "\n",
    "if export_training_images:\n",
    "    if np.int(io_transfer.get_size(model_folder) / 1e8) > 1:\n",
    "        viz.plot.training_images(\n",
    "            resonance_model,\n",
    "            data,\n",
    "            model_folder,\n",
    "            printing,\n",
    "            plot_format,\n",
    "            folder_resonance_autoencoder_training_movie,\n",
    "            data_type='resonance')\n",
    "\n",
    "        if printing['movies']:\n",
    "            # Script to making movie\n",
    "            util.file.make_movie(\n",
    "                'resonance_training_movie',\n",
    "                folder_resonance_autoencoder_training_movie,\n",
    "                './',\n",
    "                'png',\n",
    "                10,\n",
    "                output_format='mp4')"
   ]
  },
  {
   "cell_type": "markdown",
   "metadata": {},
   "source": [
    "### Make Generator Movie"
   ]
  },
  {
   "cell_type": "markdown",
   "metadata": {},
   "source": [
    "Makes a movie where the magnitude of the embedding is manipulated and the decoder is used to generate the piezoresponse"
   ]
  },
  {
   "cell_type": "code",
   "execution_count": null,
   "metadata": {},
   "outputs": [],
   "source": [
    "if printing['movies']:\n",
    "\n",
    "    # collects the c/a c\n",
    "    cluster_ca = machine_learning['clustering']['piezoresponse'][1]\n",
    "\n",
    "    # makes a copy of the resonance embeddings\n",
    "    embedding_c = np.copy(resonance_embeddings)\n",
    "    embedding_a = np.copy(resonance_embeddings)\n",
    "\n",
    "    # extracts the embeddings for the c/a regions\n",
    "    embedding_c[np.where(cluster_ca == 1)] = 0\n",
    "    embedding_a[np.where(cluster_ca == 0)] = 0\n",
    "\n",
    "    # defines the embedding ranges for the images\n",
    "    ranges_a = [0, 0, 0, 0, 5e-3,\n",
    "                0, 4e-2, 0, 6e-2, 1e-1,\n",
    "                0, 7e-4, 0, 0, 0, 1.6e-2]\n",
    "\n",
    "    ranges_c = [0, 0, 0, 0, 2e-3,\n",
    "                0, 4e-2, 0, 6e-2, 1e-1,\n",
    "                0, .7e-3, 0, 0, 0, 1.6e-2]\n",
    "\n",
    "    # selects the embeding maps to plot\n",
    "    index_a = [4, 6, 11]\n",
    "    index_c = [4, 11, 15]\n",
    "\n",
    "    # selects the number of images (embedding levels) to make\n",
    "    number = 100\n",
    "\n",
    "    # selects the number of points to average the embedding between\n",
    "    averaging_number = 50\n",
    "\n",
    "    # generates the embedding images\n",
    "    _ = viz.plot.resonance_generator_movie(\n",
    "        resonance_model,\n",
    "        index_c,\n",
    "        index_a,\n",
    "        embedding_c, data['raw']['voltage'],\n",
    "        embedding_a,\n",
    "        ranges_c,\n",
    "        ranges_a,\n",
    "        number,\n",
    "        averaging_number,\n",
    "        resonance_decoder,\n",
    "        plot_format,\n",
    "        printing,\n",
    "        folder_resonance_autoencoder_movie,\n",
    "        graph_layout=[12, 3])\n",
    "\n",
    "    # Script to making movie\n",
    "    util.file.make_movie(\n",
    "        'Resonance_Generator_movie',\n",
    "        folder_resonance_autoencoder_movie,\n",
    "        './',\n",
    "        'png',\n",
    "        10,\n",
    "        output_format='mp4',\n",
    "        reverse=True)"
   ]
  },
  {
   "cell_type": "markdown",
   "metadata": {},
   "source": [
    "### Autoencoder Generator"
   ]
  },
  {
   "cell_type": "code",
   "execution_count": null,
   "metadata": {
    "scrolled": true
   },
   "outputs": [],
   "source": [
    "# defines the ranges for the images\n",
    "ranges = [0, 0, 0, 0, 4.5e-3,\n",
    "          0, 4e-2, 0, 6e-2, 1e-1,\n",
    "          0, 7e-4, 0, 0, 0,\n",
    "          1.6e-2]\n",
    "\n",
    "# selects the embedding maps to plot\n",
    "index_a = [4, 6, 11]\n",
    "index_c = [4, 11, 15]\n",
    "\n",
    "# selects the number of curves to plot\n",
    "number = 8\n",
    "\n",
    "# selects the number of pixels to average\n",
    "averaging_number = 50\n",
    "\n",
    "# selects a subset of the generated plots\n",
    "plot_subselect = [[7, 6, 5],\n",
    "                  [7, 6, 5],\n",
    "                  [7, 6, 5]]\n",
    "\n",
    "# set the scales of the axes\n",
    "scales = [[1320, 1330],\n",
    "          [-1.1, 1.1]]\n",
    "\n",
    "# plots the generated curves for the a domains\n",
    "viz.plot.resonance_generator(\n",
    "    resonance_decoder,\n",
    "    piezoresponse_decoder,\n",
    "    index_a,\n",
    "    embedding_a,\n",
    "    ranges,\n",
    "    number,\n",
    "    averaging_number,\n",
    "    plot_subselect,\n",
    "    piezoresponse_embeddings,\n",
    "    data['raw']['voltage'],\n",
    "    data['sg_filtered']['resonance'],\n",
    "    plot_format,\n",
    "    printing,\n",
    "    folder_resonance_autoencoder,\n",
    "    scales,\n",
    "    name_prefix='a_domains')\n",
    "\n",
    "\n",
    "# sets the embedding ranges for the c domains\n",
    "ranges = [0, 0, 0, 0, 2e-3,\n",
    "          0, 4e-2, 0, 6e-2, 1e-1,\n",
    "          0, .7e-3, 0, 0, 0,\n",
    "          1.6e-2]\n",
    "\n",
    "# selects a subset of the generated plots\n",
    "plot_subselect = [[7, 6, 5], [7, 6, 5], [7, 5, 3, 1]]\n",
    "# set the scales of the axes\n",
    "scales = [[1320, 1330], [-1.55, 1.55]]\n",
    "\n",
    "# plots the generated curves for the a domains\n",
    "viz.plot.resonance_generator(\n",
    "    resonance_decoder,\n",
    "    piezoresponse_decoder,\n",
    "    index_c,\n",
    "    embedding_c,\n",
    "    ranges,\n",
    "    number,\n",
    "    averaging_number,\n",
    "    plot_subselect,\n",
    "    piezoresponse_embeddings,\n",
    "    data['raw']['voltage'],\n",
    "    data['sg_filtered']['resonance'],\n",
    "    plot_format,\n",
    "    printing,\n",
    "    folder_resonance_autoencoder,\n",
    "    scales,\n",
    "    name_prefix='c_domains')"
   ]
  },
  {
   "cell_type": "markdown",
   "metadata": {},
   "source": [
    "**Figure J45 | Plots of selected embedding maps from resonance autoencoder.** \n",
    "Top shows embedding map, middle shows generated resonance hysteresis loop, bottom shows generated piezoelectric hysteresis loop obtained when varying each embedding. The color of the hysteresis loops reflects the colors in the map"
   ]
  },
  {
   "cell_type": "markdown",
   "metadata": {},
   "source": [
    "# Phase Field"
   ]
  },
  {
   "cell_type": "code",
   "execution_count": null,
   "metadata": {},
   "outputs": [],
   "source": [
    "# sets the position where the tip is located\n",
    "tip_positions = {'tip1': dict(pos=[42, 64, 20]),\n",
    "                 'tip2': dict(pos=[50, 64, 20]),\n",
    "                 'tip3': dict(pos=[62, 64, 20]),\n",
    "                 'tip4': dict(pos=[72, 64, 20]),\n",
    "                 'tip5': dict(pos=[74, 64, 20])}\n",
    "\n",
    "# sets the scale limits for the graphs\n",
    "clim = {'Polarization Z': [-1, 1],\n",
    "        'Landau Energy': [-10e7, 10e7],\n",
    "        'Elastic Energy': [-10e7, 10e7],\n",
    "        'Electrostatic Energy': [-10e7, 10e7],\n",
    "        'Gradient Energy': [-10e7, 10e7],\n",
    "        'Total Energy': [-10e7, 10e7]}\n",
    "\n",
    "# sets the information of the region to s6ho\n",
    "graph_info = dict(top=20,\n",
    "                  y_cut=64,\n",
    "                  x_lim=[120, 360],\n",
    "                  y_lim=[0, 100],\n",
    "                  clim=clim)\n",
    "\n",
    "# collection of information used for plotting the phase feild results\n",
    "Phase_field_information = {'tips': ['tip1',\n",
    "                                    'tip2',\n",
    "                                    'tip3',\n",
    "                                    'tip4',\n",
    "                                    'tip5'],\n",
    "                           'folder': dict(time_series='./Raw_Data/Phase_Field/Polarization/data-PEloop/',\n",
    "                                          polarization='./Raw_Data/Phase_Field/Polarization/',\n",
    "                                          energy='./Raw_Data/Phase_Field/energy/'),\n",
    "                           'time_step': [60, 0, 20],\n",
    "                           'tip_positions': tip_positions,\n",
    "                           'graph_info': graph_info,\n",
    "                           'labels': ['Polarization Z',\n",
    "                                      'Landau Energy',\n",
    "                                      'Elastic Energy',\n",
    "                                      'Electrostatic Energy',\n",
    "                                      'Gradient Energy',\n",
    "                                      'Total Energy'],\n",
    "                           'output_folder': folder_phase_field}"
   ]
  },
  {
   "cell_type": "markdown",
   "metadata": {},
   "source": [
    "## Phase Field Switching Images"
   ]
  },
  {
   "cell_type": "code",
   "execution_count": null,
   "metadata": {},
   "outputs": [],
   "source": [
    "# plots the phase field results\n",
    "viz.phase_field.phase_field_switching(Phase_field_information, printing)"
   ]
  },
  {
   "cell_type": "markdown",
   "metadata": {},
   "source": [
    "**Figure J46 | Phase-field simulations under local tip bias.** Maps show the polarization and various contributions to the energy at various tip positions. Maps show the switching under negative bias (left), initial state (center), positive bias (right). "
   ]
  },
  {
   "cell_type": "code",
   "execution_count": null,
   "metadata": {},
   "outputs": [],
   "source": [
    "# exports all phase field images to create movie\n",
    "_ = viz.phase_field.movie(Phase_field_information, printing)"
   ]
  },
  {
   "cell_type": "markdown",
   "metadata": {},
   "source": [
    "## Makes Movies"
   ]
  },
  {
   "cell_type": "code",
   "execution_count": null,
   "metadata": {},
   "outputs": [],
   "source": [
    "for i, tip in enumerate(Phase_field_information['tips']):\n",
    "    util.file.make_movie('Switching_movie_' + tip,\n",
    "                         folder_phase_field + '/movie/' + tip,\n",
    "                         folder_phase_field + '/movie/',\n",
    "                         'png',\n",
    "                         5, output_format='gif')"
   ]
  },
  {
   "cell_type": "markdown",
   "metadata": {},
   "source": [
    "## Phase Field Hysteresis Loops"
   ]
  },
  {
   "cell_type": "code",
   "execution_count": null,
   "metadata": {},
   "outputs": [],
   "source": [
    "viz.phase_field.phase_field_hysteresis(Phase_field_information, printing)"
   ]
  }
 ],
 "metadata": {
  "kernelspec": {
   "display_name": "Python 3",
   "language": "python",
   "name": "python3"
  },
  "language_info": {
   "codemirror_mode": {
    "name": "ipython",
    "version": 3
   },
   "file_extension": ".py",
   "mimetype": "text/x-python",
   "name": "python",
   "nbconvert_exporter": "python",
   "pygments_lexer": "ipython3",
   "version": "3.6.6"
  }
 },
 "nbformat": 4,
 "nbformat_minor": 2
}
